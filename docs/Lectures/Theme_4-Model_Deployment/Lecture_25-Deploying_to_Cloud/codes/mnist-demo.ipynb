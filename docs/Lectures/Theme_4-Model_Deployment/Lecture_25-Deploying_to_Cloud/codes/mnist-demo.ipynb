{
 "cells": [
  {
   "cell_type": "code",
   "execution_count": 1,
   "id": "de34a662-17a9-47cf-b7de-ede6032aba89",
   "metadata": {
    "tags": []
   },
   "outputs": [
    {
     "name": "stderr",
     "output_type": "stream",
     "text": [
      "2024-12-03 19:36:33.540898: E external/local_xla/xla/stream_executor/cuda/cuda_fft.cc:485] Unable to register cuFFT factory: Attempting to register factory for plugin cuFFT when one has already been registered\n",
      "2024-12-03 19:36:33.561434: E external/local_xla/xla/stream_executor/cuda/cuda_dnn.cc:8454] Unable to register cuDNN factory: Attempting to register factory for plugin cuDNN when one has already been registered\n",
      "2024-12-03 19:36:33.567801: E external/local_xla/xla/stream_executor/cuda/cuda_blas.cc:1452] Unable to register cuBLAS factory: Attempting to register factory for plugin cuBLAS when one has already been registered\n",
      "2024-12-03 19:36:33.583339: I tensorflow/core/platform/cpu_feature_guard.cc:210] This TensorFlow binary is optimized to use available CPU instructions in performance-critical operations.\n",
      "To enable the following instructions: AVX2 FMA, in other operations, rebuild TensorFlow with the appropriate compiler flags.\n",
      "2024-12-03 19:36:34.406391: W tensorflow/compiler/tf2tensorrt/utils/py_utils.cc:38] TF-TRT Warning: Could not find TensorRT\n"
     ]
    }
   ],
   "source": [
    "# Import libraries\n",
    "import urllib.request\n",
    "import tensorflow as tf\n",
    "from tensorflow import keras\n",
    "from keras.datasets import mnist\n",
    "from keras.models import Model\n",
    "from keras.layers import Input, Dense, Dropout, Flatten, Conv2D, MaxPooling2D\n",
    "import numpy as np\n",
    "import matplotlib.pyplot as plt"
   ]
  },
  {
   "cell_type": "code",
   "execution_count": 2,
   "id": "fcf7a511-f23e-4528-8b02-9223c327999c",
   "metadata": {
    "tags": []
   },
   "outputs": [
    {
     "name": "stdout",
     "output_type": "stream",
     "text": [
      "Data shape: (60000, 28, 28)\n"
     ]
    }
   ],
   "source": [
    "# Load the data\n",
    "(X_train, y_train), (X_test, y_test) = mnist.load_data()\n",
    "\n",
    "print('Data shape:', X_train.shape)"
   ]
  },
  {
   "cell_type": "code",
   "execution_count": 3,
   "id": "5cd3eb86-2c7d-442c-a95b-c86cc8829a4b",
   "metadata": {
    "tags": []
   },
   "outputs": [
    {
     "data": {
      "image/png": "[encoded data removed]",
      "text/plain": [
       "<Figure size 1600x1600 with 10 Axes>"
      ]
     },
     "metadata": {},
     "output_type": "display_data"
    }
   ],
   "source": [
    "# Show images and labels\n",
    "def show_images(images, labels):\n",
    "    images_cnt = len(images)\n",
    "    assert images_cnt <= 10, f\"Number of images cannot exceed 10. The provided list has {images_cnt} elements.\"\n",
    "    assert images_cnt == len(labels), f\"Number of images ({images_cnt}) should be equal to number of labels ({len(labels)})\"\n",
    "    f, axarr = plt.subplots(nrows=1, ncols=images_cnt, figsize=(16,16))\n",
    "    for idx in range(images_cnt):\n",
    "        img = images[idx]\n",
    "        lab = labels[idx]\n",
    "        axarr[idx].imshow(img, cmap='gray_r')\n",
    "        axarr[idx].title.set_text(lab)\n",
    "        axarr[idx].axis('off')\n",
    "\n",
    "    plt.show()   \n",
    "    \n",
    "show_images(X_train[:10], y_train[:10])"
   ]
  },
  {
   "cell_type": "code",
   "execution_count": 4,
   "id": "ebe13b4c-4c13-4855-9d64-54d48a2c812d",
   "metadata": {
    "tags": []
   },
   "outputs": [
    {
     "name": "stderr",
     "output_type": "stream",
     "text": [
      "2024-12-03 19:36:57.135512: I tensorflow/core/common_runtime/gpu/gpu_device.cc:2021] Created device /job:localhost/replica:0/task:0/device:GPU:0 with 14793 MB memory:  -> device: 0, name: Tesla T4, pci bus id: 0001:00:00.0, compute capability: 7.5\n"
     ]
    }
   ],
   "source": [
    "# Define the layers in the model\n",
    "inputs = Input(shape=(28, 28, 1))\n",
    "conv1a = Conv2D(filters=32, kernel_size=3, padding='same')(inputs)\n",
    "conv1b = Conv2D(filters=64, kernel_size=3, padding='same')(conv1a)\n",
    "pool1 = MaxPooling2D()(conv1b)\n",
    "flat = Flatten()(pool1)\n",
    "dense1 = Dense(1024, activation='relu')(flat)\n",
    "dropout1 = Dropout(0.5)(dense1)\n",
    "outputs = Dense(10, activation='softmax')(dropout1)\n",
    "\n",
    "# Define the model with inputs and outputs\n",
    "model = Model(inputs, outputs)"
   ]
  },
  {
   "cell_type": "code",
   "execution_count": 5,
   "id": "36580ce9-b6b4-43a5-af05-d61f00cb119a",
   "metadata": {
    "tags": []
   },
   "outputs": [],
   "source": [
    "# Compile the model\n",
    "model.compile(optimizer=\"adam\", loss='sparse_categorical_crossentropy', metrics=[\"accuracy\"])"
   ]
  },
  {
   "cell_type": "code",
   "execution_count": 6,
   "id": "6a4a3e01-56bf-4c9a-af31-02c86acd6367",
   "metadata": {},
   "outputs": [],
   "source": [
    "# Prepare Azure ML Job\n",
    "from azureml.core import Workspace, Experiment\n",
    "\n",
    "# Create an instance of the Workspace class using the subscription information\n",
    "ws = Workspace(\n",
    "    subscription_id=\"4146a64a-b6f1-4f69-86c4-c662a18fda06\",\n",
    "    resource_group=\"vakanski-rg\",\n",
    "    workspace_name=\"My_workspace_2\",\n",
    ")\n",
    "\n",
    "# Create an Azure ML experiment within the workspace \"ws\"\n",
    "experiment = Experiment(ws, \"demo-mnist_training\")"
   ]
  },
  {
   "cell_type": "code",
   "execution_count": 7,
   "id": "c9eb1d1d-0f38-4074-a74a-d4556b14ef9e",
   "metadata": {
    "tags": []
   },
   "outputs": [
    {
     "name": "stdout",
     "output_type": "stream",
     "text": [
      "Epoch 1/5\n"
     ]
    },
    {
     "name": "stderr",
     "output_type": "stream",
     "text": [
      "WARNING: All log messages before absl::InitializeLog() is called are written to STDERR\n",
      "I0000 00:00:1733254689.236624    4141 service.cc:146] XLA service 0x7f003c005bf0 initialized for platform CUDA (this does not guarantee that XLA will be used). Devices:\n",
      "I0000 00:00:1733254689.236652    4141 service.cc:154]   StreamExecutor device (0): Tesla T4, Compute Capability 7.5\n",
      "2024-12-03 19:38:09.263542: I tensorflow/compiler/mlir/tensorflow/utils/dump_mlir_util.cc:268] disabling MLIR crash reproducer, set env var `MLIR_CRASH_REPRODUCER_DIRECTORY` to enable.\n",
      "2024-12-03 19:38:09.396759: I external/local_xla/xla/stream_executor/cuda/cuda_dnn.cc:531] Loaded cuDNN version 8907\n"
     ]
    },
    {
     "name": "stdout",
     "output_type": "stream",
     "text": [
      "\u001b[1m  42/1875\u001b[0m \u001b[37m━━━━━━━━━━━━━━━━━━━━\u001b[0m \u001b[1m7s\u001b[0m 4ms/step - accuracy: 0.5000 - loss: 49.1273  "
     ]
    },
    {
     "name": "stderr",
     "output_type": "stream",
     "text": [
      "I0000 00:00:1733254691.161159    4141 device_compiler.h:188] Compiled cluster using XLA!  This line is logged at most once for the lifetime of the process.\n"
     ]
    },
    {
     "name": "stdout",
     "output_type": "stream",
     "text": [
      "\u001b[1m1875/1875\u001b[0m \u001b[32m━━━━━━━━━━━━━━━━━━━━\u001b[0m\u001b[37m\u001b[0m \u001b[1m10s\u001b[0m 4ms/step - accuracy: 0.8556 - loss: 4.2539\n",
      "Epoch 2/5\n",
      "\u001b[1m1875/1875\u001b[0m \u001b[32m━━━━━━━━━━━━━━━━━━━━\u001b[0m\u001b[37m\u001b[0m \u001b[1m7s\u001b[0m 4ms/step - accuracy: 0.9214 - loss: 0.3819\n",
      "Epoch 3/5\n",
      "\u001b[1m1875/1875\u001b[0m \u001b[32m━━━━━━━━━━━━━━━━━━━━\u001b[0m\u001b[37m\u001b[0m \u001b[1m7s\u001b[0m 4ms/step - accuracy: 0.9220 - loss: 0.3726\n",
      "Epoch 4/5\n",
      "\u001b[1m1875/1875\u001b[0m \u001b[32m━━━━━━━━━━━━━━━━━━━━\u001b[0m\u001b[37m\u001b[0m \u001b[1m7s\u001b[0m 4ms/step - accuracy: 0.9189 - loss: 0.3941\n",
      "Epoch 5/5\n",
      "\u001b[1m1875/1875\u001b[0m \u001b[32m━━━━━━━━━━━━━━━━━━━━\u001b[0m\u001b[37m\u001b[0m \u001b[1m7s\u001b[0m 4ms/step - accuracy: 0.9283 - loss: 0.3491\n"
     ]
    },
    {
     "data": {
      "text/plain": [
       "<keras.src.callbacks.history.History at 0x7f00dc7015a0>"
      ]
     },
     "execution_count": 7,
     "metadata": {},
     "output_type": "execute_result"
    }
   ],
   "source": [
    "# Train the model\n",
    "model.fit(X_train, y_train, epochs=5)"
   ]
  },
  {
   "cell_type": "code",
   "execution_count": 8,
   "id": "815ee9c0-dbfe-4750-af17-f73f5a02be30",
   "metadata": {
    "tags": []
   },
   "outputs": [
    {
     "name": "stderr",
     "output_type": "stream",
     "text": [
      "WARNING:absl:You are saving your model as an HDF5 file via `model.save()` or `keras.saving.save_model(model)`. This file format is considered legacy. We recommend using instead the native Keras format, e.g. `model.save('my_model.keras')` or `keras.saving.save_model(model, 'my_model.keras')`. \n"
     ]
    }
   ],
   "source": [
    "# Save the model\n",
    "model.save('mnist-tf-model.h5')"
   ]
  },
  {
   "cell_type": "code",
   "execution_count": 9,
   "id": "20a8acf7-48c4-43a0-a627-ce9e983975a0",
   "metadata": {
    "tags": []
   },
   "outputs": [
    {
     "name": "stdout",
     "output_type": "stream",
     "text": [
      "Registering model mnist-tf-model\n"
     ]
    }
   ],
   "source": [
    "# Register the model\n",
    "from azureml.core.model import Model\n",
    "\n",
    "registered_model = Model.register(\n",
    "    workspace=ws,\n",
    "    model_name='mnist-tf-model',\n",
    "    model_path='mnist-tf-model.h5',\n",
    "    model_framework=Model.Framework.TENSORFLOW,\n",
    "    model_framework_version=tf.__version__)"
   ]
  },
  {
   "cell_type": "code",
   "execution_count": 10,
   "id": "41f8e533-dd62-4642-b951-8f6c7d882ffe",
   "metadata": {
    "tags": []
   },
   "outputs": [
    {
     "name": "stderr",
     "output_type": "stream",
     "text": [
      "WARNING:absl:Compiled the loaded model, but the compiled metrics have yet to be built. `model.compile_metrics` will be empty until you train or evaluate the model.\n"
     ]
    }
   ],
   "source": [
    "# load the registered model\n",
    "aml_model = Model(workspace=ws, name='mnist-tf-model', version=registered_model.version)\n",
    "\n",
    "downloaded_model_filename = aml_model.download(exist_ok=True)\n",
    "\n",
    "downloaded_model = tf.keras.models.load_model(downloaded_model_filename)"
   ]
  },
  {
   "cell_type": "code",
   "execution_count": 11,
   "id": "9e287541-ce00-4b47-8bc6-298e1ead1b80",
   "metadata": {
    "tags": []
   },
   "outputs": [
    {
     "name": "stdout",
     "output_type": "stream",
     "text": [
      "\u001b[1m313/313\u001b[0m \u001b[32m━━━━━━━━━━━━━━━━━━━━\u001b[0m\u001b[37m\u001b[0m \u001b[1m1s\u001b[0m 3ms/step - accuracy: 0.9492 - loss: 0.2576\n"
     ]
    },
    {
     "data": {
      "text/plain": [
       "[0.21805879473686218, 0.9577999711036682]"
      ]
     },
     "execution_count": 11,
     "metadata": {},
     "output_type": "execute_result"
    }
   ],
   "source": [
    "# Evaluate the model\n",
    "downloaded_model.evaluate(X_test, y_test)"
   ]
  },
  {
   "cell_type": "code",
   "execution_count": 12,
   "id": "bb08d73e-6a9f-40e7-bb91-9d6b97cf5900",
   "metadata": {
    "tags": []
   },
   "outputs": [
    {
     "name": "stdout",
     "output_type": "stream",
     "text": [
      "\u001b[1m313/313\u001b[0m \u001b[32m━━━━━━━━━━━━━━━━━━━━\u001b[0m\u001b[37m\u001b[0m \u001b[1m1s\u001b[0m 2ms/step\n"
     ]
    },
    {
     "data": {
      "image/png": "[encoded data removed]",
      "text/plain": [
       "<Figure size 1600x1600 with 10 Axes>"
      ]
     },
     "metadata": {},
     "output_type": "display_data"
    }
   ],
   "source": [
    "# Predict the labels of test images\n",
    "preds = downloaded_model.predict(X_test).argmax(axis=1)\n",
    "\n",
    "show_images(X_test[:10], preds[:10])"
   ]
  }
 ],
 "metadata": {
  "kernelspec": {
   "display_name": "Python 3 (ipykernel)",
   "language": "python",
   "name": "python3"
  },
  "language_info": {
   "codemirror_mode": {
    "name": "ipython",
    "version": 3
   },
   "file_extension": ".py",
   "mimetype": "text/x-python",
   "name": "python",
   "nbconvert_exporter": "python",
   "pygments_lexer": "ipython3",
   "version": "3.11.5"
  }
 },
 "nbformat": 4,
 "nbformat_minor": 5
}
