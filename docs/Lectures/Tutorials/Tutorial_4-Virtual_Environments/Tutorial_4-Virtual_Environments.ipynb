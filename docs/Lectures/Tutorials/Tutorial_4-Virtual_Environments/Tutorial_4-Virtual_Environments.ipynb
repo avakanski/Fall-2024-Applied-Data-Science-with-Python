{
 "cells": [
  {
   "cell_type": "markdown",
   "id": "4af86da0-f38d-462f-beb4-e904c4a8ae8c",
   "metadata": {
    "tags": []
   },
   "source": [
    "# Tutorial 4 - Virtual Environments"
   ]
  },
  {
   "cell_type": "markdown",
   "id": "7e944bab-fa36-484f-be2a-624716cf5cd1",
   "metadata": {},
   "source": [
    "[![View notebook on Github](https://img.shields.io/static/v1.svg?logo=github&label=Repo&message=View%20On%20Github&color=lightgrey)](https://github.com/avakanski/Fall-2024-Applied-Data-Science-with-Python/blob/main/docs/Lectures/Tutorials/Tutorial_4-Virtual_Environments/Tutorial_4-Virtual_Environments.ipynb)\n",
    "[![Open In Collab](https://colab.research.google.com/assets/colab-badge.svg)](https://colab.research.google.com/github/avakanski/Fall-2024-Applied-Data-Science-with-Python/blob/main/docs/Lectures/Tutorials/Tutorial_4-Virtual_Environments/Tutorial_4-Virtual_Environments.ipynb)  "
   ]
  },
  {
   "cell_type": "markdown",
   "id": "3fe2d54d-463e-4ec7-8543-5b47d42e12c8",
   "metadata": {},
   "source": [
    "<a id='top'></a>"
   ]
  },
  {
   "cell_type": "markdown",
   "id": "182c44d2",
   "metadata": {},
   "source": [
    "A **virtual environment** is a tool that helps to keep dependencies required by different projects separate by creating isolated Python virtual environments for them. Virtual environments create containers for each project, so that the Python interpreter, libraries, and scripts installed in one virtual environment are isolated from those installed in other virtual environments, as well as they are isolated from the libraries and packages that are installed in the main Python installation. \n",
    "\n",
    "Therefore, where we create and activate a virtual environment for a specific project, the project becomes an independent application, which is isolated from the system-installed Python and from all other Python libraries. This project-specific virtual environment provides its own Python interpreter, and its own pip to install libraries, separated from other Python libraries.  \n",
    "\n",
    "By creating and managing separate environments for different projects, there is no chance of breaking currently installed packages in other environments. It also helps with reproducibility among developers and researchers working on large projects. For instance, if you have several different projects with their own virtual environments, they can have different versions of a library: for example, one project can use TensorFlow 1.12, and another can use TensorFlow 2.5. This way, we won't worry whether an update to the TensorFlow library in the main system-installed Python would impact the code in all our projects.\n",
    "\n",
    "There are several tools for managing virtual environments. Python 3.3 provides a standard module `venv`, which is most commonly used for managing virtual environments. It allows to manage separate package versions for different projects. When creating a new project, we can simply create a new virtual environment. \n",
    "\n",
    "- The full official documentation for `venv` can be found [here](https://docs.python.org/3/library/venv.html)\n",
    "- The full official user guide for `venv` can be found [here](https://packaging.python.org/en/latest/guides/installing-using-pip-and-virtual-environments/#creating-a-virtual-environment)\n",
    "- The PEP proposal for `venv` can be found [here](https://peps.python.org/pep-0405/)\n",
    "\n",
    "If you are looking for practical examples, it is recommended to consult the user guide. However, if you are looking for more information about specific details of `venv`, consulting the full documentation is recommended."
   ]
  },
  {
   "cell_type": "markdown",
   "id": "cacf2b06",
   "metadata": {},
   "source": [
    "**Installing venv**\n",
    "\n",
    "The module `venv` should be included in the standard Python library. \n",
    "\n",
    "If for some reason it is not available on Linux Systems, you will need to install the python3-venv package using the following command :\n",
    "\n",
    "`sudo apt install python3-venv` (Ubuntu/Debian-based system)"
   ]
  },
  {
   "cell_type": "markdown",
   "id": "be0ccb1b-bb7b-4af6-a91e-7642107ab73b",
   "metadata": {
    "tags": []
   },
   "source": [
    "## Creating a Virtual Environment\n",
    "\n",
    "To create a virtual environment called `test_env`, run the following command:\n",
    "\n",
    "`python3 -m venv path_to_new_virtual_environment/test_env` (in Unix/MacOS)\n",
    "\n",
    "`python -m venv path_to_new_virtual_environment\\test_env` (in Windows)\n",
    "\n",
    "If we want to create a virtual environment in the current working directory, we can omit the `path_to_new_virtual_environment` in the above code.\n",
    "\n",
    "<img src=\"images/venv_cmd.png\" width=\"350\">"
   ]
  },
  {
   "cell_type": "markdown",
   "id": "9521c82b",
   "metadata": {},
   "source": [
    "<img src=\"images/test_env.png\" width=\"400\">"
   ]
  },
  {
   "cell_type": "markdown",
   "id": "04d09c54",
   "metadata": {},
   "source": [
    "### Activating a Virtual Environment\n",
    "\n",
    "Before we can start installing packages in the virtual environment, we must activate it. Doing so will put the virtual environment-specific Python and pip executables in your shell's `PATH`.\n",
    "\n",
    "To activate a virtual environment `test_env`, run the following command: \n",
    "\n",
    "`source path_to_virtual_environment/test_env/bin/activate` (in Unix/MacOS)\n",
    "\n",
    "`path_to_virtual_environment\\test_env\\Scripts\\activate` (in Windows)\n",
    "\n",
    "If you are in the same directory where the virtual environment is located, you don't need to specify the path to the virtual environment, and you can just use `test_env/bin/activate` or `test_env\\Scripts\\activate`.\n",
    "\n",
    "<img src=\"images/activate_env.png\" width=\"350\">"
   ]
  },
  {
   "cell_type": "markdown",
   "id": "dcf0bf73",
   "metadata": {},
   "source": [
    "\n",
    "To confirm that the virtual environment has been activated you can check the location of your Python interpreter:\n",
    "\n",
    "`which python` or `whereis python` (in Unix/MacOS)\n",
    "\n",
    "`where python` (in Windows)\n",
    "\n",
    "As long as the environment is active, you'll be able to import packages installed in the environment.\n",
    "\n",
    "To leave the environment run:\n",
    "\n",
    "`deactivate`\n",
    "\n",
    "<img src=\"images/deactivate_env.png\" width=\"350\">"
   ]
  },
  {
   "cell_type": "markdown",
   "id": "17c004ef",
   "metadata": {},
   "source": [
    "### Installing Packages\n",
    "\n",
    "To install packages, first make sure that the environment is active. Installing packages is done simply with with `pip`, as you would normally install packages. For example, to install `requests` (a popular  library for making HTTP requests):\n",
    "\n",
    "`python3 -m pip install requests` (in Unix/MacOS)\n",
    "\n",
    "`pip install requests` (in Windows)\n",
    "\n",
    "To check the list of all packages installed in the newly created virtual environment, use:\n",
    "\n",
    "`pip list`\n",
    "\n",
    "Similarly, we can generate a text file listing all installed libraries in a virtual environment with:\n",
    "\n",
    "`pip freeze > requirements.txt`\n",
    "\n",
    "This can be convenient, because if other users would like to replicate your virtual environment, instead of installing all libraries one by one, they can just run:\n",
    "\n",
    "`pip install -r requirements.txt`"
   ]
  },
  {
   "cell_type": "markdown",
   "id": "1de89109",
   "metadata": {},
   "source": [
    "## Conda Environment \n",
    "\n",
    "`Conda Env` is a self-contained and isolated workspace within the Conda package management system, similar to `venv`. It allows to create and manage specific environments for different projects or applications, each with its own set of packages and dependencies. \n",
    "\n",
    "The full official documentation for `Conda Env` can be found [here](https://conda.io/projects/conda/en/latest/user-guide/tasks/manage-environments.html#creating-an-environment-with-commands).\n",
    "\n",
    "`Conda Env` is pre-installed with Anaconda."
   ]
  },
  {
   "cell_type": "markdown",
   "id": "f9b2614f",
   "metadata": {},
   "source": [
    "### Creating a `Conda Env` with Commands\n",
    "\n",
    "1) Open the terminal or an Anaconda Prompt.\n",
    "2) Type: `conda create --n myenv` (or you can specify the python version: `conda create -n myenv python=3.9`).\n",
    "3) Type `y` to proceed.\n",
    "\n",
    "<img src=\"images/conda_env.png\" width=\"450\">"
   ]
  },
  {
   "cell_type": "markdown",
   "id": "b77ea692",
   "metadata": {},
   "source": [
    "To activate a `Conda Env`, type:\n",
    "\n",
    "`conda activate myenv`\n",
    "\n",
    "To list all installed conda environments, type: \n",
    "\n",
    "`conda env list`\n",
    "\n",
    "To activate the base conda environment from the command prompt in Windows, just type:\n",
    "\n",
    "`conda activate`\n",
    "\n",
    "To deactivate the `Conda Env` you are in, type:\n",
    "\n",
    "`conda deactivate`\n",
    "\n",
    "<img src=\"images/conda_act.png\" width=\"350\">"
   ]
  },
  {
   "cell_type": "markdown",
   "id": "5f79c74d",
   "metadata": {},
   "source": [
    "### Install Packages in a Conda Env\n",
    "\n",
    "To install `scikit-learn`, for example, using Conda commands, type:\n",
    "\n",
    "`conda install -c anaconda scikit-learn`\n",
    " \n",
    "Or, you can use `pip install` as in: \n",
    "\n",
    "`pip install -U scikit-learn`\n",
    "\n",
    "The main difference between using `conda install` and `pip install` is in the dependency resolution approach.\n",
    "\n",
    "* `conda install`: conda has a more powerful dependency resolution mechanism. It ensures that all dependencies (both Python and non-Python) are compatible with each other.\n",
    "It often prevents conflicting versions by resolving the entire environment when installing or updating packages.\n",
    "* `pip install`: pip only handles Python dependencies and doesn’t handle system or non-Python libraries.\n",
    "Installing packages with pip can sometimes result in dependency conflicts, especially if different packages require incompatible versions of the same dependency."
   ]
  },
  {
   "cell_type": "markdown",
   "id": "f53041d5-b029-48c6-8759-085e68f74fbd",
   "metadata": {
    "tags": []
   },
   "source": [
    "[BACK TO TOP](#top)"
   ]
  }
 ],
 "metadata": {
  "kernelspec": {
   "display_name": "Python 3 (ipykernel)",
   "language": "python",
   "name": "python3"
  },
  "language_info": {
   "codemirror_mode": {
    "name": "ipython",
    "version": 3
   },
   "file_extension": ".py",
   "mimetype": "text/x-python",
   "name": "python",
   "nbconvert_exporter": "python",
   "pygments_lexer": "ipython3",
   "version": "3.11.5"
  }
 },
 "nbformat": 4,
 "nbformat_minor": 5
}
