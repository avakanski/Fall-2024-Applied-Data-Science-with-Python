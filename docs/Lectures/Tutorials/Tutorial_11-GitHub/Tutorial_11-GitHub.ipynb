{
 "cells": [
  {
   "cell_type": "markdown",
   "id": "78036cbb-46b6-46a3-a185-496ce5829fbc",
   "metadata": {
    "tags": []
   },
   "source": [
    "# Tutorial 11 - GitHub"
   ]
  },
  {
   "cell_type": "markdown",
   "id": "efbbff24-6f3d-410f-b106-396b9d52859e",
   "metadata": {},
   "source": [
    "[![View notebook on Github](https://img.shields.io/static/v1.svg?logo=github&label=Repo&message=View%20On%20Github&color=lightgrey)](https://github.com/avakanski/Fall-2024-Applied-Data-Science-with-Python/blob/main/docs/Lectures/Tutorials/Tutorial_11-GitHub/Tutorial_11-GitHub.ipynb)\n",
    "[![Open In Collab](https://colab.research.google.com/assets/colab-badge.svg)](https://colab.research.google.com/github/avakanski/Fall-2024-Applied-Data-Science-with-Python/blob/main/docs/Lectures/Tutorials/Tutorial_11-GitHub/Tutorial_11-GitHub.ipynb)"
   ]
  },
  {
   "cell_type": "markdown",
   "id": "50c579ee-0249-4622-86c0-fa05ccf16983",
   "metadata": {
    "tags": []
   },
   "source": [
    "<a id='top'></a>"
   ]
  },
  {
   "cell_type": "markdown",
   "id": "d7a91048",
   "metadata": {
    "tags": []
   },
   "source": [
    "## Overview \n",
    "\n",
    "**Git** is a distributed version control system (DVCS) that allows developers to track changes in their code over time. It was created by Linus Torvalds in 2005 and is widely used for managing source code for software projects. Git enables multiple developers to work on a project simultaneously and independently, and it tracks changes made by each contributor. It provides features such as branching, merging, and history tracking.\n",
    "\n",
    "With Git, each developer has a local copy of the entire project history. Developers can work offline, commit changes locally, and then synchronize with a central repository later.\n",
    "\n",
    "Key features of Git include:\n",
    "\n",
    "- Manage projects with repositories\n",
    "- Clone a project to work on a local copy\n",
    "- Control and track changes with staging and committing\n",
    "- Branch and merge for working on different parts and versions of a project\n",
    "- Pull the latest version of the project to a local copy\n",
    "- Push local updates to the main project\n",
    "\n",
    "A **repository** is typically used to organize a single project. Repositories can contain folders and files, images, videos, spreadsheets, and data sets. I.e., they can contain anything your project needs. Repositories typically include a README file that provides information about the project. README files are written in plain text Markdown language."
   ]
  },
  {
   "cell_type": "markdown",
   "id": "23ffd4fe-6c25-421c-b2ec-26fe209e6551",
   "metadata": {},
   "source": [
    "**GitHub** is a web-based platform that provides hosting for Git repositories. It offers a graphical interface for managing Git repositories, collaboration features, and additional tools for project management. GitHub allows multiple developers to collaborate on a project, track issues, and manage pull requests.\n",
    "\n",
    "Key features of GitHub are:\n",
    "\n",
    "- Repository hosting: GitHub provides a place to store and manage Git repositories.\n",
    "- Collaboration: Developers can collaborate on projects by forking repositories, making changes, and submitting pull requests.\n",
    "- Issue Tracking: GitHub includes an issue-tracking system for managing bugs, feature requests, and other tasks.\n",
    "- Pull Requests: Developers can propose changes to a project by submitting pull requests, which can be reviewed and merged by project maintainers.\n",
    "- Web-based interface: GitHub provides a user-friendly web interface for interacting with Git repositories.\n",
    "\n",
    "To summarize, Git serves as the version control system enabling developers to monitor code changes, whereas GitHub functions as a web-based platform offering hosting for Git repositories along with extra collaboration tools."
   ]
  },
  {
   "cell_type": "markdown",
   "id": "7eb74e4e",
   "metadata": {},
   "source": [
    "## Working with GitHub\n",
    "\n",
    "Step 1: Sign up for a GitHub account: [link](https://github.com/)"
   ]
  },
  {
   "cell_type": "markdown",
   "id": "9ec0fbd7",
   "metadata": {},
   "source": [
    "Step 2: Create a Repository on GitHub by clicking on the \"New repository\" button shown below in the upper right corner. Then, fill in the relevant details. You can set the repository as \"Public\" or \"Private\". You also have options to add a README file, or choose a license for your repository. Click the \"Create Repository\" button to finish the creation process."
   ]
  },
  {
   "cell_type": "markdown",
   "id": "b58a66b0",
   "metadata": {},
   "source": [
    "<img width=\"850\" src=\"images/img1.png\">"
   ]
  },
  {
   "cell_type": "markdown",
   "id": "30291a41",
   "metadata": {},
   "source": [
    "<img width=\"850\" src=\"images/img2.png\">"
   ]
  },
  {
   "cell_type": "markdown",
   "id": "68089fb7",
   "metadata": {},
   "source": [
    "Step 3: Create a **branch**. By default, a repository comes with a primary branch called `\"main\"`, which serves as the authoritative branch. We have the option to establish additional branches stemming from the main branch within the repository. The creation of branches allows for the simultaneous existence of various versions of a project. This proves beneficial when incorporating new features into a project without altering the primary source code. Changes made in different branches remain isolated from the main branch until a later stage when merging is addressed. Branches provide a space for experimentation and editing before finalizing changes \n",
    "and committing them to the main branch.\n",
    "\n",
    "When branching off the main branch, we essentially create a duplicate or snapshot of the main branch as it existed at that specific moment. If someone else modifies the main branch while you are developing your branch, you have the option to incorporate those updates."
   ]
  },
  {
   "cell_type": "markdown",
   "id": "330cb641",
   "metadata": {},
   "source": [
    "To create a new Branch, type in a descriptive name in the field below, and click Create Branch. In the following figure, the name of the new branch name is `test2`.\n",
    "\n",
    "<img width=\"850\" src=\"images/img4.png\">"
   ]
  },
  {
   "cell_type": "markdown",
   "id": "9560da6b",
   "metadata": {},
   "source": [
    "An example of a flow diagram for making changes to a branch is depicted next, showing the `'main'` branch, a new branch called `'feature'`, and the path of the `'feature'` branch before it is merged into the `'main'` branch.\n",
    "\n",
    "<img width=\"850\" src=\"images/img3.webp\">"
   ]
  },
  {
   "cell_type": "markdown",
   "id": "1e34c0ed",
   "metadata": {},
   "source": [
    "### Making and Committing Changes\n",
    "\n",
    "We can make and save changes to the files in a repository. On GitHub, the saved changes are called **commits**. Each commit has an associated commit message, which is a description explaining why a particular change was made. Commit messages capture the history of the changes, so that other contributors can understand what you have done and why.\n",
    "\n",
    "For instance, to edit the `README.md` file, we can follow these steps:\n",
    "\n",
    "1) Under the branch we created, click the `README.md` file.\n",
    "2) To edit the file, click on the Edit (pencil) button.\n",
    "3) In the editor, write some text about the repository. \n",
    "4) Click \"Commit Changes....\"\n",
    "5) In the \"Commit Changes\" box, write a commit message that describes the changes.\n",
    "6) Click \"Commit Changes\"."
   ]
  },
  {
   "cell_type": "markdown",
   "id": "1143408e",
   "metadata": {},
   "source": [
    "### Opening a pull request\n",
    "\n",
    "**Pull requests** are the main form of collaboration on GitHub. When you open a pull request, you are proposing your changes and requesting that someone review and pull in your contribution and merge them into their branch. Pull requests show the differences in the content from both branches. The changes, additions, and subtractions are shown in different colors.\n",
    "\n",
    "As soon as you make a commit, you can open a pull request and start a discussion, even before the code is finished. By using GitHub's @mention feature in the pull request message, you can ask for feedback from specific people or teams, whether they are down the hall or 10 time zones away.\n",
    "\n",
    "You can even open pull requests in your own repository and merge them yourself. It's a great way to learn the GitHub flow before working on larger projects.\n",
    "\n",
    "To create a pull request:\n",
    "\n",
    "1) Click the Pull Requests tab of the repository.\n",
    "2) Click New pull request.\n",
    "3) In the Example Comparisons box, select the branch you made to compare with the main (the original).\n",
    "4) Look over your changes in the diffs on the Compare page, make sure they are what you want to submit.\n",
    "5) Click Create Pull Request.\n",
    "6) Give your pull request a title and write a brief description of your changes. You can include emojis and drag and drop images and gifs.\n",
    "7) Optionally, to the right of your title and description, click the button next to Reviewers, Assignees, Labels, Projects, or Milestone to add any of these options to your pull request. You do not need to add any, but these options offer different ways to collaborate using pull requests. \n",
    "8) Click Create Pull Request."
   ]
  },
  {
   "cell_type": "markdown",
   "id": "aaf66b2e",
   "metadata": {},
   "source": [
    "### Merging a Pull Request\n",
    "\n",
    "In this final step, you will merge your branch into the main branch. After you merge your pull request, the changes on your branch will be incorporated into main.\n",
    "\n",
    "Sometimes, a pull request may introduce changes to code that conflict with the existing code on main. If there are any conflicts, GitHub will alert you about the conflicting code and prevent merging until the conflicts are resolved. You can make a commit that resolves the conflicts or use comments in the pull request to discuss the conflicts with your team members.\n",
    "\n",
    "To merge your branch into the main branch:\n",
    "\n",
    "1) At the bottom of the pull request, click Merge Pull Request to merge the changes into main.\n",
    "2) Click Confirm Merge. You will receive a message that the request was successfully merged and the request was closed.\n",
    "3) Click Delete Branch. Now that your pull request is merged and your changes are on main, you can safely delete the readme-edits branch. If you want to make more changes to your project, you can always create a new branch and repeat this process."
   ]
  },
  {
   "cell_type": "markdown",
   "id": "04d3f4d0",
   "metadata": {},
   "source": [
    "### Working with a Local Git Repository\n",
    "\n",
    "1) Download and install Git from [link](https://git-scm.com/downloads) \n",
    "\n",
    "2) Specify your Git information:\n",
    "\n",
    "        git config --global user.name \"username\"\n",
    "        git config --global user.email \"youremailaddress"
   ]
  },
  {
   "cell_type": "markdown",
   "id": "47e5a9ed-e75c-4f3b-bdfa-a4e8d90a84b8",
   "metadata": {
    "tags": []
   },
   "source": [
    "3) Create a local Git folder:\n",
    "\n",
    "        mkdir myproject"
   ]
  },
  {
   "cell_type": "markdown",
   "id": "aa5f0903-143d-4b80-a059-ea8a576ecb70",
   "metadata": {
    "tags": []
   },
   "source": [
    "4) Initialize Git:\n",
    "        \n",
    "        git init"
   ]
  },
  {
   "cell_type": "markdown",
   "id": "35bb84b6",
   "metadata": {},
   "source": [
    "**Pull Request** \n",
    "    \n",
    "5) Pull from Github with \"Fetch\" and \"Merge\":\n",
    "\n",
    "        git fetch origin \n",
    "        git merge origin/master    \n",
    "        \n",
    "6) Simple Pull request (combination of Fetch and Merge):\n",
    "\n",
    "        git pull origin\n",
    "    \n",
    "**Push your code from a local folder to Github:**\n",
    "\n",
    "    git push origin"
   ]
  },
  {
   "cell_type": "markdown",
   "id": "bbc4313f",
   "metadata": {},
   "source": [
    "### References\n",
    "\n",
    "1) Hello world. GitHub Docs. (n.d.). https://docs.github.com/en/get-started/quickstart/hello-world\n",
    "2) H. F., Campion. An intro to Git and GitHub for beginners (tutorial). HubSpot Careers. https://product.hubspot.com/blog/git-and-github-tutorial-for-beginners \n",
    "3) Ajibola.Segunemmanuel. (2022, September 27). How to use Git and GitHub – Introduction for Beginners. freeCodeCamp.org. https://www.freecodecamp.org/news/introduction-to-git-and-github/\n",
    "4) Git tutorial. (n.d.). https://www.w3schools.com/git/ "
   ]
  },
  {
   "cell_type": "markdown",
   "id": "c72dbe56-6788-4046-b073-cd68ad712bfb",
   "metadata": {},
   "source": [
    "[BACK TO TOP](#top)"
   ]
  }
 ],
 "metadata": {
  "kernelspec": {
   "display_name": "Python 3 (ipykernel)",
   "language": "python",
   "name": "python3"
  },
  "language_info": {
   "codemirror_mode": {
    "name": "ipython",
    "version": 3
   },
   "file_extension": ".py",
   "mimetype": "text/x-python",
   "name": "python",
   "nbconvert_exporter": "python",
   "pygments_lexer": "ipython3",
   "version": "3.11.5"
  }
 },
 "nbformat": 4,
 "nbformat_minor": 5
}
