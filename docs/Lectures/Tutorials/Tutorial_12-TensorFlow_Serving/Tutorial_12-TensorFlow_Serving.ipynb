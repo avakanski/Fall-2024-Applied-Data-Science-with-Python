{
 "cells": [
  {
   "cell_type": "markdown",
   "id": "182c44d2",
   "metadata": {},
   "source": [
    "# Tutorial 12 - TensorFlow Serving"
   ]
  },
  {
   "cell_type": "markdown",
   "id": "c40e4148-e596-4855-b474-3f96ae65eddf",
   "metadata": {},
   "source": [
    "[![View notebook on Github](https://img.shields.io/static/v1.svg?logo=github&label=Repo&message=View%20On%20Github&color=lightgrey)](https://github.com/avakanski/Fall-2024-Applied-Data-Science-with-Python/blob/main/docs/Lectures/Tutorials/Tutorial_12-TensorFlow_Serving/Tutorial_12-TensorFlow_Serving.ipynb)\n",
    "[![Open In Collab](https://colab.research.google.com/assets/colab-badge.svg)](https://colab.research.google.com/github/avakanski/Fall-2024-Applied-Data-Science-with-Python/blob/main/docs/Lectures/Tutorials/Tutorial_12-TensorFlow_Serving/Tutorial_12-TensorFlow_Serving.ipynb)"
   ]
  },
  {
   "cell_type": "markdown",
   "id": "16505ee5-33ee-4cb1-907f-67ade5b945a8",
   "metadata": {},
   "source": [
    "<a id='top'></a>"
   ]
  },
  {
   "cell_type": "markdown",
   "id": "f6aa84e4-7ae5-4ac8-a66b-94c020db11be",
   "metadata": {},
   "source": [
    "<a id='top'></a>"
   ]
  },
  {
   "cell_type": "markdown",
   "id": "6dc0b898-a27d-4f90-9b2b-9a278cfcf3d2",
   "metadata": {},
   "source": [
    "**TensorFlow Serving** is a specialized library for deploying machine learning models developed with TensorFlow. It facilitates serving TensorFlow models in production via REST APIs or gRPC interfaces. Its key features include model versioning, automatic request batching, and support for canary deployments, simplifying model management and deployment processes.\n",
    "\n",
    "By using TensorFlow Serving, users can deploy TensorFlow models in production without needing to manage the underlying infrastructure or serving complexities. This high-performance, flexible serving system is designed specifically for production use. It enables seamless deployment of new algorithms and experiments while maintaining a consistent server architecture and APIs. While TensorFlow Serving is optimized for TensorFlow models, it can be extended to serve other model types as well."
   ]
  },
  {
   "cell_type": "markdown",
   "id": "d28e6ace",
   "metadata": {},
   "source": [
    "TensorFlow Serving uses Docker to simplify model deployment by providing pre-built images that bundle all dependencies, ensuring consistency across development, testing, and production environments. Docker’s lightweight containers offer isolation and portability, allowing TensorFlow Serving to run efficiently on various platforms without interference with other applications. It supports horizontal scaling, easy updates, and seamless integration with CI/CD pipelines and orchestration tools like Kubernetes. By leveraging Docker, TensorFlow Serving enables resource-efficient, reliable, and flexible model serving while minimizing setup and maintenance complexities."
   ]
  },
  {
   "cell_type": "markdown",
   "id": "9bac3122-540b-4f82-bd56-6d9154b2da1c",
   "metadata": {},
   "source": [
    "## Docker "
   ]
  },
  {
   "cell_type": "markdown",
   "id": "8f4a204d",
   "metadata": {},
   "source": [
    "Docker is an open-source platform that enables the packaging of applications and their dependencies into lightweight, portable, and isolated units called containers. By bundling everything needed to run an application, containers ensure consistent behavior across development, testing, and production environments. Unlike virtual machines, containers share the host operating system, making them faster and more resource-efficient. Docker streamlines deployment, supports scalability, and integrates seamlessly with CI/CD pipelines, making it a preferred tool in modern software development and cloud computing."
   ]
  },
  {
   "cell_type": "markdown",
   "id": "9fd3d2fa-e20b-4e90-93bb-fb0ce44198ed",
   "metadata": {},
   "source": [
    "To install Docker, use:\n",
    "\n",
    "* Linux bash script: `docker pull tensorflow/serving`\n",
    "* In Windows, use this [link]( https://docs.docker.com/desktop/setup/install/windows-install/) to download and install `Docker for Windows`, which integrates with WSL2."
   ]
  },
  {
   "cell_type": "markdown",
   "id": "8de10899",
   "metadata": {},
   "source": [
    "## ML Model Creation"
   ]
  },
  {
   "cell_type": "code",
   "execution_count": 1,
   "id": "c567b004",
   "metadata": {},
   "outputs": [
    {
     "name": "stdout",
     "output_type": "stream",
     "text": [
      "Epoch 1/5\n"
     ]
    },
    {
     "name": "stderr",
     "output_type": "stream",
     "text": [
      "c:\\Users\\LZ\\anaconda3\\envs\\tensorflow\\Lib\\site-packages\\keras\\src\\layers\\reshaping\\flatten.py:37: UserWarning: Do not pass an `input_shape`/`input_dim` argument to a layer. When using Sequential models, prefer using an `Input(shape)` object as the first layer in the model instead.\n",
      "  super().__init__(**kwargs)\n"
     ]
    },
    {
     "name": "stdout",
     "output_type": "stream",
     "text": [
      "\u001b[1m1875/1875\u001b[0m \u001b[32m━━━━━━━━━━━━━━━━━━━━\u001b[0m\u001b[37m\u001b[0m \u001b[1m2s\u001b[0m 879us/step - accuracy: 0.8566 - loss: 0.4912\n",
      "Epoch 2/5\n",
      "\u001b[1m1875/1875\u001b[0m \u001b[32m━━━━━━━━━━━━━━━━━━━━\u001b[0m\u001b[37m\u001b[0m \u001b[1m2s\u001b[0m 855us/step - accuracy: 0.9572 - loss: 0.1442\n",
      "Epoch 3/5\n",
      "\u001b[1m1875/1875\u001b[0m \u001b[32m━━━━━━━━━━━━━━━━━━━━\u001b[0m\u001b[37m\u001b[0m \u001b[1m2s\u001b[0m 821us/step - accuracy: 0.9676 - loss: 0.1079\n",
      "Epoch 4/5\n",
      "\u001b[1m1875/1875\u001b[0m \u001b[32m━━━━━━━━━━━━━━━━━━━━\u001b[0m\u001b[37m\u001b[0m \u001b[1m2s\u001b[0m 843us/step - accuracy: 0.9749 - loss: 0.0832\n",
      "Epoch 5/5\n",
      "\u001b[1m1875/1875\u001b[0m \u001b[32m━━━━━━━━━━━━━━━━━━━━\u001b[0m\u001b[37m\u001b[0m \u001b[1m2s\u001b[0m 863us/step - accuracy: 0.9769 - loss: 0.0737\n",
      "\u001b[1m313/313\u001b[0m \u001b[32m━━━━━━━━━━━━━━━━━━━━\u001b[0m\u001b[37m\u001b[0m \u001b[1m0s\u001b[0m 562us/step - accuracy: 0.9715 - loss: 0.0927\n",
      "Test Loss: 0.07450953125953674\n",
      "Test Accuracy: 0.9767000079154968\n"
     ]
    }
   ],
   "source": [
    "# Create a simple NN to predict labels for MNIST images\n",
    "import tensorflow as tf\n",
    "import os\n",
    "# Load MNIST dataset\n",
    "mnist = tf.keras.datasets.mnist\n",
    "(x_train, y_train), (x_test, y_test) = mnist.load_data()\n",
    "\n",
    "# Normalize the data\n",
    "x_train, x_test = x_train / 255.0, x_test / 255.0\n",
    "\n",
    "# Build the model\n",
    "model = tf.keras.Sequential([\n",
    "    tf.keras.layers.Flatten(input_shape=(28, 28)),  # Flatten the 28x28 images\n",
    "    tf.keras.layers.Dense(128, activation='relu'),  # Hidden layer\n",
    "    tf.keras.layers.Dropout(0.2),                  # Regularization\n",
    "    tf.keras.layers.Dense(10, activation='softmax') # Output layer for 10 classes\n",
    "])\n",
    "\n",
    "# Compile the model\n",
    "model.compile(optimizer='adam',\n",
    "              loss='sparse_categorical_crossentropy',\n",
    "              metrics=['accuracy'])\n",
    "\n",
    "# Train the model\n",
    "model.fit(x_train, y_train, epochs=5)\n",
    "\n",
    "# Evaluate the model\n",
    "loss, accuracy = model.evaluate(x_test, y_test)\n",
    "print(f\"Test Loss: {loss}\")\n",
    "print(f\"Test Accuracy: {accuracy}\")\n"
   ]
  },
  {
   "cell_type": "markdown",
   "id": "1684d90e",
   "metadata": {},
   "source": [
    "### Save the ML Model"
   ]
  },
  {
   "cell_type": "markdown",
   "id": "599e2067",
   "metadata": {},
   "source": [
    "To save the model, the current version of TensorFlow Serving library works with the `model.export()`, whereas `model.save()` or `tf.saved_model.save()` may generate errors. \n",
    "\n",
    "To save your model create a folder and a subfolder as shown below. The folder's name is `my_model` and the \n",
    "subfolder's name for the version control purpose is `1` (`/my_model/1`). This is a default format required by TensorFlow Serving for model deployment."
   ]
  },
  {
   "cell_type": "markdown",
   "id": "bfbd9b6a",
   "metadata": {},
   "source": [
    "<img height=270 width=500 src=\"images/1.png\">"
   ]
  },
  {
   "cell_type": "code",
   "execution_count": null,
   "id": "1c7df8fa",
   "metadata": {},
   "outputs": [],
   "source": [
    "# Export the trained ML model to the folder my_model/1\n",
    "import os\n",
    "current_folder = os.getcwd()\n",
    "current_folder = current_folder+'/my_model/1'\n",
    "model.export(current_folder)"
   ]
  },
  {
   "cell_type": "markdown",
   "id": "618f6f0a",
   "metadata": {},
   "source": [
    "## TensorFlow Serving with Docker"
   ]
  },
  {
   "cell_type": "markdown",
   "id": "f5421051",
   "metadata": {},
   "source": [
    "To start TensorFlow Serving, use this command in WSL2 to deploy the model in Docker:\n",
    "\n",
    "    docker run -p 8501:8501 --name=tf_serving_my_model   --mount \n",
    "    type=bind,source=/mnt/c/Users/LZ/Desktop/tf_serving/my_model,target=/models/my_model   -e MODEL_NAME=my_model -t tensorflow/serving"
   ]
  },
  {
   "cell_type": "markdown",
   "id": "92859539",
   "metadata": {},
   "source": [
    "As the screenshot below shows, the main folder is `tf_serving`, and the saved model's main folder is `my_model`. You can ignore the `1` subfolder inside the `my_model` folder in this command, since the TensorFlow Serving system will automatically detect the subfolder for version control purpose.\n",
    "\n",
    "<img height=40 width=2000 src=\"images/2.png\">"
   ]
  },
  {
   "cell_type": "markdown",
   "id": "7a40ac95",
   "metadata": {},
   "source": [
    "When the TensorFlow Serving is configured correctly, it will show the following status:\n",
    "\n",
    "<img height=500 width=1000 src=\"images/3.png\">"
   ]
  },
  {
   "cell_type": "markdown",
   "id": "38ac6a49",
   "metadata": {},
   "source": [
    "TensorFlow Serving showing on the Docker Desktop on Windows.\n",
    "\n",
    "<img height=400 width=1000 src=\"images/4.png\">"
   ]
  },
  {
   "cell_type": "markdown",
   "id": "3580f5f1",
   "metadata": {},
   "source": [
    "## Send a Request with the REST API"
   ]
  },
  {
   "cell_type": "markdown",
   "id": "cf2581cc",
   "metadata": {},
   "source": [
    "Select a test image from the MNIST dataset."
   ]
  },
  {
   "cell_type": "code",
   "execution_count": 1,
   "id": "37541041",
   "metadata": {},
   "outputs": [
    {
     "data": {
      "text/plain": [
       "<matplotlib.image.AxesImage at 0x1bdcf98b5d0>"
      ]
     },
     "execution_count": 1,
     "metadata": {},
     "output_type": "execute_result"
    },
    {
     "data": {
      "image/png": "[encoded data removed]",
      "text/plain": [
       "<Figure size 640x480 with 1 Axes>"
      ]
     },
     "metadata": {},
     "output_type": "display_data"
    }
   ],
   "source": [
    "import numpy as np\n",
    "import tensorflow as tf\n",
    "import matplotlib.pyplot  as plt\n",
    "import requests\n",
    "# Load MNIST test data\n",
    "(_, _), (x_test, y_test) = tf.keras.datasets.mnist.load_data()\n",
    "x_test = x_test / 255.0  # Normalize the test data\n",
    "\n",
    "# Select a single test image\n",
    "test_image = x_test[0].tolist()  # Convert the first test image to a list\n",
    "\n",
    "plt.imshow(x_test[0], cmap=\"gray\")"
   ]
  },
  {
   "cell_type": "markdown",
   "id": "f72f7c01",
   "metadata": {},
   "source": [
    "Construct the URL, e.g., here we use `localhost:8501` on the local computer. In the URL link make sure to configure the correct folder name where you saved your model (`my_model`)."
   ]
  },
  {
   "cell_type": "code",
   "execution_count": 3,
   "id": "da5c2122",
   "metadata": {},
   "outputs": [
    {
     "name": "stdout",
     "output_type": "stream",
     "text": [
      "The predicted number is:  7\n"
     ]
    }
   ],
   "source": [
    "url = \"http://localhost:8501/v1/models/my_model:predict\"\n",
    "\n",
    "# Create input data for testing (batch of one image)\n",
    "input_data = {\n",
    "    \"instances\": [test_image]\n",
    "}\n",
    "\n",
    "# Send the POST request to TensorFlow Serving\n",
    "response = requests.post(url, json=input_data)\n",
    "\n",
    "# Parse the response\n",
    "predictions = response.json().get(\"predictions\", [])\n",
    "predicted_label = np.argmax(predictions[0])\n",
    "print('The predicted number is: ',predicted_label)"
   ]
  },
  {
   "cell_type": "markdown",
   "id": "751bda92",
   "metadata": {},
   "source": [
    "## References\n",
    "\n",
    "1. TensorFlow, \"Serving Guide.\" *TensorFlow TFX Documentation*, available at [https://www.tensorflow.org/tfx/guide/serving](https://www.tensorflow.org/tfx/guide/serving). \n",
    "2. TensorFlow, \"Serving a Simple Model via REST.\" TensorFlow TFX Documentation, available at [https://www.tensorflow.org/tfx/tutorials/serving/rest_simple](https://www.tensorflow.org/tfx/tutorials/serving/rest_simple).\n",
    "3. Neptune AI. \"How to Serve Machine Learning Models with TensorFlow Serving and Docker.\" available at [https://neptune.ai/blog/how-to-serve-machine-learning-models-with-tensorflow-serving-and-docker](https://neptune.ai/blog/how-to-serve-machine-learning-models-with-tensorflow-serving-and-docker)."
   ]
  },
  {
   "cell_type": "markdown",
   "id": "39315c49-eb6e-4aa3-a2fd-52ce5b3d2295",
   "metadata": {},
   "source": [
    "[BACK TO TOP](#top)"
   ]
  }
 ],
 "metadata": {
  "kernelspec": {
   "display_name": "Python 3 (ipykernel)",
   "language": "python",
   "name": "python3"
  },
  "language_info": {
   "codemirror_mode": {
    "name": "ipython",
    "version": 3
   },
   "file_extension": ".py",
   "mimetype": "text/x-python",
   "name": "python",
   "nbconvert_exporter": "python",
   "pygments_lexer": "ipython3",
   "version": "3.12.4"
  }
 },
 "nbformat": 4,
 "nbformat_minor": 5
}
