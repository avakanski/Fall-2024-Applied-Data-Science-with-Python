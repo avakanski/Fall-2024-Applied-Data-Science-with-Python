{
 "cells": [
  {
   "cell_type": "markdown",
   "metadata": {},
   "source": [
    "# Tutorial 3 - Python IDEs, VS Code"
   ]
  },
  {
   "cell_type": "markdown",
   "metadata": {},
   "source": [
    "[![View notebook on Github](https://img.shields.io/static/v1.svg?logo=github&label=Repo&message=View%20On%20Github&color=lightgrey)](https://github.com/avakanski/Fall-2023-Python-Programming-for-Data-Science/blob/main/docs/Lectures/Theme_1-Python_Programming/Tutorial_3-VS_Code/Tutorial_3-VS_Code.ipynb)\n",
    "[![Open In Collab](https://colab.research.google.com/assets/colab-badge.svg)](https://colab.research.google.com/github/avakanski/Fall-2023-Python-Programming-for-Data-Science/blob/main/docs/Lectures/Theme_1-Python_Programming/Tutorial_3-VS_Code/Tutorial_3-VS_Code.ipynb)  "
   ]
  },
  {
   "cell_type": "markdown",
   "metadata": {},
   "source": [
    "<a id='top'></a>"
   ]
  },
  {
   "cell_type": "markdown",
   "metadata": {},
   "source": [
    "\n",
    "This tutorial first presents several common environments and editors for Python code development, and afterward describes VS Code in more detail. "
   ]
  },
  {
   "cell_type": "markdown",
   "metadata": {},
   "source": [
    "## Python IDEs <a id=\"section1\"/>"
   ]
  },
  {
   "cell_type": "markdown",
   "metadata": {},
   "source": [
    "> An **IDE (Integrated Development Environment)** is a program that integrates tools to facilitate software development, such as a code editor, tools for program execution and debugging, and source control.\n",
    "\n",
    "In other words, an IDE is a graphical user interface for program development, that allows end-users to edit, run, browse, and debug programs from a single interface. Using an IDE is especially convenient for beginners to start editing and running codes.\n",
    "\n",
    "Most IDEs support several different programming languages. There are some that are designed specifically for Python development (like the IDLE described below).\n",
    "\n",
    "Also, most IDEs offer a **code editor**, although the code editor can be an independent software application. A code editor can be a simple text editor, or it can also allow code execution and debugging. In comparison to IDEs, code editors are simpler, but they are also less resource-demanding."
   ]
  },
  {
   "cell_type": "markdown",
   "metadata": {},
   "source": [
    "In general, IDEs offer the following basic features:\n",
    "\n",
    "- Save and reload code files\n",
    "- Run code from within the environment\n",
    "- Debugging support\n",
    "- Syntax highlighting\n",
    "- Automatic code formatting\n",
    "\n",
    "The debugging support typically allows setting breakpoints in the code that stop the execution, showing variable values, and so on. For simpler debugging operations, most IDEs allow clicking on the text of an error message to quickly jump to the line of code where the error occurred, and after correcting the error, to quickly run the code.\n",
    "\n",
    "Syntax highlighting refers to displaying source code using different colors and fonts according to the category of the written text and commands. It facilitates code writing by providing visually distinct syntax, and it can help to identify mistakes in the code.\n",
    "\n",
    "Automatic code formatting can include features such as automated indentation, automated spacing around operators, auto-completion, etc.\n",
    "\n",
    "Other helpful features often include: advanced text and file search options, help links or pop-up windows when hovering with the mouse over an object, selection list for object attributes (e.g., after a `.` press the `Tab` key), links to definition of objects, and similar."
   ]
  },
  {
   "cell_type": "markdown",
   "metadata": {},
   "source": [
    "### IDLE "
   ]
  },
  {
   "cell_type": "markdown",
   "metadata": {},
   "source": [
    "**IDLE** is the original IDE for Python development. It is available for Windows, Unix, and Mac OS platforms, and it comes preinstalled with the Python installation. IDLE is free, easy to use, and portable across platforms.\n",
    "\n",
    "The name is a variation of IDE, and it is named after one of the members of the Monty Python group - Eric Idle. \n",
    "\n",
    "To access IDLE, type in the Windows Command Prompt: `python -m idlelib.idle`. The IDLE window is shown in the figure below. Notice the `>>>` prompt in IDLE, which allows interactive programming, i.e., we can type commands and run them immediately. Also note the syntax highlighting of the entered Python statements, and the menu bar on the top of the window that is similar to the Jupyter Notebook menu and to other MS Office apps (e.g., MS Word).\n",
    "\n",
    "IDLE is simple to use and does not assume prior experience with system command lines. On the other hand, it is somewhat limited and outdated compared to more recent commercial IDEs."
   ]
  },
  {
   "cell_type": "markdown",
   "metadata": {},
   "source": [
    "<img style=\"float: left; height:250px; width:auto\" src=\"images/pic17-1.jpg\">"
   ]
  },
  {
   "cell_type": "markdown",
   "metadata": {},
   "source": [
    "### Spyder"
   ]
  },
  {
   "cell_type": "markdown",
   "metadata": {},
   "source": [
    "**Spyder** is a Python IDE ([https://github.com/spyder-ide/spyder](https://github.com/spyder-ide/spyder)) which is available with the Anaconda installation. It can be accessed from the Start Program menu under Anaconda, as shown below. Spyder offers most of the common IDE features. An interesting feature that is not offered by many similar IDEs is the variable explorer, which displays the user data and variables in a table-based layout inside the IDE."
   ]
  },
  {
   "cell_type": "markdown",
   "metadata": {},
   "source": [
    "<img style=\"float: left; height:250px; width:auto\" src=\"images/pic18a.jpg\">"
   ]
  },
  {
   "cell_type": "markdown",
   "metadata": {},
   "source": [
    "<img style=\"float: left; height:450px; width:auto\" src=\"images/pic18b.jpg\">"
   ]
  },
  {
   "cell_type": "markdown",
   "metadata": {},
   "source": [
    "### Visual Studio"
   ]
  },
  {
   "cell_type": "markdown",
   "metadata": {},
   "source": [
    "**Visual Studio** is a general-purpose IDE ([https://visualstudio.microsoft.com/vs/](https://visualstudio.microsoft.com/vs/)) developed by Microsoft. It is available for Windows and Mac OS, both as free (Community) and paid (Professional and Enterprise) versions. Visual Studio provides support for program development in different programming languages. Python Tools for Visual Studio (PTVS) enables Python coding in Visual Studio. VS is a large download, but it provides excellent tools for different languages."
   ]
  },
  {
   "cell_type": "markdown",
   "metadata": {},
   "source": [
    "<img style=\"float: left; height:350px; width:auto\" src=\"images/pic19.jpg\">"
   ]
  },
  {
   "cell_type": "markdown",
   "metadata": {},
   "source": [
    "### Eclipse and PyDev"
   ]
  },
  {
   "cell_type": "markdown",
   "metadata": {},
   "source": [
    "**Eclipse and PyDev** is an IDE ([www.eclipse.org](http://www.eclipse.org)), originally developed as a Java IDE, but it supports Python development by installing the PyDev plug-in. It is a popular and powerful IDE for Python development. It is available for Windows, Linux, and Mac OS. However, it may not be the easiest IDE for beginner programmers. "
   ]
  },
  {
   "cell_type": "markdown",
   "metadata": {},
   "source": [
    "<img style=\"float: left; height:350px; width:auto\" src=\"images/pic17.jpg\">"
   ]
  },
  {
   "cell_type": "markdown",
   "metadata": {},
   "source": [
    "### PyCharm"
   ]
  },
  {
   "cell_type": "markdown",
   "metadata": {},
   "source": [
    "**PyCharm** is a fully dedicated IDE for Python ([https://www.jetbrains.com/pycharm/](https://www.jetbrains.com/pycharm/)). Available in both paid (Professional) and free open-source (Community) editions, PyCharm installs quickly and easily on Windows, Mac OS, and Linux platforms. PyCharm allows writing, running, and debugging Python code, and it has support for source control and projects."
   ]
  },
  {
   "cell_type": "markdown",
   "metadata": {},
   "source": [
    "<img style=\"float: left; height:350px; width:auto\" src=\"images/pic21.jpg\">"
   ]
  },
  {
   "cell_type": "markdown",
   "metadata": {},
   "source": [
    "### Other IDEs"
   ]
  },
  {
   "cell_type": "markdown",
   "metadata": {},
   "source": [
    "Beside these, there are also other general-purpose IDEs and code editors, such as [Komodo](http://www.activestate.com), [Sublime Text](http://www.sublimetext.com), [Atom](https://atom.io/), [GNU Emacs](https://www.gnu.org/software/emacs/), and other IDEs dedicated to Python code development, such as [PythonWin](http://www.python.org/), [NetBeans](http://plugins.netbeans.org/plugin/61688/python),[Thonny](http://thonny.org/), and many others. "
   ]
  },
  {
   "cell_type": "markdown",
   "metadata": {},
   "source": [
    "## Introduction to VS Code"
   ]
  },
  {
   "cell_type": "markdown",
   "metadata": {},
   "source": [
    "**Visual Studio Code (VS Code)** is a code editor ([https://code.visualstudio.com/](https://code.visualstudio.com/)), available for Windows, Linux, and Mac OS. Differently from the Visual Studio IDE listed above, Visual Studio Code is small and lightweight, open-source, and extensible. Installing Python support is easy, and VS Code will recognize your Python installation and libraries automatically. VS Code is built using Electron, a framework for creating desktop applications using JavaScript, HTML, and CSS.\n",
    "Visual Studio Code is recognized for its rapid launch speed and efficient resource utilization, guaranteeing a seamless coding experience, even with less powerful hardware."
   ]
  },
  {
   "cell_type": "markdown",
   "metadata": {},
   "source": [
    "<img style=\"float: left; height:350px; width:auto\" src=\"images/pic20.jpg\">"
   ]
  },
  {
   "cell_type": "markdown",
   "metadata": {},
   "source": [
    "### VS Code Download and Installation\n",
    "\n",
    "VS Code can be downloaded from: https://code.visualstudio.com/\n",
    "\n",
    "<img style=\"float: left; width:650px\" src=\"images/vs1.png\">\n",
    "\n",
    "\n"
   ]
  },
  {
   "cell_type": "markdown",
   "metadata": {},
   "source": [
    "During the installation, choose all the default options.\n",
    "\n",
    "After the installation is completed, open the VS Code, and all initial settings can be selected as defaults.\n",
    "\n",
    "Then you will see the window similar to the following figure.\n",
    "\n",
    "<img style=\"float: left; height:350px; width:auto\" src=\"images/vs3.png\">\n"
   ]
  },
  {
   "cell_type": "markdown",
   "metadata": {},
   "source": [
    "### Python Extension Installation and Configuration\n",
    "\n",
    "To run Python and Jupyter notebooks in VS Code, we need to install the Python extension and Jupyter extension first. \n",
    "\n",
    "On the left sidebar of the VS Code Window, click the ```Extension```  button and install the Python Extension.\n",
    "\n",
    "<img style=\"float: left; height:750px; width:auto\" src=\"images/vs2.png\">"
   ]
  },
  {
   "cell_type": "markdown",
   "metadata": {},
   "source": [
    "Similarly, search for the Jupyter notebook extension and install the extension.\n",
    "\n",
    "\n",
    "<img style=\"float: left; height:550px; width:auto\" src=\"images/vs4.png\">"
   ]
  },
  {
   "cell_type": "markdown",
   "metadata": {},
   "source": [
    "### Start Jupyter Notebook in VS Code\n",
    "To start a project, it is preferred to create a new folder for the project and store all files in that specific folder.\n",
    "\n",
    "Then, we can open the folder in VS Code and create files/scripts inside the folder. \n",
    "\n",
    "1) Click ```File``` and ```Open Folder``` in the upper left corner of the window to open the folder that you want to start your project in.\n",
    "\n",
    "   <img style=\"float: left; height:550px; width:auto\" src=\"images/vs7.png\">\n",
    "\n"
   ]
  },
  {
   "cell_type": "markdown",
   "metadata": {},
   "source": [
    "2. There are two ways to create a new Jupyter Notebook file inside a folder.\n",
    "  \n",
    "- Click `File` and then click `New File`, afterward choose the  `Jupyter Notebook` option.\n",
    "- Right-click in the blank area under your folder's name on the left side of the window to create a ```New File```, then type your file name with `.ipynb`.   \n",
    "\n",
    "   <img style=\"float: left; height:450px; width:auto\" src=\"images/vs9.png\">"
   ]
  },
  {
   "cell_type": "markdown",
   "metadata": {},
   "source": [
    "3) The first time we run a new file, we need to manually select the kernel. \n",
    "   \n",
    "   In the upper right corner of the screen, click ```Select Kernel``` to select the Python interpreter. \n",
    "\n",
    "      We can select the default Python interpreter from our previous Anaconda installation. \n",
    "\n",
    "      With that, the installation of Python in VS Code is completed. If any extensions are needed in the future when you run some specific scripts, VS Code will automatically show a pop-up window to help you with the installation.\n",
    "\n",
    "<img style=\"float: left; height:200px; width:auto\" src=\"images/vs11.png\">\n",
    "\n",
    "<img style=\"float: left; height:350px; width:auto\" src=\"images/vs5.png\">\n",
    "      \n",
    "<img style=\"float: left; height:150px; width:auto\" src=\"images/vs6.png\">"
   ]
  },
  {
   "cell_type": "markdown",
   "metadata": {},
   "source": [
    "### VS Code features\n",
    "\n",
    "The built-in IntelliSense feature provides key functions such as:\n",
    "\n",
    "- Auto code completion/Assist/Hint: It predicts and auto-generates code as you type, reducing the requirement for manual input and reducing the chances of typos and syntax errors.  \n",
    "- Parameter Information: When you call a function/method, it shows information about the function's parameters, the data types, and descriptions. This makes it simpler to provide the correct arguments when calling functions.\n",
    "\n",
    "<img style=\"float: left; width:450px\" src=\"images/vs12.png\">"
   ]
  },
  {
   "cell_type": "markdown",
   "metadata": {},
   "source": [
    "Variables/Data Viewer enables to examine and engage with the variables and data within your Jupyter notebook's kernel. It provides a visual interface for investigating the present condition of variables, their values, and data arrangements.\n",
    "\n",
    "<img style=\"float: left; width:550px\" src=\"images/vs13.png\">\n"
   ]
  },
  {
   "cell_type": "markdown",
   "metadata": {},
   "source": [
    "In the Data Viewer, you can ```sort``` the columns by clicking on the column name, and you can also ```filter``` the data by typing the keywords/syntax.\n",
    "\n",
    "<img style=\"float: left; width:650px\" src=\"images/vs14.png\">"
   ]
  },
  {
   "cell_type": "markdown",
   "metadata": {},
   "source": [
    "Additionally, the newly added `View Data` feature makes it more convenient to access each variables instead of \n",
    "loading all of the variables, which can be time consuming. \n",
    "\n",
    "<img style=\"float: left; width:800px\" src=\"images/view_data.png\">\n",
    "\n",
    "<img style=\"float: left; width:600px\" src=\"images/view_data1.png\">"
   ]
  },
  {
   "cell_type": "markdown",
   "metadata": {},
   "source": [
    "Run Cell Operations include: \n",
    "\n",
    "- Run by Line, which runs the code line by line.\n",
    "- Execute Above Cells, which runs all the cells above the current cell.\n",
    "- Execute Cell and Below Cells, which runs the current and all the below cells.\n",
    "\n",
    "<img style=\"float: left; height:450px; width:auto\" src=\"images/vs15.png\"> "
   ]
  },
  {
   "cell_type": "markdown",
   "metadata": {},
   "source": [
    "To move cells, click and hold the blue bar in front of the cell, then move it to any place you prefer.\n",
    "\n",
    "<img style=\"float: left; height:450px; width:auto\" src=\"images/vs16.png\"> "
   ]
  },
  {
   "cell_type": "markdown",
   "metadata": {},
   "source": [
    "Copy/Save/Zoom-in Plots.\n",
    "\n",
    "Copy function allows to copy the plot to the clipboard.\n",
    "\n",
    "Save function allows the save the plot as an image file.\n",
    "\n",
    "Zoom-in allows to zoom in and see the details if the plot is too large and complicated.\n",
    "\n",
    "<img style=\"float: left; height:350px\" src=\"images/vs17.png\"> "
   ]
  },
  {
   "cell_type": "markdown",
   "metadata": {},
   "source": [
    "Debug features: click the arrow next to the Run Cell button and click ```Debug Cell```, and you can then debug like you normally do in Python.\n",
    "   \n",
    "<img style=\"float: left; height:250px; width:auto\" src=\"images/vs18.png\"> "
   ]
  },
  {
   "cell_type": "markdown",
   "metadata": {},
   "source": [
    "[BACK TO TOP](#top)"
   ]
  }
 ],
 "metadata": {
  "kernelspec": {
   "display_name": "Python 3 (ipykernel)",
   "language": "python",
   "name": "python3"
  },
  "language_info": {
   "codemirror_mode": {
    "name": "ipython",
    "version": 3
   },
   "file_extension": ".py",
   "mimetype": "text/x-python",
   "name": "python",
   "nbconvert_exporter": "python",
   "pygments_lexer": "ipython3",
   "version": "3.12.4"
  }
 },
 "nbformat": 4,
 "nbformat_minor": 4
}
