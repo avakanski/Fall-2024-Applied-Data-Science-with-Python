{
 "cells": [
  {
   "cell_type": "markdown",
   "metadata": {
    "id": "RvwFrkzSPbw7"
   },
   "source": [
    "# Tutorial 9 - PyTorch\n",
    "\n",
    "This tutorial is adapted from a 2022 blog post on the website [Made With ML](https://madewithml.com/), by Goku Mohandas."
   ]
  },
  {
   "cell_type": "markdown",
   "metadata": {
    "id": "0aqN-ffaP4t1"
   },
   "source": [
    "[![View notebook on Github](https://img.shields.io/static/v1.svg?logo=github&label=Repo&message=View%20On%20Github&color=lightgrey)](https://github.com/avakanski/Fall-2024-Applied-Data-Science-with-Python/blob/main/docs/Lectures/Tutorials/Tutorial_9-PyTorch/Tutorial_9-PyTorch.ipynb)\n",
    "[![Open In Collab](https://colab.research.google.com/assets/colab-badge.svg)](https://colab.research.google.com/github/avakanski/Fall-2024-Applied-Data-Science-with-Python/blob/main/docs/Lectures/Tutorials/Tutorial_9-PyTorch/Tutorial_9-PyTorch.ipynb)"
   ]
  },
  {
   "cell_type": "markdown",
   "metadata": {
    "id": "LAEUx9S_Oo4F"
   },
   "source": [
    "<a id='top'></a>"
   ]
  },
  {
   "cell_type": "markdown",
   "metadata": {
    "id": "VQBlSt3bOo4G"
   },
   "source": [
    "PyTorch is an open-source machine learning library developed by **Facebook's AI Research lab (FAIR)** and launched in 2016. The increasing popularity among researchers is due to its flexibility, user-friendliness, and its unique feature of a **dynamic computation graph**.\n",
    "\n",
    "Designed to facilitate deep learning, PyTorch offers tools for building neural networks, performing automatic differentiation, and managing large-scale computations. It is based on **Python** and **NumPy**-like tensors, enabling seamless execution on both **CPUs** and **GPUs** for efficient processing.\n",
    "\n",
    "A key feature that sets PyTorch apart is its **dynamic computation graph**, which allows users to modify network structures during execution. This makes it different from frameworks like **TensorFlow**, which originally used static computation graphs. As a result, PyTorch is highly favored for tasks that require flexibility in network design and debugging.\n",
    "\n",
    "In addition to its research-oriented features, PyTorch also provides high-level APIs such as **TorchVision** for computer vision and **TorchText** for natural language processing. Over time, PyTorch has grown into a framework widely used in both research and production environments.\n",
    "\n",
    "In this notebook, we will learn the basics of [PyTorch](https://pytorch.org), such as creating and using Tensors."
   ]
  },
  {
   "cell_type": "markdown",
   "metadata": {},
   "source": [
    "## Install PyTorch\n",
    "`pip3 install torch torchvision torchaudio` (CPU)\n",
    "\n",
    "`pip3 install torch torchvision torchaudio --index-url https://download.pytorch.org/whl/cu118`(GPU)\n",
    "\n",
    "**Google Colab comes with PyTorch pre-installed.**"
   ]
  },
  {
   "cell_type": "code",
   "execution_count": 1,
   "metadata": {
    "executionInfo": {
     "elapsed": 3729,
     "status": "ok",
     "timestamp": 1698411787096,
     "user": {
      "displayName": "Aleksandar Vakanski",
      "userId": "07675307153279708378"
     },
     "user_tz": 360
    },
    "id": "eLAkqoRKtyFD"
   },
   "outputs": [],
   "source": [
    "import numpy as np\n",
    "import torch"
   ]
  },
  {
   "cell_type": "code",
   "execution_count": 2,
   "metadata": {
    "executionInfo": {
     "elapsed": 8,
     "status": "ok",
     "timestamp": 1698411790480,
     "user": {
      "displayName": "Aleksandar Vakanski",
      "userId": "07675307153279708378"
     },
     "user_tz": 360
    },
    "id": "l9krh147uJOV"
   },
   "outputs": [],
   "source": [
    "SEED = 1234"
   ]
  },
  {
   "cell_type": "code",
   "execution_count": 3,
   "metadata": {
    "colab": {
     "base_uri": "https://localhost:8080/"
    },
    "executionInfo": {
     "elapsed": 3,
     "status": "ok",
     "timestamp": 1698411791220,
     "user": {
      "displayName": "Aleksandar Vakanski",
      "userId": "07675307153279708378"
     },
     "user_tz": 360
    },
    "id": "1uLEnBgft22Y",
    "outputId": "3188902f-d9d3-46b5-8708-3229caa0c97f"
   },
   "outputs": [
    {
     "data": {
      "text/plain": [
       "<torch._C.Generator at 0x2be66ee8c70>"
      ]
     },
     "execution_count": 3,
     "metadata": {},
     "output_type": "execute_result"
    }
   ],
   "source": [
    "# Set seed for reproducibility\n",
    "np.random.seed(seed=SEED)\n",
    "torch.manual_seed(SEED)"
   ]
  },
  {
   "cell_type": "markdown",
   "metadata": {
    "id": "08AUKP9xu8YQ"
   },
   "source": [
    "## Basics"
   ]
  },
  {
   "cell_type": "code",
   "execution_count": 4,
   "metadata": {
    "colab": {
     "base_uri": "https://localhost:8080/"
    },
    "executionInfo": {
     "elapsed": 279,
     "status": "ok",
     "timestamp": 1698411793957,
     "user": {
      "displayName": "Aleksandar Vakanski",
      "userId": "07675307153279708378"
     },
     "user_tz": 360
    },
    "id": "o3jBRfYZuNqF",
    "outputId": "045c5a0f-e4fc-4ae7-cc4a-461b221e2901"
   },
   "outputs": [
    {
     "name": "stdout",
     "output_type": "stream",
     "text": [
      "Type: torch.FloatTensor\n",
      "Size: torch.Size([2, 3])\n",
      "Values: \n",
      "tensor([[ 0.0461,  0.4024, -1.0115],\n",
      "        [ 0.2167, -0.6123,  0.5036]])\n"
     ]
    }
   ],
   "source": [
    "# Creating a random tensor\n",
    "x = torch.randn((2, 3))  # (rand(2,3) -> normal distribution)\n",
    "print(f\"Type: {x.type()}\")\n",
    "print(f\"Size: {x.shape}\")\n",
    "print(f\"Values: \\n{x}\")"
   ]
  },
  {
   "cell_type": "code",
   "execution_count": 5,
   "metadata": {
    "colab": {
     "base_uri": "https://localhost:8080/"
    },
    "executionInfo": {
     "elapsed": 223,
     "status": "ok",
     "timestamp": 1698411796614,
     "user": {
      "displayName": "Aleksandar Vakanski",
      "userId": "07675307153279708378"
     },
     "user_tz": 360
    },
    "id": "Pho5A7JluNvj",
    "outputId": "121c3621-dfbc-4e4e-f21f-35977411276d"
   },
   "outputs": [
    {
     "name": "stdout",
     "output_type": "stream",
     "text": [
      "tensor([[0., 0., 0.],\n",
      "        [0., 0., 0.]])\n",
      "tensor([[1., 1., 1.],\n",
      "        [1., 1., 1.]])\n"
     ]
    }
   ],
   "source": [
    "# Zeros and Ones tensor\n",
    "x = torch.zeros(2, 3)\n",
    "print (x)\n",
    "x = torch.ones(2, 3)\n",
    "print (x)"
   ]
  },
  {
   "cell_type": "code",
   "execution_count": 6,
   "metadata": {
    "colab": {
     "base_uri": "https://localhost:8080/"
    },
    "executionInfo": {
     "elapsed": 186,
     "status": "ok",
     "timestamp": 1698411798775,
     "user": {
      "displayName": "Aleksandar Vakanski",
      "userId": "07675307153279708378"
     },
     "user_tz": 360
    },
    "id": "UTecl1RduNtL",
    "outputId": "269e9c12-9d89-4955-f307-ddf17d1c65ed"
   },
   "outputs": [
    {
     "name": "stdout",
     "output_type": "stream",
     "text": [
      "Size: torch.Size([2, 3])\n",
      "Values: \n",
      "tensor([[1., 2., 3.],\n",
      "        [4., 5., 6.]])\n"
     ]
    }
   ],
   "source": [
    "# List --> Tensor\n",
    "x = torch.Tensor([[1, 2, 3],[4, 5, 6]])\n",
    "print(f\"Size: {x.shape}\")\n",
    "print(f\"Values: \\n{x}\")"
   ]
  },
  {
   "cell_type": "code",
   "execution_count": 7,
   "metadata": {
    "colab": {
     "base_uri": "https://localhost:8080/"
    },
    "executionInfo": {
     "elapsed": 205,
     "status": "ok",
     "timestamp": 1698411800842,
     "user": {
      "displayName": "Aleksandar Vakanski",
      "userId": "07675307153279708378"
     },
     "user_tz": 360
    },
    "id": "2OQTnxWOuNnY",
    "outputId": "fcfec703-68a3-46c2-ed36-03fbbd4c0a2a"
   },
   "outputs": [
    {
     "name": "stdout",
     "output_type": "stream",
     "text": [
      "Size: torch.Size([2, 3])\n",
      "Values: \n",
      "tensor([[0.1915, 0.6221, 0.4377],\n",
      "        [0.7854, 0.7800, 0.2726]])\n"
     ]
    }
   ],
   "source": [
    "# NumPy array --> Tensor\n",
    "x = torch.Tensor(np.random.rand(2, 3))\n",
    "print(f\"Size: {x.shape}\")\n",
    "print(f\"Values: \\n{x}\")"
   ]
  },
  {
   "cell_type": "code",
   "execution_count": 8,
   "metadata": {
    "colab": {
     "base_uri": "https://localhost:8080/"
    },
    "executionInfo": {
     "elapsed": 254,
     "status": "ok",
     "timestamp": 1698411802726,
     "user": {
      "displayName": "Aleksandar Vakanski",
      "userId": "07675307153279708378"
     },
     "user_tz": 360
    },
    "id": "8K2kWrkZuilf",
    "outputId": "1eb63474-f027-4e3a-a6d5-911714ae4ccb"
   },
   "outputs": [
    {
     "name": "stdout",
     "output_type": "stream",
     "text": [
      "Type: torch.FloatTensor\n",
      "Type: torch.LongTensor\n"
     ]
    }
   ],
   "source": [
    "# Changing tensor type\n",
    "x = torch.Tensor(3, 4)\n",
    "print(f\"Type: {x.type()}\")\n",
    "x = x.long()\n",
    "print(f\"Type: {x.type()}\")"
   ]
  },
  {
   "cell_type": "markdown",
   "metadata": {
    "id": "6LxCmxqFu6sq"
   },
   "source": [
    "## Operations"
   ]
  },
  {
   "cell_type": "code",
   "execution_count": 9,
   "metadata": {
    "colab": {
     "base_uri": "https://localhost:8080/"
    },
    "executionInfo": {
     "elapsed": 194,
     "status": "ok",
     "timestamp": 1698411804631,
     "user": {
      "displayName": "Aleksandar Vakanski",
      "userId": "07675307153279708378"
     },
     "user_tz": 360
    },
    "id": "yfYLm_1Buixy",
    "outputId": "f4d974f4-2913-495f-a84c-352621d70395"
   },
   "outputs": [
    {
     "name": "stdout",
     "output_type": "stream",
     "text": [
      "Size: torch.Size([2, 3])\n",
      "Values: \n",
      "tensor([[ 0.0761, -0.6775, -0.3988],\n",
      "        [ 3.0633, -0.1589,  0.3514]])\n"
     ]
    }
   ],
   "source": [
    "# Addition\n",
    "x = torch.randn(2, 3)\n",
    "y = torch.randn(2, 3)\n",
    "z = x + y\n",
    "print(f\"Size: {z.shape}\")\n",
    "print(f\"Values: \\n{z}\")"
   ]
  },
  {
   "cell_type": "code",
   "execution_count": 10,
   "metadata": {
    "colab": {
     "base_uri": "https://localhost:8080/"
    },
    "executionInfo": {
     "elapsed": 190,
     "status": "ok",
     "timestamp": 1698411806458,
     "user": {
      "displayName": "Aleksandar Vakanski",
      "userId": "07675307153279708378"
     },
     "user_tz": 360
    },
    "id": "22abfI18uiuw",
    "outputId": "ab51d467-6d99-4b90-e306-468470593b84"
   },
   "outputs": [
    {
     "name": "stdout",
     "output_type": "stream",
     "text": [
      "Size: torch.Size([2, 2])\n",
      "Values: \n",
      "tensor([[ 1.0796, -0.0759],\n",
      "        [ 1.2746, -0.5134]])\n"
     ]
    }
   ],
   "source": [
    "# Dot product\n",
    "x = torch.randn(2, 3)\n",
    "y = torch.randn(3, 2)\n",
    "z = torch.mm(x, y)\n",
    "print(f\"Size: {z.shape}\")\n",
    "print(f\"Values: \\n{z}\")"
   ]
  },
  {
   "cell_type": "code",
   "execution_count": 11,
   "metadata": {
    "colab": {
     "base_uri": "https://localhost:8080/"
    },
    "executionInfo": {
     "elapsed": 197,
     "status": "ok",
     "timestamp": 1698411808071,
     "user": {
      "displayName": "Aleksandar Vakanski",
      "userId": "07675307153279708378"
     },
     "user_tz": 360
    },
    "id": "p1ztJNrruiqv",
    "outputId": "c9422e6f-335e-48f3-dcd6-77770ab45425"
   },
   "outputs": [
    {
     "name": "stdout",
     "output_type": "stream",
     "text": [
      "Size: torch.Size([2, 3])\n",
      "Values: \n",
      "tensor([[ 0.8042, -0.1383,  0.3196],\n",
      "        [-1.0187, -1.3147,  2.5228]])\n",
      "Size: torch.Size([3, 2])\n",
      "Values: \n",
      "tensor([[ 0.8042, -1.0187],\n",
      "        [-0.1383, -1.3147],\n",
      "        [ 0.3196,  2.5228]])\n"
     ]
    }
   ],
   "source": [
    "# Transpose\n",
    "x = torch.randn(2, 3)\n",
    "print(f\"Size: {x.shape}\")\n",
    "print(f\"Values: \\n{x}\")\n",
    "y = torch.t(x)\n",
    "print(f\"Size: {y.shape}\")\n",
    "print(f\"Values: \\n{y}\")"
   ]
  },
  {
   "cell_type": "code",
   "execution_count": 12,
   "metadata": {
    "colab": {
     "base_uri": "https://localhost:8080/"
    },
    "executionInfo": {
     "elapsed": 254,
     "status": "ok",
     "timestamp": 1698411810083,
     "user": {
      "displayName": "Aleksandar Vakanski",
      "userId": "07675307153279708378"
     },
     "user_tz": 360
    },
    "id": "zoLDryFYuioF",
    "outputId": "a7258aee-212b-4249-ce58-565f08e2680c"
   },
   "outputs": [
    {
     "name": "stdout",
     "output_type": "stream",
     "text": [
      "Size: torch.Size([3, 2])\n",
      "Values: \n",
      "tensor([[ 0.4501,  0.2709],\n",
      "        [-0.8087, -0.0217],\n",
      "        [-1.0413,  0.0702]])\n"
     ]
    }
   ],
   "source": [
    "# Reshape\n",
    "x = torch.randn(2, 3)\n",
    "z = x.view(3, 2)\n",
    "print(f\"Size: {z.shape}\")\n",
    "print(f\"Values: \\n{z}\")"
   ]
  },
  {
   "cell_type": "code",
   "execution_count": 13,
   "metadata": {
    "colab": {
     "base_uri": "https://localhost:8080/"
    },
    "executionInfo": {
     "elapsed": 178,
     "status": "ok",
     "timestamp": 1698411811603,
     "user": {
      "displayName": "Aleksandar Vakanski",
      "userId": "07675307153279708378"
     },
     "user_tz": 360
    },
    "id": "2fdNmFu3vlE7",
    "outputId": "2f638576-872b-4e4f-a809-f3ae11916c5c"
   },
   "outputs": [
    {
     "name": "stdout",
     "output_type": "stream",
     "text": [
      "Size: torch.Size([2, 3, 4])\n",
      "x: \n",
      "tensor([[[ 1,  1,  1,  1],\n",
      "         [ 2,  2,  2,  2],\n",
      "         [ 3,  3,  3,  3]],\n",
      "\n",
      "        [[10, 10, 10, 10],\n",
      "         [20, 20, 20, 20],\n",
      "         [30, 30, 30, 30]]])\n",
      "\n",
      "\n",
      "Size: torch.Size([3, 8])\n",
      "a: \n",
      "tensor([[ 1,  1,  1,  1,  2,  2,  2,  2],\n",
      "        [ 3,  3,  3,  3, 10, 10, 10, 10],\n",
      "        [20, 20, 20, 20, 30, 30, 30, 30]])\n",
      "\n",
      "\n",
      "Size: torch.Size([3, 2, 4])\n",
      "b: \n",
      "tensor([[[ 1,  1,  1,  1],\n",
      "         [10, 10, 10, 10]],\n",
      "\n",
      "        [[ 2,  2,  2,  2],\n",
      "         [20, 20, 20, 20]],\n",
      "\n",
      "        [[ 3,  3,  3,  3],\n",
      "         [30, 30, 30, 30]]])\n",
      "\n",
      "\n",
      "Size: torch.Size([3, 8])\n",
      "c: \n",
      "tensor([[ 1,  1,  1,  1, 10, 10, 10, 10],\n",
      "        [ 2,  2,  2,  2, 20, 20, 20, 20],\n",
      "        [ 3,  3,  3,  3, 30, 30, 30, 30]])\n"
     ]
    }
   ],
   "source": [
    "# Dangers of reshaping (unintended consequences)\n",
    "x = torch.tensor([\n",
    "    [[1,1,1,1], [2,2,2,2], [3,3,3,3]],\n",
    "    [[10,10,10,10], [20,20,20,20], [30,30,30,30]]\n",
    "])\n",
    "print(f\"Size: {x.shape}\")\n",
    "print(f\"x: \\n{x}\\n\")\n",
    "\n",
    "a = x.view(x.size(1), -1)\n",
    "print(f\"\\nSize: {a.shape}\")\n",
    "print(f\"a: \\n{a}\\n\")\n",
    "\n",
    "b = x.transpose(0,1).contiguous()\n",
    "print(f\"\\nSize: {b.shape}\")\n",
    "print(f\"b: \\n{b}\\n\")\n",
    "\n",
    "c = b.view(b.size(0), -1)\n",
    "print(f\"\\nSize: {c.shape}\")\n",
    "print(f\"c: \\n{c}\")"
   ]
  },
  {
   "cell_type": "code",
   "execution_count": 14,
   "metadata": {
    "colab": {
     "base_uri": "https://localhost:8080/"
    },
    "executionInfo": {
     "elapsed": 6,
     "status": "ok",
     "timestamp": 1698411815354,
     "user": {
      "displayName": "Aleksandar Vakanski",
      "userId": "07675307153279708378"
     },
     "user_tz": 360
    },
    "id": "HcW6i9xJwU2Q",
    "outputId": "043ac321-331a-4fe1-a8f9-4629d95da000"
   },
   "outputs": [
    {
     "name": "stdout",
     "output_type": "stream",
     "text": [
      "Values: \n",
      "tensor([[ 0.5797, -0.0599,  0.1816],\n",
      "        [-0.6797, -0.2567, -1.8189]])\n",
      "Values: \n",
      "tensor([-0.1000, -0.3166, -1.6373])\n",
      "Values: \n",
      "tensor([ 0.7013, -2.7553])\n"
     ]
    }
   ],
   "source": [
    "# Dimensional operations\n",
    "x = torch.randn(2, 3)\n",
    "print(f\"Values: \\n{x}\")\n",
    "y = torch.sum(x, dim=0) # add each row's value for every column\n",
    "print(f\"Values: \\n{y}\")\n",
    "z = torch.sum(x, dim=1) # add each column's value for every row\n",
    "print(f\"Values: \\n{z}\")"
   ]
  },
  {
   "cell_type": "markdown",
   "metadata": {
    "id": "kqxljkudzH0M"
   },
   "source": [
    "### Indexing, Slicing, and Joining"
   ]
  },
  {
   "cell_type": "code",
   "execution_count": 15,
   "metadata": {
    "colab": {
     "base_uri": "https://localhost:8080/"
    },
    "executionInfo": {
     "elapsed": 230,
     "status": "ok",
     "timestamp": 1698411817756,
     "user": {
      "displayName": "Aleksandar Vakanski",
      "userId": "07675307153279708378"
     },
     "user_tz": 360
    },
    "id": "Q8-w1Cb3wsj0",
    "outputId": "9a7866a6-cf1e-4498-d467-1b91801eeef9"
   },
   "outputs": [
    {
     "name": "stdout",
     "output_type": "stream",
     "text": [
      "x: \n",
      "tensor([[ 0.2111,  0.3372,  0.6638,  1.0397],\n",
      "        [ 1.8434,  0.6588, -0.2349, -0.0306],\n",
      "        [ 1.7462, -0.0722, -1.6794, -1.7010]])\n",
      "x[:1]: \n",
      "tensor([[0.2111, 0.3372, 0.6638, 1.0397]])\n",
      "x[:1, 1:3]: \n",
      "tensor([[0.3372, 0.6638]])\n"
     ]
    }
   ],
   "source": [
    "x = torch.randn(3, 4)\n",
    "print (f\"x: \\n{x}\")\n",
    "print (f\"x[:1]: \\n{x[:1]}\")\n",
    "print (f\"x[:1, 1:3]: \\n{x[:1, 1:3]}\")"
   ]
  },
  {
   "cell_type": "code",
   "execution_count": 16,
   "metadata": {
    "colab": {
     "base_uri": "https://localhost:8080/"
    },
    "executionInfo": {
     "elapsed": 185,
     "status": "ok",
     "timestamp": 1698411819606,
     "user": {
      "displayName": "Aleksandar Vakanski",
      "userId": "07675307153279708378"
     },
     "user_tz": 360
    },
    "id": "jBGk_740wsm3",
    "outputId": "6f8b3ffc-1b8d-4841-be1d-a43bdc369178"
   },
   "outputs": [
    {
     "name": "stdout",
     "output_type": "stream",
     "text": [
      "Values: \n",
      "tensor([[ 0.6486,  1.7653,  1.0812],\n",
      "        [ 1.2436,  0.8971, -0.0784]])\n",
      "Values: \n",
      "tensor([[ 0.6486,  1.0812],\n",
      "        [ 1.2436, -0.0784]])\n",
      "Values: \n",
      "tensor([ 0.6486, -0.0784])\n"
     ]
    }
   ],
   "source": [
    "# Select with dimensional indices\n",
    "x = torch.randn(2, 3)\n",
    "print(f\"Values: \\n{x}\")\n",
    "\n",
    "col_indices = torch.LongTensor([0, 2])\n",
    "chosen = torch.index_select(x, dim=1, index=col_indices) # values from column 0 & 2\n",
    "print(f\"Values: \\n{chosen}\")\n",
    "\n",
    "row_indices = torch.LongTensor([0, 1])\n",
    "col_indices = torch.LongTensor([0, 2])\n",
    "chosen = x[row_indices, col_indices] # values from (0, 0) & (1, 2)\n",
    "print(f\"Values: \\n{chosen}\")"
   ]
  },
  {
   "cell_type": "code",
   "execution_count": 17,
   "metadata": {
    "colab": {
     "base_uri": "https://localhost:8080/"
    },
    "executionInfo": {
     "elapsed": 295,
     "status": "ok",
     "timestamp": 1698411821999,
     "user": {
      "displayName": "Aleksandar Vakanski",
      "userId": "07675307153279708378"
     },
     "user_tz": 360
    },
    "id": "UI_hboLNwsqQ",
    "outputId": "37dd8dda-fe5b-42a5-e816-5e6aaad25160"
   },
   "outputs": [
    {
     "name": "stdout",
     "output_type": "stream",
     "text": [
      "Values: \n",
      "tensor([[ 0.5548, -0.0845,  0.5903],\n",
      "        [-1.0032, -1.7873,  0.0538]])\n",
      "Values: \n",
      "tensor([[ 0.5548, -0.0845,  0.5903],\n",
      "        [-1.0032, -1.7873,  0.0538],\n",
      "        [ 0.5548, -0.0845,  0.5903],\n",
      "        [-1.0032, -1.7873,  0.0538]])\n"
     ]
    }
   ],
   "source": [
    "# Concatenation\n",
    "x = torch.randn(2, 3)\n",
    "print(f\"Values: \\n{x}\")\n",
    "y = torch.cat([x, x], dim=0) # stack by rows (dim=1 to stack by columns)\n",
    "print(f\"Values: \\n{y}\")"
   ]
  },
  {
   "cell_type": "markdown",
   "metadata": {
    "id": "lK1OQUYL1bE3"
   },
   "source": [
    "### Gradients"
   ]
  },
  {
   "cell_type": "markdown",
   "metadata": {
    "id": "VF5Q5kfs1rXZ"
   },
   "source": [
    "* $y = 3x + 2$\n",
    "* $z = \\sum{y}/N$\n",
    "* $\\frac{\\partial(z)}{\\partial(x)} = \\frac{\\partial(z)}{\\partial(y)} \\frac{\\partial(y)}{\\partial(x)} = \\frac{1}{N} * 3 = \\frac{1}{12} * 3 = 0.25$"
   ]
  },
  {
   "cell_type": "code",
   "execution_count": 18,
   "metadata": {
    "colab": {
     "base_uri": "https://localhost:8080/"
    },
    "executionInfo": {
     "elapsed": 176,
     "status": "ok",
     "timestamp": 1698411824534,
     "user": {
      "displayName": "Aleksandar Vakanski",
      "userId": "07675307153279708378"
     },
     "user_tz": 360
    },
    "id": "9Ft6PAeW0WCe",
    "outputId": "8dd7614c-7767-4df4-b645-80537fd96922"
   },
   "outputs": [
    {
     "name": "stdout",
     "output_type": "stream",
     "text": [
      "x: \n",
      "tensor([[0.7379, 0.0846, 0.4245, 0.9778],\n",
      "        [0.6800, 0.3151, 0.3911, 0.8943],\n",
      "        [0.6889, 0.8389, 0.1780, 0.6442]], requires_grad=True)\n",
      "x.grad: \n",
      "tensor([[0.2500, 0.2500, 0.2500, 0.2500],\n",
      "        [0.2500, 0.2500, 0.2500, 0.2500],\n",
      "        [0.2500, 0.2500, 0.2500, 0.2500]])\n"
     ]
    }
   ],
   "source": [
    "# Tensors with gradient bookkeeping\n",
    "x = torch.rand(3, 4, requires_grad=True)\n",
    "y = 3*x + 2\n",
    "z = y.mean()\n",
    "z.backward() # z has to be scalar\n",
    "print(f\"x: \\n{x}\")\n",
    "print(f\"x.grad: \\n{x.grad}\")"
   ]
  },
  {
   "cell_type": "markdown",
   "metadata": {
    "id": "kseQSKj72H8S"
   },
   "source": [
    "## CUDA tensors"
   ]
  },
  {
   "cell_type": "code",
   "execution_count": 19,
   "metadata": {
    "colab": {
     "base_uri": "https://localhost:8080/"
    },
    "executionInfo": {
     "elapsed": 2,
     "status": "ok",
     "timestamp": 1698411826936,
     "user": {
      "displayName": "Aleksandar Vakanski",
      "userId": "07675307153279708378"
     },
     "user_tz": 360
    },
    "id": "ZE-ZyECv0WOX",
    "outputId": "54ae0ea4-abb1-4d8f-ca06-75d98dd36540"
   },
   "outputs": [
    {
     "name": "stdout",
     "output_type": "stream",
     "text": [
      "False\n"
     ]
    }
   ],
   "source": [
    "# Is CUDA available?\n",
    "print (torch.cuda.is_available())"
   ]
  },
  {
   "cell_type": "markdown",
   "metadata": {
    "id": "n5sWo3Yv2MxO"
   },
   "source": [
    "If False, CUDA is not available. In Google Colab, we can change it by *Runtime* > *Change runtime type* > Change *Hardware accelerator* to *GPU* > Click *Save*"
   ]
  },
  {
   "cell_type": "code",
   "execution_count": 20,
   "metadata": {
    "colab": {
     "base_uri": "https://localhost:8080/"
    },
    "executionInfo": {
     "elapsed": 197,
     "status": "ok",
     "timestamp": 1698411836973,
     "user": {
      "displayName": "Aleksandar Vakanski",
      "userId": "07675307153279708378"
     },
     "user_tz": 360
    },
    "id": "IwsrvGad2NDO",
    "outputId": "22e25f03-a1a9-44c8-b454-4f4e37f453f7"
   },
   "outputs": [
    {
     "name": "stdout",
     "output_type": "stream",
     "text": [
      "False\n"
     ]
    }
   ],
   "source": [
    "# Is CUDA available now?\n",
    "print (torch.cuda.is_available())"
   ]
  },
  {
   "cell_type": "code",
   "execution_count": 21,
   "metadata": {
    "colab": {
     "base_uri": "https://localhost:8080/"
    },
    "executionInfo": {
     "elapsed": 239,
     "status": "ok",
     "timestamp": 1698411840780,
     "user": {
      "displayName": "Aleksandar Vakanski",
      "userId": "07675307153279708378"
     },
     "user_tz": 360
    },
    "id": "50ewrqUVCRHg",
    "outputId": "865205a2-99c5-4769-f005-966a98235ec3"
   },
   "outputs": [
    {
     "name": "stdout",
     "output_type": "stream",
     "text": [
      "cpu\n"
     ]
    }
   ],
   "source": [
    "# Set device\n",
    "device = torch.device(\"cuda\" if torch.cuda.is_available() else \"cpu\")\n",
    "print (device)"
   ]
  },
  {
   "cell_type": "code",
   "execution_count": 22,
   "metadata": {
    "colab": {
     "base_uri": "https://localhost:8080/"
    },
    "executionInfo": {
     "elapsed": 5393,
     "status": "ok",
     "timestamp": 1698411848812,
     "user": {
      "displayName": "Aleksandar Vakanski",
      "userId": "07675307153279708378"
     },
     "user_tz": 360
    },
    "id": "s12ivWJZCLq7",
    "outputId": "6bdc3c11-cee7-4c69-93c1-1dbaded97f46"
   },
   "outputs": [
    {
     "name": "stdout",
     "output_type": "stream",
     "text": [
      "False\n",
      "False\n"
     ]
    }
   ],
   "source": [
    "x = torch.rand(2,3)\n",
    "print (x.is_cuda)\n",
    "x = torch.rand(2,3).to(device) # Tensor is stored on the GPU\n",
    "print (x.is_cuda)"
   ]
  },
  {
   "cell_type": "markdown",
   "metadata": {},
   "source": [
    "## Training a Simple NN model using PyTorch with MNIST Dataset"
   ]
  },
  {
   "cell_type": "code",
   "execution_count": 23,
   "metadata": {},
   "outputs": [
    {
     "name": "stderr",
     "output_type": "stream",
     "text": [
      "c:\\Users\\LZ\\anaconda3\\envs\\pytorch\\Lib\\site-packages\\torchvision\\io\\image.py:13: UserWarning: Failed to load image Python extension: '[WinError 127] The specified procedure could not be found'If you don't plan on using image functionality from `torchvision.io`, you can ignore this warning. Otherwise, there might be something wrong with your environment. Did you have `libjpeg` or `libpng` installed before building `torchvision` from source?\n",
      "  warn(\n",
      "c:\\Users\\LZ\\anaconda3\\envs\\pytorch\\Lib\\site-packages\\tqdm\\auto.py:21: TqdmWarning: IProgress not found. Please update jupyter and ipywidgets. See https://ipywidgets.readthedocs.io/en/stable/user_install.html\n",
      "  from .autonotebook import tqdm as notebook_tqdm\n"
     ]
    },
    {
     "name": "stdout",
     "output_type": "stream",
     "text": [
      "Epoch 0, Training Loss: 0.3420032774229844\n",
      "Epoch 1, Training Loss: 0.1638641026608646\n",
      "Epoch 2, Training Loss: 0.12668069043022892\n",
      "Epoch 3, Training Loss: 0.10533846081979573\n",
      "Epoch 4, Training Loss: 0.09359534585283448\n",
      "Training Completed.\n",
      "Accuracy: 96.76%\n"
     ]
    }
   ],
   "source": [
    "import torch\n",
    "import torch.nn as nn\n",
    "import torch.optim as optim\n",
    "import torch.nn.functional as F\n",
    "from torchvision import datasets, transforms\n",
    "from torch.utils.data import DataLoader\n",
    "\n",
    "# Define the dataset\n",
    "transform = transforms.Compose([transforms.ToTensor(), transforms.Normalize((0.5,), (0.5,))])\n",
    "\n",
    "train_data = datasets.MNIST(root='./data', train=True, download=True, transform=transform)\n",
    "test_data = datasets.MNIST(root='./data', train=False, download=True, transform=transform)\n",
    "\n",
    "train_loader = DataLoader(dataset=train_data, batch_size=32, shuffle=True)\n",
    "test_loader = DataLoader(dataset=test_data, batch_size=32, shuffle=False)\n",
    "\n",
    "# Define a neural network\n",
    "class NN_model(nn.Module):\n",
    "    def __init__(self):\n",
    "        super(NN_model, self).__init__()\n",
    "        self.fc1 = nn.Linear(28*28, 128)  # 28*28 input image size\n",
    "        self.fc2 = nn.Linear(128, 50)     # 128 neurons in hidden layer\n",
    "        self.fc3 = nn.Linear(50, 10)      # 10 output classes\n",
    "\n",
    "    def forward(self, x):\n",
    "        x = x.view(-1, 28*28)  # Flatten the input to 1 dimension\n",
    "        x = F.relu(self.fc1(x))  # ReLU activation \n",
    "        x = F.relu(self.fc2(x))\n",
    "        x = self.fc3(x)  # Output layer\n",
    "        return x\n",
    "\n",
    "# Initialize the model, the loss function, and the optimizer\n",
    "model = NN_model()\n",
    "criterion = nn.CrossEntropyLoss()  # Suitable for classification tasks\n",
    "optimizer = optim.Adam(model.parameters(), lr=0.001)\n",
    "\n",
    "# 4. Training the neural network\n",
    "epochs = 5\n",
    "for epoch in range(epochs):\n",
    "    running_loss = 0.0\n",
    "    for images, labels in train_loader:\n",
    "        # Zero the parameter gradients\n",
    "        optimizer.zero_grad()\n",
    "\n",
    "        # Forward pass\n",
    "        outputs = model(images)\n",
    "        loss = criterion(outputs, labels)\n",
    "\n",
    "        # Backward pass and optimization\n",
    "        loss.backward()\n",
    "        optimizer.step()\n",
    "\n",
    "        running_loss += loss.item()\n",
    "\n",
    "    print(f\"Epoch {epoch}, Training Loss: {running_loss/len(train_loader)}\")\n",
    "\n",
    "print(\"Training Completed.\")\n",
    "\n",
    "# 5. Testing the model\n",
    "correct = 0\n",
    "total = 0\n",
    "with torch.no_grad():\n",
    "    for images, labels in test_loader:\n",
    "        outputs = model(images)\n",
    "        _, predicted = torch.max(outputs.data, 1)\n",
    "        total += labels.size(0)\n",
    "        correct += (predicted == labels).sum().item()\n",
    "\n",
    "print(f'Accuracy: {100 * correct / total}%')\n"
   ]
  },
  {
   "cell_type": "markdown",
   "metadata": {
    "id": "9Mov-FPyOo4O"
   },
   "source": [
    "[BACK TO TOP](#top)"
   ]
  }
 ],
 "metadata": {
  "accelerator": "GPU",
  "colab": {
   "provenance": [
    {
     "file_id": "https://github.com/GokuMohandas/Made-With-ML/blob/main/notebooks/05_PyTorch.ipynb",
     "timestamp": 1607980263943
    }
   ]
  },
  "kernelspec": {
   "display_name": "Python 3 (ipykernel)",
   "language": "python",
   "name": "python3"
  },
  "language_info": {
   "codemirror_mode": {
    "name": "ipython",
    "version": 3
   },
   "file_extension": ".py",
   "mimetype": "text/x-python",
   "name": "python",
   "nbconvert_exporter": "python",
   "pygments_lexer": "ipython3",
   "version": "3.11.5"
  }
 },
 "nbformat": 4,
 "nbformat_minor": 4
}
