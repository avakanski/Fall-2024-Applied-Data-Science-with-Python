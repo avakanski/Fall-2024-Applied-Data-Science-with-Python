{
 "cells": [
  {
   "cell_type": "markdown",
   "metadata": {},
   "source": [
    "# Tutorial 2 - Terminal and Command Line\n"
   ]
  },
  {
   "cell_type": "markdown",
   "metadata": {},
   "source": [
    "[![View notebook on Github](https://img.shields.io/static/v1.svg?logo=github&label=Repo&message=View%20On%20Github&color=lightgrey)](https://github.com/avakanski/Fall-2023-Python-Programming-for-Data-Science/blob/dcb2aa2eb7fa0cc8c95dd3f086ce59ffa4161ffc/docs/Lectures/Theme_1-Python_Programming/Tutorial_2-Terminal_and_Command_Line/Tutorial_2-Terminal_and_Command_Line.ipynb)\n",
    "[![Open In Collab](https://colab.research.google.com/assets/colab-badge.svg)](https://colab.research.google.com/github/avakanski/Fall-2023-Python-Programming-for-Data-Science/blob/dcb2aa2eb7fa0cc8c95dd3f086ce59ffa4161ffc/docs/Lectures/Theme_1-Python_Programming/Tutorial_2-Terminal_and_Command_Line/Tutorial_2-Terminal_and_Command_Line.ipynb)  "
   ]
  },
  {
   "cell_type": "markdown",
   "metadata": {},
   "source": [
    "<a id='top'></a>"
   ]
  },
  {
   "cell_type": "markdown",
   "metadata": {},
   "source": [
    "## Introduction to Command Line Interface"
   ]
  },
  {
   "cell_type": "markdown",
   "metadata": {},
   "source": [
    "**Command Line Interface (CLI)** is a text-based interface that allows users to interact with a computer system by typing commands. \n",
    "\n",
    "It's a way to give instructions to the computer using textual input. The command line is used to execute various commands, run programs, navigate the file system, and perform various tasks. \n",
    "\n",
    "It's commonly found in operating systems like Unix, Linux, and Windows, where users can enter commands directly into the command-line interface.\n",
    "\n",
    "**Why use CLI?**\n",
    "\n",
    "- CLI is more efficient for certain tasks, since we can execute the task with a single command instead of multiple clicks on different windows.  \n",
    "- Although Windows has features like Windows Task Scheduler, CLI is more flexible and easier to automate tasks.\n",
    "- For some tasks, such as running tasks on a remote server, CLI is the only way to interact with a computer."
   ]
  },
  {
   "cell_type": "markdown",
   "metadata": {},
   "source": [
    "### Basic Definitions Related to CLI\n",
    "\n",
    "**Terminal:** A terminal is a software application that offers access to a CLI. It's the platform or environment in which the command line is displayed and utilized. Essentially, it's the visual medium that facilitates communication with the computer via the command line.\n",
    "\n",
    "**Shell:** A shell is a program designed to interpret and execute the commands entered by users through the command line. Acting as a command-line interpreter, it translates human-readable commands into instructions comprehensible by the operating system for execution. The shell also manages tasks like input and output redirection, environment variables, scripting, and various other functionalities. Different operating systems deploy distinct shell programs. For example, Unix-like systems typically utilize shells such as Bash, Zsh, or Fish, while Windows employs the Command Prompt and PowerShell.\n",
    "\n",
    "**Console**: The console serves as the physical device that enables you to interact with the computer.\n",
    "\n",
    "In summary, the command line functions as a text-based instruction method, the terminal provides the visual interface for the command line, the shell is the program responsible for interpreting and executing input commands  through the command line, and the console is the computer screen, keyboard, mouse we use to interact with our computer.\n",
    "\n",
    "** **\n"
   ]
  },
  {
   "cell_type": "markdown",
   "metadata": {},
   "source": [
    "### Access the Command Prompt in Windows\n",
    "\n",
    "- To access the Command Prompt, enter \"command prompt\" in the Start menu's search bar to search for it. Alternatively, you can enter \"cmd\", which is the abbreviated name of the executable responsible for running the Command Prompt.\n",
    "\n",
    "<img src=\"images/cmd1.png\" width=\"500\">\n",
    "\n",
    "- Or, press Win + R to open the Run box, then enter \"cmd\" and press Enter. \n",
    "\n",
    "<img src=\"images/cmd2.png\" width=\"500\">\n",
    "\n",
    "- Alternatively, press Win + X, and choose Command Prompt (or Powershell, depending on Windows settings) from the menu.\n",
    "\n",
    "To run Command Prompt as an admin, hold Ctrl+Shift before pressing Enter, or right-click on the Command Prompt to select \"Run as administrator\".\n",
    "\n",
    "<img src=\"images/cmd3.png\" width=\"500\">\n"
   ]
  },
  {
   "cell_type": "markdown",
   "metadata": {},
   "source": [
    "### Other Ways to Access CLI in Windows\n",
    "\n",
    "- Access through **Jupyter Lab**. After opening Jupyter Lab, in the top menu select the **File** tab, then click **New**, and select **Terminal**.\n",
    "\n",
    "<img src=\"images/cmd6.png\" width=\"500\">\n",
    "\n",
    "\n",
    "- Or, enter **Anaconda Prompt** in the Start menu's search bar to search for it. The difference between Anaconda Prompt and Command Prompt is that Anaconda Prompt offers some conda-specific features, such as conda environment management, package management, and pre-configured data science packages.\n",
    "\n",
    "<img src=\"images/cmd7.png\" width=\"500\">"
   ]
  },
  {
   "cell_type": "markdown",
   "metadata": {},
   "source": [
    "## Command Prompt Basics\n",
    "\n",
    "After opening a Command Prompt window, some basic information will be displayed.\n",
    "\n",
    "For example, the current directory `C:\\Users\\[Username]>` will be displayed as in the figure below.\n",
    "\n",
    "\n",
    "<img src=\"images/cmd5.png\" width=\"500\">\n",
    "\n",
    "Only valid commands will be accepted in the Command Prompt, otherwise a message like this will be displayed.\n",
    "\n",
    "<img src=\"images/cmd8.png\" width=\"500\">\n",
    "\n",
    "\n",
    "**Help** command: typing `help` in the Command Prompt will display a list of commands and the associated descriptions.\n",
    "\n",
    "<img src=\"images/cmd9.png\" width=\"500\">\n",
    "\n",
    "For more information on a specific command, type `HELP command-name`, e.g. `HELP DIR`. As you may have noticed, the commands in Windows Command Prompt are not case-sensitive, and both `help` and `HELP` work.\n",
    "\n",
    "<img src=\"images/cmd10.png\" width=\"500\">\n",
    "\n",
    "### Listing and Changing Directories\n",
    "\n",
    "`DIR` is an abbreviation for the word directory, and it lists the contents of the directory (folder) that you are currently in. \n",
    "\n",
    "<img src=\"images/cmd11.png\" width=\"500\">\n",
    "\n",
    "To change directory, use `CD` followed by the name of the folder you want to access. \n",
    "\n",
    "<img src=\"images/cmd12.png\" width=\"500\">\n",
    "\n",
    "To go back to the parent directory, use `CD ..`\n",
    "\n",
    "<img src=\"images/cmd13.png\" width=\"500\">"
   ]
  },
  {
   "cell_type": "markdown",
   "metadata": {},
   "source": [
    "### Creating and Deleting Files/Folders in Command Prompt\n",
    "\n",
    "Use `mkdir` followed by `[new folder name/new file name]` to create a new folder/file.\n",
    "\n",
    "E.g., the command to create a folder named \"test\" is `mkdir test`.\n",
    "\n",
    "<img src=\"images/cmd14.png\" width=\"500\">\n",
    "\n",
    "Use `rmdir` followed by `[new folder name]` to delete a  folder.\n",
    "\n",
    "<img src=\"images/cmd15.png\" width=\"500\">\n",
    "\n",
    "Use `del` followed by `[new file name]`  to delete a file.\n",
    "\n",
    "<img src=\"images/cmd16.png\" width=\"500\">"
   ]
  },
  {
   "cell_type": "markdown",
   "metadata": {},
   "source": [
    "### CLI Management\n",
    "\n",
    "Enter `cls` to clear the previous content.\n",
    "\n",
    "Press **Ctrl+C** to end a command that is running"
   ]
  },
  {
   "cell_type": "markdown",
   "metadata": {},
   "source": [
    "### Run Python Files in Command Prompt \n",
    "\n",
    "To execute a Python file, simply type **python** followed by the path to the file. \n",
    "\n",
    "To find the file directory, just right-click on the file, then click \"Properties\" and copy the directory of the folder.\n",
    "\n",
    "<img src=\"images/cmd18.png\" width=\"500\">\n",
    "\n",
    "The python file directory will be the name of the folder the file is in, followed by a backward slash `\\` and the file name. E.g., the file directory of the `test.py` file is `C:\\Users\\L\\Desktop\\TA`, and therefore the path for the python file is `C:\\Users\\L\\Desktop\\TA\\test.py`.\n",
    "\n",
    "To run this file, use the command `python \"C:\\Users\\L\\Desktop\\TA\\test.py\"`.\n",
    "\n",
    "<img src=\"images/cmd19.png\" width=\"500\">"
   ]
  },
  {
   "cell_type": "markdown",
   "metadata": {},
   "source": [
    "### Access the Terminal in Ubuntu (Linux)\n",
    "\n",
    "- Click on the Activities on the upper left of the screen, and type keywords like **\"terminal\"**, **\"command\"**, **\"prompt\"**, or **\"shell\"**.\n",
    "\n",
    "<img src=\"images/terminal1.png\" width=\"500\">\n",
    "\n",
    "- Press **Ctrl+Alt+T**."
   ]
  },
  {
   "cell_type": "markdown",
   "metadata": {},
   "source": [
    "### Terminal Basics\n",
    "After opening a terminal window,\n",
    "**username@linux-desktop:~$** will be displayed. \n",
    "\n",
    "<img src=\"images/terminal2.png\" width=\"500\">"
   ]
  },
  {
   "cell_type": "markdown",
   "metadata": {},
   "source": [
    "### Basic Commands in Ubuntu (Linux)\n",
    "\n",
    "Commands in Linux are case-sensitive, but commands in Windows are NOT case-sensitive.\n",
    "\n",
    "The command `help` in Linux is the same command as in Windows, and it displays the available command names.\n",
    "\n",
    "Similarly, `help` followed by a command-name will show the specific information of that command.\n",
    "\n",
    "In Linux, `ls` is used to list the files in a directory instead of the command `dir` in Windows.\n",
    "\n",
    "To run a python file in Linux terminal, type `python3` followed by the file name."
   ]
  },
  {
   "cell_type": "markdown",
   "metadata": {},
   "source": [
    "### References\n",
    "\n",
    "1. \"A Beginner's Guide to the Windows Command Prompt\" by Ben Stegner, available at: [https://www.makeuseof.com/tag/a-beginners-guide-to-the-windows-command-line/](https://www.makeuseof.com/tag/a-beginners-guide-to-the-windows-command-line/).\n",
    "2. \"Command Line for Beginners – How to Use the Terminal Like a Pro\" by German Cocca, available at: [https://www.freecodecamp.org/news/command-line-for-beginners/](https://www.freecodecamp.org/news/command-line-for-beginners/)."
   ]
  },
  {
   "cell_type": "markdown",
   "metadata": {
    "tags": []
   },
   "source": [
    "[BACK TO TOP](#top)"
   ]
  }
 ],
 "metadata": {
  "kernelspec": {
   "display_name": "Python 3 (ipykernel)",
   "language": "python",
   "name": "python3"
  },
  "language_info": {
   "codemirror_mode": {
    "name": "ipython",
    "version": 3
   },
   "file_extension": ".py",
   "mimetype": "text/x-python",
   "name": "python",
   "nbconvert_exporter": "python",
   "pygments_lexer": "ipython3",
   "version": "3.9.13"
  }
 },
 "nbformat": 4,
 "nbformat_minor": 4
}
