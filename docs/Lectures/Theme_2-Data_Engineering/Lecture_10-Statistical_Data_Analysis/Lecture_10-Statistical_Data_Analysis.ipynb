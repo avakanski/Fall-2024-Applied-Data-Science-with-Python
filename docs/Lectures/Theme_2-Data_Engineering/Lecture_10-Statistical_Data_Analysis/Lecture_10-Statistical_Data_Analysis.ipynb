{
 "cells": [
  {
   "cell_type": "markdown",
   "metadata": {},
   "source": [
    "# Lecture 10 - Statistical Data Analysis"
   ]
  },
  {
   "cell_type": "markdown",
   "metadata": {},
   "source": [
    "[![View notebook on Github](https://img.shields.io/static/v1.svg?logo=github&label=Repo&message=View%20On%20Github&color=lightgrey)](https://github.com/avakanski/Fall-2024-Applied-Data-Science-with-Python/blob/main/docs/Lectures/Theme_2-Data_Engineering/Lecture_10-Statistical_Data_Analysis/Lecture_10-Statistical_Data_Analysis.ipynb)\n",
    "[![Open In Collab](https://colab.research.google.com/assets/colab-badge.svg)](https://colab.research.google.com/github/avakanski/Fall-2024-Applied-Data-Science-with-Python/blob/main/docs/Lectures/Theme_2-Data_Engineering/Lecture_10-Statistical_Data_Analysis/Lecture_10-Statistical_Data_Analysis.ipynb) "
   ]
  },
  {
   "cell_type": "markdown",
   "metadata": {},
   "source": [
    "<a id='top'></a>"
   ]
  },
  {
   "cell_type": "markdown",
   "metadata": {},
   "source": [
    "- [10.1 Descriptive Statistics](#10.1-descriptive-statistics)\n",
    "    - [10.1.1 Measures of Central Tendency](#10.1.1-measures-of-central-tendency)\n",
    "    - [10.1.2 Measures of Variability](#10.1.2-measures-of-variability)\n",
    "    - [10.1.3 Summary of Descriptive Statistics](#10.1.3-summary-of-descriptive-statistics)\n",
    "    - [10.1.4 Measures of Correlation](#10.1.4-measures-of-correlation)\n",
    "- [10.2 Inferential Statistics](#10.2-inferential-statistics)\n",
    "    - [10.2.1 Linear Regression](#10.2.1-linear-regression)\n",
    "    - [10.2.2 Standard Error of the Mean](#10.2.2-standard-error-of-the-mean)\n",
    "    - [10.2.3 Confidence Intervals](#10.2.3-confidence-intervals)\n",
    "    - [10.2.4 Hypothesis Testing](#10.2.4-hypothesis-testing)\n",
    "- [References](#references)"
   ]
  },
  {
   "cell_type": "markdown",
   "metadata": {},
   "source": [
    "Statistical data analysis is an essential aspect of data science and machine learning. Via statistical data analysis, we can obtain meaningful insights from datasets, make predictions, and inform decision-making. In this lecture, we will cover Python libraries for statistical analysis, including the calculation of descriptive statistics and inferential statistics. Descriptive statistics involves methods for summarizing and organizing data to describe their main features and characteristics. The data summarization is typically in the form of summary statistics and visualization techniques. Inferential statistics involves methods for making inferences or predictions about a population based on a sample of data. "
   ]
  },
  {
   "cell_type": "markdown",
   "metadata": {},
   "source": [
    "## 10.1 Descriptive Statistics <a id=\"10.1-descriptive-statistics\"/>"
   ]
  },
  {
   "cell_type": "markdown",
   "metadata": {},
   "source": [
    "Descriptive statistics provide basic summaries about a dataset and insights into the characteristics of a dataset. In Data Science, descriptive statistics are often the first step in data exploration, enabling to understand the underlying patterns of the data, detect anomalies, and form hypotheses for further analysis. The initial examination is important for guiding subsequent analyses, which may involve inferential statistics or machine learning model development.\n",
    "\n",
    "Providing data summaries via descriptive statistics can involve:\n",
    "* Calculating **quantitative measures** that describe and summarize the data numerically.\n",
    "* Using **visualization techniques** to present data distributions and relationships with charts and plots.\n",
    "\n",
    "We can apply descriptive statistics to analyze a single variable (feature), or the relationship between multiple variables (features) within a dataset. The type of analysis that focuses on understanding the basic characteristics of a single feature in isolation is referred to as **uinivariate analysis**. Statistical analysis that  examines the relationships and patterns among multiple variables is **multivariate analysis**. The special case of examining the statistical relationships among a pair of variables is called **bivariate analysis**."
   ]
  },
  {
   "cell_type": "markdown",
   "metadata": {},
   "source": [
    "Quantitative descriptive statistics measures are typically categorized into:\n",
    "\n",
    "* Measures of **central tendency**, such as the mean, mode, and median, describe the center of the data and indicate where most data points are concentrated.\n",
    "* Measures of **variability**, such as the range, variance, and standard deviation, quantify the spread or dispersion of the data and show how much the data points differ from the central values.\n",
    "* Measures of **correlation**, such as correlation coefficient and covariance, quantify the relationships between variables in a dataset.\n",
    "\n",
    "Additionally, measures like skewness and kurtosis describe the shape of the data distribution, highlighting asymmetry or the presence of outliers in the data."
   ]
  },
  {
   "cell_type": "markdown",
   "metadata": {},
   "source": [
    "### 10.1.1 Measures of Central Tendency <a id=\"10.1.1-measures-of-central-tendency\"/>"
   ]
  },
  {
   "cell_type": "markdown",
   "metadata": {},
   "source": [
    "The measures of central tendency describe the central or middle values of a dataset, i.e., the location where  most data points are concentrated.\n",
    "\n",
    "The measures of central tendency include:\n",
    "\n",
    "* Mean\n",
    "* Median\n",
    "* Mode\n",
    "* Weighted mean\n",
    "* Geometric mean\n",
    "* Harmonic mean"
   ]
  },
  {
   "cell_type": "markdown",
   "metadata": {},
   "source": [
    "#### Mean"
   ]
  },
  {
   "cell_type": "markdown",
   "metadata": {},
   "source": [
    "The **mean** of a sample drawn from a population is the arithmetic average of all elements in a dataset. It is also called the **sample arithmetic mean** or simply the **average**.\n",
    "\n",
    "The mean of a dataset 𝑥 is mathematically expressed as:\n",
    "\n",
    "$\\overline{x} = \\frac{\\sum_{i=1}^{n} x_i}{n}$"
   ]
  },
  {
   "cell_type": "markdown",
   "metadata": {},
   "source": [
    "In Python we can calculate the mean of a sequence of items using the built-in functions `sum()` and `len()`. "
   ]
  },
  {
   "cell_type": "code",
   "execution_count": 1,
   "metadata": {},
   "outputs": [
    {
     "data": {
      "text/plain": [
       "8.7"
      ]
     },
     "execution_count": 1,
     "metadata": {},
     "output_type": "execute_result"
    }
   ],
   "source": [
    "x = [8.0, 1, 2.5, 4, 28.0]\n",
    "\n",
    "mean = sum(x) / len(x)\n",
    "mean"
   ]
  },
  {
   "cell_type": "markdown",
   "metadata": {},
   "source": [
    "Alternatively, it may be more convenient to import the built-in Python library `statistics` for calculating descriptive statistics and for performing other types of statistical analyses. "
   ]
  },
  {
   "cell_type": "code",
   "execution_count": 2,
   "metadata": {},
   "outputs": [
    {
     "data": {
      "text/plain": [
       "8.7"
      ]
     },
     "execution_count": 2,
     "metadata": {},
     "output_type": "execute_result"
    }
   ],
   "source": [
    "import statistics\n",
    "\n",
    "mean = statistics.mean(x)\n",
    "mean"
   ]
  },
  {
   "cell_type": "markdown",
   "metadata": {},
   "source": [
    "As we learned in the previous lectures, the libraries `NumPy` and `pandas` allow calculating descriptive statistics for data in the form of ndarrays and DataFrames."
   ]
  },
  {
   "cell_type": "code",
   "execution_count": 3,
   "metadata": {},
   "outputs": [
    {
     "data": {
      "text/plain": [
       "8.7"
      ]
     },
     "execution_count": 3,
     "metadata": {},
     "output_type": "execute_result"
    }
   ],
   "source": [
    "import numpy as np\n",
    "\n",
    "# NumPy\n",
    "y = np.array(x)\n",
    "\n",
    "mean = np.mean(y)\n",
    "mean"
   ]
  },
  {
   "cell_type": "markdown",
   "metadata": {},
   "source": [
    "The `average()` function in `NumPy` can also be used to calculate the mean of an array."
   ]
  },
  {
   "cell_type": "code",
   "execution_count": 4,
   "metadata": {},
   "outputs": [
    {
     "data": {
      "text/plain": [
       "8.7"
      ]
     },
     "execution_count": 4,
     "metadata": {},
     "output_type": "execute_result"
    }
   ],
   "source": [
    "mean = np.average(y)\n",
    "mean"
   ]
  },
  {
   "cell_type": "code",
   "execution_count": 5,
   "metadata": {},
   "outputs": [
    {
     "data": {
      "text/plain": [
       "8.7"
      ]
     },
     "execution_count": 5,
     "metadata": {},
     "output_type": "execute_result"
    }
   ],
   "source": [
    "import pandas as pd\n",
    "\n",
    "# pandas\n",
    "z = pd.Series(x)\n",
    "\n",
    "mean = z.mean()\n",
    "mean"
   ]
  },
  {
   "cell_type": "markdown",
   "metadata": {},
   "source": [
    "A limitation of the mean is its sensitivity to outliers in the dataset having extremely high or low values. Also,  it may not accurately reflect the central tendency if the dataset is skewed."
   ]
  },
  {
   "cell_type": "markdown",
   "metadata": {},
   "source": [
    "#### Median"
   ]
  },
  {
   "cell_type": "markdown",
   "metadata": {},
   "source": [
    "The **median** of a sample is the middle element of the sorted elements. The dataset can be sorted in increasing or decreasing order. If the number of elements $𝑛$ of the dataset is odd, the median is the value at the middle position. If $𝑛$ is even, the median is the arithmetic mean of the two values in the middle. For example, for the data points `(2, 4, 1, 8, 9)`, the sorted dataset is `(1, 2, 4, 8, 9)`, and the median value is 4. If the data points are `(2, 4, 1, 8)`, the sorted dataset is `(1, 2, 4, 8)`, and the median is 3, obtained as the average of the two middle elements 2 and 4."
   ]
  },
  {
   "cell_type": "markdown",
   "metadata": {},
   "source": [
    "To calculate the median in native Python, we can write a simple function based on the above description. However, to avoid any errors in our code, we can simply use the implemented function from the `statistics` library. The sorted version of the above list  `x` is `(1, 2.5, 4, 8.0, 28.0)`, therefore, the median is the element in the middle, which is 4."
   ]
  },
  {
   "cell_type": "code",
   "execution_count": 6,
   "metadata": {},
   "outputs": [
    {
     "data": {
      "text/plain": [
       "4"
      ]
     },
     "execution_count": 6,
     "metadata": {},
     "output_type": "execute_result"
    }
   ],
   "source": [
    "median = statistics.median(x)\n",
    "median"
   ]
  },
  {
   "cell_type": "markdown",
   "metadata": {},
   "source": [
    "`Numpy` and `pandas` also provide a `median` function for this purpose."
   ]
  },
  {
   "cell_type": "code",
   "execution_count": 7,
   "metadata": {},
   "outputs": [
    {
     "name": "stdout",
     "output_type": "stream",
     "text": [
      "NumPy: 4.0\n",
      "\n",
      "pandas: 4.0\n"
     ]
    }
   ],
   "source": [
    "# NumPy\n",
    "median = np.median(y)\n",
    "print('NumPy:', median)\n",
    "\n",
    "# pandas\n",
    "median = z.median()\n",
    "print('\\npandas:', median)"
   ]
  },
  {
   "cell_type": "markdown",
   "metadata": {},
   "source": [
    "The median is less sensitive to outliers compared to the mean, and therefore, it is considered a more robust measure of central tendency. The median is also particularly useful for skewed distributions."
   ]
  },
  {
   "cell_type": "markdown",
   "metadata": {},
   "source": [
    "#### Mode"
   ]
  },
  {
   "cell_type": "markdown",
   "metadata": {},
   "source": [
    "The **mode** of a sample is the value in the dataset that occurs most frequently. For example, in the set that contains the points `(2, 3, 2, 8, 12)`, the number 2 is the mode because it occurs twice. In general, a dataset can have multiple values that occur the most frequently, in which case it is referred to as a multimodal dataset (e.g., if a dataset has two modes, it is called bimodal)."
   ]
  },
  {
   "cell_type": "code",
   "execution_count": 8,
   "metadata": {},
   "outputs": [
    {
     "name": "stdout",
     "output_type": "stream",
     "text": [
      "statistics: 2\n"
     ]
    }
   ],
   "source": [
    " u = [2, 3, 2, 8, 12]\n",
    "\n",
    "# statistics\n",
    "mode = statistics.mode(u)\n",
    "print('statistics:', mode)"
   ]
  },
  {
   "cell_type": "markdown",
   "metadata": {},
   "source": [
    "Note that `NumPy` does not have a built-in `mode` function. For this purpose, we can use the `scipy.stats` module in the `SciPy` library for scientific calculations which is implemented on top of `NumPy`. The output includes the value of the mode, and the number of counts it occurs in the dataset."
   ]
  },
  {
   "cell_type": "code",
   "execution_count": 9,
   "metadata": {},
   "outputs": [
    {
     "name": "stdout",
     "output_type": "stream",
     "text": [
      "NumPy: ModeResult(mode=2, count=2)\n"
     ]
    }
   ],
   "source": [
    "# NumPy\n",
    "import scipy\n",
    "mode = scipy.stats.mode(u)\n",
    "print('NumPy:', mode)"
   ]
  },
  {
   "cell_type": "markdown",
   "metadata": {},
   "source": [
    "We can use `pandas` to calculate the mode as well. Pandas returns a series with all modes in the dataset, and in this case, the only mode is 2, and it has index 0."
   ]
  },
  {
   "cell_type": "code",
   "execution_count": 10,
   "metadata": {},
   "outputs": [
    {
     "name": "stdout",
     "output_type": "stream",
     "text": [
      "pandas: 0    2\n",
      "dtype: int64\n"
     ]
    }
   ],
   "source": [
    "# pandas\n",
    "w = pd.Series(u)\n",
    "mode = w.mode()\n",
    "print('pandas:', mode)"
   ]
  },
  {
   "cell_type": "markdown",
   "metadata": {},
   "source": [
    "Let's see another example of a sequence with two modes. Note that the `mode()` function in the `statistics` library returns only a single mode, and the `multimode()` function returns more than one modal value, as shown in the next cell. Therefore, it is preferred to use the `multimode()` function to avoid missing multimodality in the data."
   ]
  },
  {
   "cell_type": "code",
   "execution_count": 11,
   "metadata": {},
   "outputs": [
    {
     "name": "stdout",
     "output_type": "stream",
     "text": [
      "statistics: 12\n"
     ]
    }
   ],
   "source": [
    "v = [12, 15, 12, 15, 21, 15, 12]\n",
    "\n",
    "# statistics\n",
    "mode = statistics.mode(v)\n",
    "print('statistics:', mode)"
   ]
  },
  {
   "cell_type": "code",
   "execution_count": 12,
   "metadata": {},
   "outputs": [
    {
     "name": "stdout",
     "output_type": "stream",
     "text": [
      "statistics: [12, 15]\n"
     ]
    }
   ],
   "source": [
    "# statistics\n",
    "mode = statistics.multimode(v)\n",
    "print('statistics:', mode)"
   ]
  },
  {
   "cell_type": "markdown",
   "metadata": {},
   "source": [
    "The next cell shows the same example with `NumPy` and `pandas`. Note that `NumPy` returned only one mode, and it does not have a function for dealing with multiple modes. On the other hand, `pandas` returned both modes."
   ]
  },
  {
   "cell_type": "code",
   "execution_count": 13,
   "metadata": {},
   "outputs": [
    {
     "name": "stdout",
     "output_type": "stream",
     "text": [
      "NumPy: ModeResult(mode=12, count=3)\n",
      "\n",
      "pandas: 0    12\n",
      "1    15\n",
      "dtype: int64\n"
     ]
    }
   ],
   "source": [
    "# NumPy\n",
    "mode = scipy.stats.mode(v)\n",
    "print('NumPy:', mode)\n",
    "\n",
    "# pandas\n",
    "w = pd.Series(v)\n",
    "mode = w.mode()\n",
    "print('\\npandas:', mode)"
   ]
  },
  {
   "cell_type": "markdown",
   "metadata": {},
   "source": [
    "#### Weighted Mean"
   ]
  },
  {
   "cell_type": "markdown",
   "metadata": {},
   "source": [
    "The **weighted mean**  is a generalization of the arithmetic mean that enables to assign a weight to each data point that quantifies the relative contribution of the data point to the result. It is also called weighted arithmetic mean or weighted average. \n",
    "\n",
    "If we denote the weight $𝑤_i$ that is assigned to data point $𝑥_i$ of the dataset, the weighted mean is obtained by multiplying each data point with the corresponding weight, summing all the products, and dividing the sum with the sum of the weights:\n",
    "\n",
    "$\\overline{x}_\\text{weighted} = \\frac{\\sum_{i=1}^{n} w_i x_i}{\\sum_{i=1}^{n} w_i}$"
   ]
  },
  {
   "cell_type": "markdown",
   "metadata": {},
   "source": [
    "The weighted mean is very useful when we need to calculate the mean of a dataset containing items that occur with given relative frequencies. In this case, we consider the frequencies as the weights of the individual data points.\n",
    "\n",
    "The libraries `statistics` and `pandas` do not have functions for calculating the weighted mean. However, it can be easily applied in Python as the example in the next cell. "
   ]
  },
  {
   "cell_type": "code",
   "execution_count": 14,
   "metadata": {},
   "outputs": [
    {
     "data": {
      "text/plain": [
       "6.95"
      ]
     },
     "execution_count": 14,
     "metadata": {},
     "output_type": "execute_result"
    }
   ],
   "source": [
    "x = [8.0, 1, 2.5, 4, 28.0]\n",
    "w = [0.1, 0.2, 0.3, 0.25, 0.15]\n",
    "\n",
    "wmean = sum(w[i] * x[i] for i in range(len(x))) / sum(w)\n",
    "wmean"
   ]
  },
  {
   "cell_type": "markdown",
   "metadata": {},
   "source": [
    "In `NumPy`, the `average` function allows to assign weights and calculate the weighted mean. "
   ]
  },
  {
   "cell_type": "code",
   "execution_count": 15,
   "metadata": {},
   "outputs": [
    {
     "data": {
      "text/plain": [
       "6.95"
      ]
     },
     "execution_count": 15,
     "metadata": {},
     "output_type": "execute_result"
    }
   ],
   "source": [
    "wmean = np.average(z, weights=w)\n",
    "wmean"
   ]
  },
  {
   "cell_type": "markdown",
   "metadata": {},
   "source": [
    "#### Harmonic Mean"
   ]
  },
  {
   "cell_type": "markdown",
   "metadata": {},
   "source": [
    "The **harmonic mean** is the reciprocal of the mean of the reciprocals of all items in the dataset, i.e.:\n",
    "\n",
    "$\\overline{x}_\\text{harmonic} = \\frac{𝑛}{\\sum_{i=1}^{n}\\frac{1}{𝑥_i}}$\n",
    "\n",
    "One variant of pure Python implementation of the harmonic mean is as follows."
   ]
  },
  {
   "cell_type": "code",
   "execution_count": 16,
   "metadata": {},
   "outputs": [
    {
     "data": {
      "text/plain": [
       "2.7613412228796843"
      ]
     },
     "execution_count": 16,
     "metadata": {},
     "output_type": "execute_result"
    }
   ],
   "source": [
    "hmean = len(x) / sum(1/item for item in x)\n",
    "hmean"
   ]
  },
  {
   "cell_type": "markdown",
   "metadata": {},
   "source": [
    "We can also calculate this measure with `statistics.harmonic_mean()`."
   ]
  },
  {
   "cell_type": "code",
   "execution_count": 17,
   "metadata": {},
   "outputs": [
    {
     "data": {
      "text/plain": [
       "2.7613412228796843"
      ]
     },
     "execution_count": 17,
     "metadata": {},
     "output_type": "execute_result"
    }
   ],
   "source": [
    "hmean = statistics.harmonic_mean(x)\n",
    "hmean"
   ]
  },
  {
   "cell_type": "markdown",
   "metadata": {},
   "source": [
    "Another way to calculate the harmonic mean is by using `scipy.stats.hmean()`."
   ]
  },
  {
   "cell_type": "code",
   "execution_count": 18,
   "metadata": {},
   "outputs": [
    {
     "data": {
      "text/plain": [
       "2.7613412228796843"
      ]
     },
     "execution_count": 18,
     "metadata": {},
     "output_type": "execute_result"
    }
   ],
   "source": [
    "scipy.stats.hmean(y)"
   ]
  },
  {
   "cell_type": "markdown",
   "metadata": {},
   "source": [
    "#### Geometric Mean"
   ]
  },
  {
   "cell_type": "markdown",
   "metadata": {},
   "source": [
    "The **geometric mean** is the 𝑛-th root of the product of all 𝑛 elements $𝑥_i$ in a dataset:\n",
    "\n",
    "$\\overline{x}_\\text{geometric} = \\sqrt[n]{\\prod_{i=1}^{n} x_i}$"
   ]
  },
  {
   "cell_type": "markdown",
   "metadata": {},
   "source": [
    "It can be calculated by `statistics.geometric_mean()` and `scipy.stats.gmean()`."
   ]
  },
  {
   "cell_type": "code",
   "execution_count": 19,
   "metadata": {},
   "outputs": [
    {
     "data": {
      "text/plain": [
       "4.67788567485604"
      ]
     },
     "execution_count": 19,
     "metadata": {},
     "output_type": "execute_result"
    }
   ],
   "source": [
    "gmean = statistics.geometric_mean(x)\n",
    "gmean"
   ]
  },
  {
   "cell_type": "code",
   "execution_count": 20,
   "metadata": {},
   "outputs": [
    {
     "data": {
      "text/plain": [
       "4.67788567485604"
      ]
     },
     "execution_count": 20,
     "metadata": {},
     "output_type": "execute_result"
    }
   ],
   "source": [
    "scipy.stats.gmean(y)"
   ]
  },
  {
   "cell_type": "markdown",
   "metadata": {},
   "source": [
    "### 10.1.2 Measures of Variability <a id=\"10.1.2-measures-of-variability\"/>"
   ]
  },
  {
   "cell_type": "markdown",
   "metadata": {},
   "source": [
    "The measures of central tendency are not sufficient to describe data, and we also need the measures of variability that quantify the spread of data points. \n",
    "\n",
    "Measures of variability include:\n",
    "\n",
    "* Range\n",
    "* Interquartile range\n",
    "* Variance\n",
    "* Standard deviation\n",
    "* Skewness"
   ]
  },
  {
   "cell_type": "markdown",
   "metadata": {},
   "source": [
    "#### Range"
   ]
  },
  {
   "cell_type": "markdown",
   "metadata": {},
   "source": [
    "The **range** of a dataset is the difference between the maximum and minimum elements. \n",
    "\n",
    "To calculate the range, we can use `max()` and `min()` from the Python standard library.\n",
    "\n",
    "In NumPy, we can use `np.ptp()` to calculate the range directly, or via `amax()` and `amin()`.\n",
    "\n",
    "Similarly, in `pandas` we can use `.max()` and `.min()`."
   ]
  },
  {
   "cell_type": "code",
   "execution_count": 21,
   "metadata": {},
   "outputs": [
    {
     "name": "stdout",
     "output_type": "stream",
     "text": [
      "Python: 27.0\n",
      "NumPy: 27.0\n",
      "NumPy: 27.0\n",
      "pandas: 27.0\n"
     ]
    }
   ],
   "source": [
    "range_x = max(x) - min(x)\n",
    "print('Python:', range_x)\n",
    "\n",
    "range_y = np.ptp(y)\n",
    "print('NumPy:', range_y)\n",
    "\n",
    "range_y = np.amax(y) - np.amin(y)\n",
    "print('NumPy:', range_y)\n",
    "\n",
    "range_z = z.max() - z.min()\n",
    "print('pandas:', range_z)"
   ]
  },
  {
   "cell_type": "markdown",
   "metadata": {},
   "source": [
    "When working with range, we need to recall that this statistic is sensitive to outliers in the dataset."
   ]
  },
  {
   "cell_type": "markdown",
   "metadata": {},
   "source": [
    "#### Interquartile Range"
   ]
  },
  {
   "cell_type": "markdown",
   "metadata": {},
   "source": [
    "The **interquartile range** (IQR) is the difference between the first and third quartiles. More specifically, IQR is calculated as the difference between the 25th percentile (first quartile) and 75th percentile (third quartile). \n",
    "\n",
    "A dataset has three quartiles, which divide the dataset into four parts. The *first quartile* (Q1) is the 25th percentile, and it divides approximately 25% of the smallest items from the rest of the dataset. The *second quartile* (Q2) is the 50th percentile, or the median. The *third quartile* (Q3) is the 75th percentile, and it divides approximately 25% of the largest items from the rest of the dataset. In summary, approximately 25% of the items lie between the first and second quartiles, and another 25% lie between the second and third quartiles. \n",
    "\n",
    "<img src=\"images/quartiles.png\" width=\"400\">\n",
    "<em>Figure: Data by quartiles.</em> Source: [6]."
   ]
  },
  {
   "cell_type": "markdown",
   "metadata": {},
   "source": [
    "In general, **quantiles** divide the dataset into equal-sized intervals. An example of quantiles are the quartiles. The type of quantiles that divide the dataset into 100 equal parts are called **percentiles**. However, quantiles are often referred to as percentiles. \n",
    "\n",
    "The 10th percentile is the element in the dataset that is less than or equal to 10% of the data. Also, 90% of the elements are greater than or equal to the 10th percentile. If there are two such elements in the dataset, then the 10th percentile is their arithmetic mean.\n",
    "\n",
    "`NumPy` and `pandas` provide functions for calculating quantiles. Examples for calculating 10th and 75th quantiles (percentiles) are shown in the next cells."
   ]
  },
  {
   "cell_type": "code",
   "execution_count": 22,
   "metadata": {},
   "outputs": [
    {
     "name": "stdout",
     "output_type": "stream",
     "text": [
      "NumPy: 1.6\n",
      "pandas: 1.6\n"
     ]
    }
   ],
   "source": [
    "quantile10th = np.quantile(y, 0.10)\n",
    "print('NumPy:', quantile10th)\n",
    "\n",
    "quantile10th  = z.quantile(0.10)\n",
    "print('pandas:', quantile10th)"
   ]
  },
  {
   "cell_type": "code",
   "execution_count": 23,
   "metadata": {},
   "outputs": [
    {
     "name": "stdout",
     "output_type": "stream",
     "text": [
      "NumPy: 8.0\n",
      "pandas: 8.0\n"
     ]
    }
   ],
   "source": [
    "quantile75th = np.quantile(y, 0.75)\n",
    "print('NumPy:', quantile75th)\n",
    "\n",
    "quantile75th  = z.quantile(0.75)\n",
    "print('pandas:', quantile75th)"
   ]
  },
  {
   "cell_type": "markdown",
   "metadata": {},
   "source": [
    "In `NumPy` there is also a `percentile()` function which expects the argument to be between 0 and 100, whereas the `quantile()` function expects the argument to be between 0 and 1."
   ]
  },
  {
   "cell_type": "code",
   "execution_count": 24,
   "metadata": {},
   "outputs": [
    {
     "name": "stdout",
     "output_type": "stream",
     "text": [
      "NumPy: 8.0\n"
     ]
    }
   ],
   "source": [
    "quantile75th = np.percentile(y, 75)\n",
    "print('NumPy:', quantile75th)"
   ]
  },
  {
   "cell_type": "markdown",
   "metadata": {},
   "source": [
    "To calculate IQR, we can first calculate the first and third quartiles (i.e., 25th and 75th percentiles), and afterward take their difference."
   ]
  },
  {
   "cell_type": "code",
   "execution_count": 25,
   "metadata": {},
   "outputs": [
    {
     "name": "stdout",
     "output_type": "stream",
     "text": [
      "NumPy: 5.5\n",
      "pandas: 5.5\n"
     ]
    }
   ],
   "source": [
    "quartiles = np.quantile(y, [0.25, 0.75])\n",
    "interquartile_range = quartiles[1] - quartiles[0]\n",
    "print('NumPy:', interquartile_range)\n",
    "\n",
    "quartiles = z.quantile([0.25, 0.75])\n",
    "interquartile_range = quartiles[0.75] - quartiles[0.25]\n",
    "print('pandas:', interquartile_range)"
   ]
  },
  {
   "cell_type": "markdown",
   "metadata": {},
   "source": [
    "#### Variance"
   ]
  },
  {
   "cell_type": "markdown",
   "metadata": {},
   "source": [
    "The **sample variance** quantifies the spread of the data. It shows numerically how far the data points are from the mean of the dataset. It is calculated as the average of the squared differences from the mean.  We can express the sample variance of a dataset with $𝑛$ elements mathematically as:\n",
    "\n",
    "$s^2 = \\frac{\\sum_{i=1}^{n} (x_i - \\overline{x})^2}{(n - 1)}$\n",
    "\n",
    "where $\\overline{x}$ is the sample mean. To denote population variance, the notation $\\sigma^2$ is commonly used.\n",
    "\n",
    "We can calculate the variance using the function `statistics.variance()`, in `NumPy` with `np.var()`, and in `pandas` with `.var()`."
   ]
  },
  {
   "cell_type": "code",
   "execution_count": 26,
   "metadata": {},
   "outputs": [
    {
     "name": "stdout",
     "output_type": "stream",
     "text": [
      "Python: 123.2\n",
      "NumPy: 123.19999999999999\n",
      "pandas: 123.19999999999999\n"
     ]
    }
   ],
   "source": [
    "var = statistics.variance(x)\n",
    "print('Python:', var)\n",
    "\n",
    "var = np.var(y, ddof=1)\n",
    "print('NumPy:', var)\n",
    "\n",
    "var = z.var(ddof=1)\n",
    "print('pandas:', var)"
   ]
  },
  {
   "cell_type": "markdown",
   "metadata": {},
   "source": [
    "In `NumPy` and `pandas`, the parameter `ddof=1` sets the *delta degrees of freedom* to 1. This parameter allows the calculation of $s^2$ with $(𝑛 − 1)$ in the denominator instead of $𝑛$. By using $(𝑛 − 1)$ for the variance of a sample, we account for the bias in estimating the population variance, and compensate for the fact that the sample mean is used as an approximation of the true population mean. This adjustment (called Bessel's correction) compensates for the fact that the sample is likely to underestimate the true population variance. To calculate the variance of a population, we can set the *delta degrees of freedom* to 0 in the above codes."
   ]
  },
  {
   "cell_type": "markdown",
   "metadata": {},
   "source": [
    "Variance quantifies the spread of the data in squared units, which can make the interpretation less intuitive."
   ]
  },
  {
   "cell_type": "markdown",
   "metadata": {},
   "source": [
    "#### Standard Deviation"
   ]
  },
  {
   "cell_type": "markdown",
   "metadata": {},
   "source": [
    "The sample **standard deviation** is the positive square root of the sample variance. \n",
    "\n",
    "$s = \\sqrt{\\frac{\\sum_{i=1}^{n} (x_i - \\overline{x})^2}{(n - 1)}}$\n",
    "\n",
    "The standard deviation is often more convenient to work with than the variance, because it has the same unit as the data points.\n",
    "\n",
    "Although we can calculate the standard deviation simply by taking the square root of the variance, almost all libraries have a separate `std()` or `stdev()` function for this purpose."
   ]
  },
  {
   "cell_type": "code",
   "execution_count": 27,
   "metadata": {},
   "outputs": [
    {
     "name": "stdout",
     "output_type": "stream",
     "text": [
      "Python: 11.099549540409287\n",
      "NumPy: 11.099549540409285\n",
      "pandas: 11.099549540409285\n"
     ]
    }
   ],
   "source": [
    "std = statistics.stdev(x)\n",
    "print('Python:', std )\n",
    "\n",
    "std = np.std(y, ddof=1)\n",
    "print('NumPy:', std)\n",
    "\n",
    "std = z.std(ddof=1)\n",
    "print('pandas:', std )"
   ]
  },
  {
   "cell_type": "markdown",
   "metadata": {},
   "source": [
    "#### Skewness"
   ]
  },
  {
   "cell_type": "markdown",
   "metadata": {},
   "source": [
    "The sample **skewness** measures the asymmetry of a dataset. The figure below illustrates skewness. A dataset is negatively skewed if it tends to have a lot of extremely small values (i.e., the lower tail is longer than the upper tail) and not so many extremely large values (left subfigure). On the other hand, if there are more extremely large values than extremely small ones (right subfigure) we say that the dataset is positively skewed. The formula for the skewness of a dataset is as follows:\n",
    "\n",
    "$\\text{skew} = \\frac{\\sum_{i=1}^{n} (x_i - \\overline{x})^3}{n s^3}$\n",
    "\n",
    "<img src=\"images/skewness.png\" width=\"600\">\n",
    "<em>Figure: Skewness of a sample.</em> Source: [2].</em>"
   ]
  },
  {
   "cell_type": "markdown",
   "metadata": {},
   "source": [
    "We can calculate skewness by using the method `.skew()` in pandas and `scipy.stats.skew()` can be used with `NumPy` arrays. The parameter `bias=False` in the codes indicates to use the unbiased estimation for a sample variance by applying the correction factor (mentioned in the section on variance)."
   ]
  },
  {
   "cell_type": "code",
   "execution_count": 28,
   "metadata": {},
   "outputs": [
    {
     "name": "stdout",
     "output_type": "stream",
     "text": [
      "NumPy: 1.9470432273905927\n",
      "pandas: 1.9470432273905924\n"
     ]
    }
   ],
   "source": [
    "skew = scipy.stats.skew(y, bias=False)\n",
    "print('NumPy:', skew)\n",
    "\n",
    "skew = z.skew()\n",
    "print('pandas:', skew)"
   ]
  },
  {
   "cell_type": "markdown",
   "metadata": {},
   "source": [
    "### 10.1.3 Summary of Descriptive Statistics <a id=\"10.1.3-summary-of-descriptive-statistics\"/>"
   ]
  },
  {
   "cell_type": "markdown",
   "metadata": {},
   "source": [
    "The library `SciPy` allows to list descriptive statistics with the function `scipy.stats.describe()`, as shown in the next cell. The value `nobs` refers to the number of observations in the dataset, and the rest of the values are self-explanatory. One statistic that we didn't explain is `kurtosis`, which quantifies the \"pointness\" of a dataset, but it is less frequently used in practice. A dataset that is flat has negative kurtosis, and a dataset that is pointy has positive kurtosis. "
   ]
  },
  {
   "cell_type": "code",
   "execution_count": 29,
   "metadata": {},
   "outputs": [
    {
     "data": {
      "text/plain": [
       "DescribeResult(nobs=5, minmax=(1.0, 28.0), mean=8.7, variance=123.19999999999999, skewness=1.9470432273905927, kurtosis=3.878019618875446)"
      ]
     },
     "execution_count": 29,
     "metadata": {},
     "output_type": "execute_result"
    }
   ],
   "source": [
    "scipy.stats.describe(y, ddof=1, bias=False)"
   ]
  },
  {
   "cell_type": "markdown",
   "metadata": {},
   "source": [
    "In `pandas` we can use the method `describe()` to list descriptive statistics. As we mentioned in the lecture on `pandas`, for a DataFrame `describe()` returns descriptive statistics for all columns in the DataFrame that have numerical values."
   ]
  },
  {
   "cell_type": "code",
   "execution_count": 30,
   "metadata": {},
   "outputs": [
    {
     "data": {
      "text/plain": [
       "count     5.00000\n",
       "mean      8.70000\n",
       "std      11.09955\n",
       "min       1.00000\n",
       "25%       2.50000\n",
       "50%       4.00000\n",
       "75%       8.00000\n",
       "max      28.00000\n",
       "dtype: float64"
      ]
     },
     "execution_count": 30,
     "metadata": {},
     "output_type": "execute_result"
    }
   ],
   "source": [
    "z.describe()"
   ]
  },
  {
   "cell_type": "markdown",
   "metadata": {},
   "source": [
    "### 10.1.4 Measures of Correlation <a id=\"10.1.4-measures-of-correlation\"/>"
   ]
  },
  {
   "cell_type": "markdown",
   "metadata": {},
   "source": [
    "When performing data analysis, we often need to examine and describe the relationship between the values of two variables (features) in a dataset. If the variables are denoted 𝑥 and 𝑦, we can create pairs of corresponding elements (𝑥₁, 𝑦₁), (𝑥₂, 𝑦₂), and so on, and examine the correlation between the variables. \n",
    "\n",
    "In general, based on the relationship between the pairs of data points, we can identify the following types of correlation:\n",
    "\n",
    "* *Negative correlation*, exists when larger values of 𝑥 correspond to smaller values of 𝑦 and vice versa (left subfigure).\n",
    "* *Weak or no correlation*, exists if there is no such apparent relationship (middle subfigure).\n",
    "* *Positive correlation*, exists when larger values of 𝑥 correspond to larger values of 𝑦 and vice versa (right subfigure).\n",
    "\n",
    "<img src=\"images/correlation.png\" width=\"600\">\n",
    "<em>Figure: Correlation between two variables.</em> Source: [1].</em>"
   ]
  },
  {
   "cell_type": "markdown",
   "metadata": {},
   "source": [
    "Two statistics that measure the correlation between datasets are **covariance** and **correlation coefficient**. "
   ]
  },
  {
   "cell_type": "markdown",
   "metadata": {},
   "source": [
    "#### Covariance"
   ]
  },
  {
   "cell_type": "markdown",
   "metadata": {},
   "source": [
    "The **sample covariance** is a measure that quantifies the strength and direction of a relationship between a pair of variables.\n",
    "\n",
    "* If the correlation is positive, the covariance is positive. A stronger relationship corresponds to a higher value of the covariance.\n",
    "* If the correlation is negative, the covariance is negative. A stronger relationship corresponds to a lower value of the covariance.\n",
    "* If the correlation is weak, the covariance is close to zero."
   ]
  },
  {
   "cell_type": "markdown",
   "metadata": {},
   "source": [
    "The covariance of variables 𝑥 and 𝑦 is mathematically defined as:\n",
    "\n",
    "$s_{xy} = \\frac{\\sum_{i=1}^{n} (x_i - \\overline{x}) (y_i - \\overline{y})}{(n - 1)}$\n",
    "\n",
    "Therefore, the covariance of two identical variables is actually the variance, i.e., $s_{xx} = {\\sum_{i} (x_i - \\overline{x})^2}/{(n - 1)}=(s_{x})^2$. Or, we can say that the covariance is a generalization of the concept of variance to two or more variables."
   ]
  },
  {
   "cell_type": "markdown",
   "metadata": {},
   "source": [
    "To show the calculation of the covariance in Python, let's create two variables and convert them to `NumPy` arrays and `pandas` series. "
   ]
  },
  {
   "cell_type": "code",
   "execution_count": 31,
   "metadata": {},
   "outputs": [],
   "source": [
    "x = list(range(-10, 11))\n",
    "y = [0, 2, 2, 2, 2, 3, 3, 6, 7, 4, 7, 6, 6, 9, 4, 5, 5, 10, 11, 12, 14]\n",
    "xarr, yarr = np.array(x), np.array(y)\n",
    "xseries, yseries = pd.Series(x), pd.Series(y)"
   ]
  },
  {
   "cell_type": "markdown",
   "metadata": {},
   "source": [
    "Let's plot the two lists. We can notice a positive correlation in the plot. "
   ]
  },
  {
   "cell_type": "code",
   "execution_count": 32,
   "metadata": {},
   "outputs": [
    {
     "data": {
      "image/png": "[encoded data removed]",
      "text/plain": [
       "<Figure size 640x480 with 1 Axes>"
      ]
     },
     "metadata": {},
     "output_type": "display_data"
    }
   ],
   "source": [
    "import matplotlib.pyplot as plt\n",
    "\n",
    "plt.plot(x,y)\n",
    "plt.xlabel('x')\n",
    "plt.ylabel('y')\n",
    "plt.show()"
   ]
  },
  {
   "cell_type": "markdown",
   "metadata": {},
   "source": [
    "The covariances between variables are often combined into a **covariance matrix**. For example, to calculate the covariance matrix in `NumPy`, we can use the function `cov()`. "
   ]
  },
  {
   "cell_type": "code",
   "execution_count": 33,
   "metadata": {},
   "outputs": [
    {
     "name": "stdout",
     "output_type": "stream",
     "text": [
      "NumPy: [[38.5        19.95      ]\n",
      " [19.95       13.91428571]]\n"
     ]
    }
   ],
   "source": [
    "cov_matrix = np.cov(xarr, yarr)\n",
    "print('NumPy:', cov_matrix)"
   ]
  },
  {
   "cell_type": "markdown",
   "metadata": {},
   "source": [
    "The elements in the covariance matrix are:\n",
    "\n",
    "$\\text{covariance\\_matrix} = \\begin{bmatrix} \n",
    "\\text{cov}(x,x) & \\text{cov}(x,y) \\\\\n",
    "\\text{cov}(y,x) & \\text{cov}(y,y)\n",
    "\\end{bmatrix}$\n",
    "\n",
    "Note that the covariance matrix is symmetric, i.e., the off-diagonal elements `cov(x,y)`$=s_{xy}$ and `cov(y,x)`$=s_{yx}$ are equal. "
   ]
  },
  {
   "cell_type": "markdown",
   "metadata": {},
   "source": [
    "In this case, the element `cov(x,y)=19.95` suggests a positive correlation between `x` and `y`, since the values of `y` increase with the increase in the values of `x`.\n",
    "\n",
    "Note in the cell below that the element `cov(x,x)`$=s_{xx}$ is equal to the variance of `x` (that is $s_{x}^2$), and the element `cov(y,y)`$=s_{yy}$ is equal to the variance of `y` (that is $s_{y}^2$). "
   ]
  },
  {
   "cell_type": "code",
   "execution_count": 34,
   "metadata": {},
   "outputs": [
    {
     "name": "stdout",
     "output_type": "stream",
     "text": [
      "38.5\n",
      "13.914285714285711\n"
     ]
    }
   ],
   "source": [
    "print(xarr.var(ddof=1))\n",
    "print(yarr.var(ddof=1))"
   ]
  },
  {
   "cell_type": "markdown",
   "metadata": {},
   "source": [
    "In `pandas` the method `.cov()` returns the covariance between two Series objects."
   ]
  },
  {
   "cell_type": "code",
   "execution_count": 35,
   "metadata": {},
   "outputs": [
    {
     "data": {
      "text/plain": [
       "19.95"
      ]
     },
     "execution_count": 35,
     "metadata": {},
     "output_type": "execute_result"
    }
   ],
   "source": [
    "cov_xy = xseries.cov(yseries)\n",
    "cov_xy"
   ]
  },
  {
   "cell_type": "markdown",
   "metadata": {},
   "source": [
    "#### Correlation Coefficient"
   ]
  },
  {
   "cell_type": "markdown",
   "metadata": {},
   "source": [
    "The **correlation coefficient**, also known as **Pearson correlation coefficient**, is another important measure of correlation. It is commonly denoted by the symbol 𝑟, and it is calculated as:\n",
    "\n",
    "$r = \\frac{s_{xy}}{s_{x}s_{y}}$\n",
    "\n",
    "The correlation coefficient is equal to the covariance of the variables $s_{xy}$ divided by the standard deviations of $x$ and $y$. Or, we can say that the correlation coefficient is a measure of standardized covariance. The standardization makes the coefficient in the range from -1 to 1. \n",
    "\n",
    "Examples of variables with different values of the correlation coefficient are shown in the figure below.\n",
    "\n",
    "* The value r = −1 is the minimum possible value of 𝑟, and corresponds to a perfect negative linear relationship between variables.\n",
    "* The value 𝑟 < 0 indicates negative correlation. The more the data is spread, the weaker the correlation is. \n",
    "* The value r = 0 means that the correlation between the variables is weak.\n",
    "* The value 𝑟 > 0 indicates positive correlation.\n",
    "\n",
    "The maximum possible value of 𝑟 is 1, and corresponds to a perfect positive linear relationship between variables.\n",
    "\n",
    "<img src=\"images/PCC.png\" width=\"700\">\n",
    "<em>Figure: Correlation coefficient $r$.</em> Source: [3]"
   ]
  },
  {
   "cell_type": "markdown",
   "metadata": {},
   "source": [
    "To calculate the correlation coefficient, we can use `pearsonr()` in `scipy.stats`. It returns both the correlation coefficient and the 𝑝-value. In the next cell, the correlation coefficient is 0.86, indicating strong correlation between the variables `x` and `y`. A small 𝑝-value indicates that there is statistically significant evidence that there is a linear correlation between the variables."
   ]
  },
  {
   "cell_type": "code",
   "execution_count": 36,
   "metadata": {},
   "outputs": [
    {
     "data": {
      "text/plain": [
       "PearsonRResult(statistic=0.8619500056316061, pvalue=5.122760847201132e-07)"
      ]
     },
     "execution_count": 36,
     "metadata": {},
     "output_type": "execute_result"
    }
   ],
   "source": [
    "scipy.stats.pearsonr(xarr, yarr)"
   ]
  },
  {
   "cell_type": "markdown",
   "metadata": {},
   "source": [
    "Similar to the covariance matrix, in `NumPy` the function `np.corrcoef()` returns the correlation coefficient matrix."
   ]
  },
  {
   "cell_type": "code",
   "execution_count": 37,
   "metadata": {},
   "outputs": [
    {
     "data": {
      "text/plain": [
       "array([[1.        , 0.86195001],\n",
       "       [0.86195001, 1.        ]])"
      ]
     },
     "execution_count": 37,
     "metadata": {},
     "output_type": "execute_result"
    }
   ],
   "source": [
    "corr_matrix = np.corrcoef(xarr, yarr)\n",
    "corr_matrix"
   ]
  },
  {
   "cell_type": "markdown",
   "metadata": {},
   "source": [
    "In `pandas`, the method `.corr()` is used for calculating the correlation coefficient."
   ]
  },
  {
   "cell_type": "code",
   "execution_count": 38,
   "metadata": {},
   "outputs": [
    {
     "data": {
      "text/plain": [
       "0.861950005631606"
      ]
     },
     "execution_count": 38,
     "metadata": {},
     "output_type": "execute_result"
    }
   ],
   "source": [
    "xseries.corr(yseries)"
   ]
  },
  {
   "cell_type": "markdown",
   "metadata": {},
   "source": [
    "We should note that the correlation coefficient measures the strength of the linear relationship between two variables. In other words, it measures the extent to which the data tend to fall on a single, perfectly straight line. \n",
    "\n",
    "If the relationship between two variables is non-linear, then the correlation coefficient is not a suitable measure. For example, in the figure below the variables have sinusoidal or exponential relationship, and the calculation of the correlation coefficient is not meaningful, because the relationship is not linear.\n",
    "\n",
    "<img src=\"images/nonlinear_relationship.png\" width=\"700\">\n",
    "<em>Figure: Nonlinear relationship between variables.</em> Source: [4]."
   ]
  },
  {
   "cell_type": "markdown",
   "metadata": {},
   "source": [
    "## 10.2 Inferential Statistics <a id=\"10.2-inferential-statistics\"/>\n",
    "\n",
    "Inferential statistics allow to make predictions or inferences about a population based on a sample of data. Unlike descriptive statistics which simply summarize data, inferential statistics help us draw conclusions and make predictions beyond the immediate data.\n",
    "\n",
    "Common methods of inferential statistics include:\n",
    "\n",
    "* Regression analysis, models relationships between variables to make predictions or understand relationships.\n",
    "* Estimation methods, infer the values of population parameters based on sample data.\n",
    "* Confidence intervals, provide a range within which a population parameter is expected to lie with a certain level of confidence.\n",
    "* Hypothesis testing, tests hypotheses about population parameters using statistical tests (e.g., t-tests, chi-square tests, ANOVA (Analayis of Variance))."
   ]
  },
  {
   "cell_type": "markdown",
   "metadata": {},
   "source": [
    "### 10.2.1 Linear Regression <a id=\"10.2.1-linear-regression\"/>"
   ]
  },
  {
   "cell_type": "markdown",
   "metadata": {},
   "source": [
    "The concept of linear regression has similarities to the Pearson correlation coefficient, as the goal is to examine whether there is a linear relationship between variables. However, regression models are more powerful tools than the measures of correlation. \n",
    "\n",
    "Given two sets of observations `x` and `y`, a **linear regression** model returns a regression line:\n",
    "\n",
    "$\\hat{y_i} = b_0 + b_1x_i$\n",
    "\n",
    "The values $b_0$ and $b_1$ are *regression coefficients* and represent the intercept of the regression line with the y-axis and the slope of the line, respectively. The regression coefficients are also called the *weights* of the regression model. \n",
    "\n",
    "A linear regression model estimates the values of the regression coefficients $b_0$ and $b_1$ for a given dataset. The objective is to find the set of regression coefficients so that for all data $x_i$, the obtained values from the regression equation for the variable $\\hat{y_i}$ are as close as possible to the actual values $y_i$. The variable `x` is called independent variable, or it is also called input variable, or observed variable. The variable `y` is called dependent variable, or predicted variable, or target variable, since the objective is to predict the values of `y` for given observations `x`.\n",
    "\n",
    "One common approach for calculating the regression coefficients is by minimizing the sum of the squared differences between the predicted values $\\hat{y_i}$ and actual values $y_i$, i.e., $\\sum_{i} (\\hat{y_i}-y_i)^2$ for $𝑖 = 1, 2, …, 𝑛$. This approach is called the method of *ordinary least squares*. The differences between the predicted values $\\hat{y_i}$ and actual values $y_i$ are also referred to as *residuals*."
   ]
  },
  {
   "cell_type": "markdown",
   "metadata": {},
   "source": [
    "In `scipy` we can use the function `scipy.stats.linregress` to  perform linear regression. The result is shown below, and as we can see, the returned values are the slope and intercept of the regression line, `rvalue` is the correlation coefficient, `pvalue` is the probability of the linear relationship between the variables, and `stderr` and `intercept_stderr` are standard deviations associated with the uncertainties in estimating the slope and intercept of the regression line, respectively. "
   ]
  },
  {
   "cell_type": "code",
   "execution_count": 39,
   "metadata": {},
   "outputs": [
    {
     "data": {
      "text/plain": [
       "LinregressResult(slope=0.5181818181818181, intercept=5.714285714285714, rvalue=0.8619500056316057, pvalue=5.122760847201238e-07, stderr=0.06992387660074986, intercept_stderr=0.42341009950025926)"
      ]
     },
     "execution_count": 39,
     "metadata": {},
     "output_type": "execute_result"
    }
   ],
   "source": [
    "scipy.stats.linregress(xarr, yarr)"
   ]
  },
  {
   "cell_type": "markdown",
   "metadata": {},
   "source": [
    "To access specific values from the result of `scipy.stats.linregress()`, we can use the dot notation, as in the next cell."
   ]
  },
  {
   "cell_type": "code",
   "execution_count": 40,
   "metadata": {},
   "outputs": [
    {
     "name": "stdout",
     "output_type": "stream",
     "text": [
      "0.5181818181818181 5.714285714285714 0.8619500056316057\n"
     ]
    }
   ],
   "source": [
    "result = scipy.stats.linregress(xarr, yarr)\n",
    "print(result.slope, result. intercept, result.rvalue)"
   ]
  },
  {
   "cell_type": "markdown",
   "metadata": {},
   "source": [
    "Another library for perfroming linear regression is `scikit-learn`, which we will use extensively later in this course. To quickly demonstrate linear regression, in the next cell we imported the model `LinearRegression()`, and used the method `fit()` to apply a linear regression model to the data. For this example we introduced new data variables, where the independent variable is `hours` and refers to the hours of study for an exam, and the dependent variable is `marks` representing the obtained score from the exam.  We assume that there is a linear relationship between the hours of the study and the exam marks. "
   ]
  },
  {
   "cell_type": "code",
   "execution_count": 41,
   "metadata": {},
   "outputs": [],
   "source": [
    "hours = np.array([1, 2, 3, 4, 5])\n",
    "marks = np.array([52, 54, 61, 68, 72])"
   ]
  },
  {
   "cell_type": "code",
   "execution_count": 42,
   "metadata": {},
   "outputs": [
    {
     "data": {
      "text/html": [
       "<style>#sk-container-id-1 {\n",
       "  /* Definition of color scheme common for light and dark mode */\n",
       "  --sklearn-color-text: black;\n",
       "  --sklearn-color-line: gray;\n",
       "  /* Definition of color scheme for unfitted estimators */\n",
       "  --sklearn-color-unfitted-level-0: #fff5e6;\n",
       "  --sklearn-color-unfitted-level-1: #f6e4d2;\n",
       "  --sklearn-color-unfitted-level-2: #ffe0b3;\n",
       "  --sklearn-color-unfitted-level-3: chocolate;\n",
       "  /* Definition of color scheme for fitted estimators */\n",
       "  --sklearn-color-fitted-level-0: #f0f8ff;\n",
       "  --sklearn-color-fitted-level-1: #d4ebff;\n",
       "  --sklearn-color-fitted-level-2: #b3dbfd;\n",
       "  --sklearn-color-fitted-level-3: cornflowerblue;\n",
       "\n",
       "  /* Specific color for light theme */\n",
       "  --sklearn-color-text-on-default-background: var(--sg-text-color, var(--theme-code-foreground, var(--jp-content-font-color1, black)));\n",
       "  --sklearn-color-background: var(--sg-background-color, var(--theme-background, var(--jp-layout-color0, white)));\n",
       "  --sklearn-color-border-box: var(--sg-text-color, var(--theme-code-foreground, var(--jp-content-font-color1, black)));\n",
       "  --sklearn-color-icon: #696969;\n",
       "\n",
       "  @media (prefers-color-scheme: dark) {\n",
       "    /* Redefinition of color scheme for dark theme */\n",
       "    --sklearn-color-text-on-default-background: var(--sg-text-color, var(--theme-code-foreground, var(--jp-content-font-color1, white)));\n",
       "    --sklearn-color-background: var(--sg-background-color, var(--theme-background, var(--jp-layout-color0, #111)));\n",
       "    --sklearn-color-border-box: var(--sg-text-color, var(--theme-code-foreground, var(--jp-content-font-color1, white)));\n",
       "    --sklearn-color-icon: #878787;\n",
       "  }\n",
       "}\n",
       "\n",
       "#sk-container-id-1 {\n",
       "  color: var(--sklearn-color-text);\n",
       "}\n",
       "\n",
       "#sk-container-id-1 pre {\n",
       "  padding: 0;\n",
       "}\n",
       "\n",
       "#sk-container-id-1 input.sk-hidden--visually {\n",
       "  border: 0;\n",
       "  clip: rect(1px 1px 1px 1px);\n",
       "  clip: rect(1px, 1px, 1px, 1px);\n",
       "  height: 1px;\n",
       "  margin: -1px;\n",
       "  overflow: hidden;\n",
       "  padding: 0;\n",
       "  position: absolute;\n",
       "  width: 1px;\n",
       "}\n",
       "\n",
       "#sk-container-id-1 div.sk-dashed-wrapped {\n",
       "  border: 1px dashed var(--sklearn-color-line);\n",
       "  margin: 0 0.4em 0.5em 0.4em;\n",
       "  box-sizing: border-box;\n",
       "  padding-bottom: 0.4em;\n",
       "  background-color: var(--sklearn-color-background);\n",
       "}\n",
       "\n",
       "#sk-container-id-1 div.sk-container {\n",
       "  /* jupyter's `normalize.less` sets `[hidden] { display: none; }`\n",
       "     but bootstrap.min.css set `[hidden] { display: none !important; }`\n",
       "     so we also need the `!important` here to be able to override the\n",
       "     default hidden behavior on the sphinx rendered scikit-learn.org.\n",
       "     See: https://github.com/scikit-learn/scikit-learn/issues/21755 */\n",
       "  display: inline-block !important;\n",
       "  position: relative;\n",
       "}\n",
       "\n",
       "#sk-container-id-1 div.sk-text-repr-fallback {\n",
       "  display: none;\n",
       "}\n",
       "\n",
       "div.sk-parallel-item,\n",
       "div.sk-serial,\n",
       "div.sk-item {\n",
       "  /* draw centered vertical line to link estimators */\n",
       "  background-image: linear-gradient(var(--sklearn-color-text-on-default-background), var(--sklearn-color-text-on-default-background));\n",
       "  background-size: 2px 100%;\n",
       "  background-repeat: no-repeat;\n",
       "  background-position: center center;\n",
       "}\n",
       "\n",
       "/* Parallel-specific style estimator block */\n",
       "\n",
       "#sk-container-id-1 div.sk-parallel-item::after {\n",
       "  content: \"\";\n",
       "  width: 100%;\n",
       "  border-bottom: 2px solid var(--sklearn-color-text-on-default-background);\n",
       "  flex-grow: 1;\n",
       "}\n",
       "\n",
       "#sk-container-id-1 div.sk-parallel {\n",
       "  display: flex;\n",
       "  align-items: stretch;\n",
       "  justify-content: center;\n",
       "  background-color: var(--sklearn-color-background);\n",
       "  position: relative;\n",
       "}\n",
       "\n",
       "#sk-container-id-1 div.sk-parallel-item {\n",
       "  display: flex;\n",
       "  flex-direction: column;\n",
       "}\n",
       "\n",
       "#sk-container-id-1 div.sk-parallel-item:first-child::after {\n",
       "  align-self: flex-end;\n",
       "  width: 50%;\n",
       "}\n",
       "\n",
       "#sk-container-id-1 div.sk-parallel-item:last-child::after {\n",
       "  align-self: flex-start;\n",
       "  width: 50%;\n",
       "}\n",
       "\n",
       "#sk-container-id-1 div.sk-parallel-item:only-child::after {\n",
       "  width: 0;\n",
       "}\n",
       "\n",
       "/* Serial-specific style estimator block */\n",
       "\n",
       "#sk-container-id-1 div.sk-serial {\n",
       "  display: flex;\n",
       "  flex-direction: column;\n",
       "  align-items: center;\n",
       "  background-color: var(--sklearn-color-background);\n",
       "  padding-right: 1em;\n",
       "  padding-left: 1em;\n",
       "}\n",
       "\n",
       "\n",
       "/* Toggleable style: style used for estimator/Pipeline/ColumnTransformer box that is\n",
       "clickable and can be expanded/collapsed.\n",
       "- Pipeline and ColumnTransformer use this feature and define the default style\n",
       "- Estimators will overwrite some part of the style using the `sk-estimator` class\n",
       "*/\n",
       "\n",
       "/* Pipeline and ColumnTransformer style (default) */\n",
       "\n",
       "#sk-container-id-1 div.sk-toggleable {\n",
       "  /* Default theme specific background. It is overwritten whether we have a\n",
       "  specific estimator or a Pipeline/ColumnTransformer */\n",
       "  background-color: var(--sklearn-color-background);\n",
       "}\n",
       "\n",
       "/* Toggleable label */\n",
       "#sk-container-id-1 label.sk-toggleable__label {\n",
       "  cursor: pointer;\n",
       "  display: block;\n",
       "  width: 100%;\n",
       "  margin-bottom: 0;\n",
       "  padding: 0.5em;\n",
       "  box-sizing: border-box;\n",
       "  text-align: center;\n",
       "}\n",
       "\n",
       "#sk-container-id-1 label.sk-toggleable__label-arrow:before {\n",
       "  /* Arrow on the left of the label */\n",
       "  content: \"▸\";\n",
       "  float: left;\n",
       "  margin-right: 0.25em;\n",
       "  color: var(--sklearn-color-icon);\n",
       "}\n",
       "\n",
       "#sk-container-id-1 label.sk-toggleable__label-arrow:hover:before {\n",
       "  color: var(--sklearn-color-text);\n",
       "}\n",
       "\n",
       "/* Toggleable content - dropdown */\n",
       "\n",
       "#sk-container-id-1 div.sk-toggleable__content {\n",
       "  max-height: 0;\n",
       "  max-width: 0;\n",
       "  overflow: hidden;\n",
       "  text-align: left;\n",
       "  /* unfitted */\n",
       "  background-color: var(--sklearn-color-unfitted-level-0);\n",
       "}\n",
       "\n",
       "#sk-container-id-1 div.sk-toggleable__content.fitted {\n",
       "  /* fitted */\n",
       "  background-color: var(--sklearn-color-fitted-level-0);\n",
       "}\n",
       "\n",
       "#sk-container-id-1 div.sk-toggleable__content pre {\n",
       "  margin: 0.2em;\n",
       "  border-radius: 0.25em;\n",
       "  color: var(--sklearn-color-text);\n",
       "  /* unfitted */\n",
       "  background-color: var(--sklearn-color-unfitted-level-0);\n",
       "}\n",
       "\n",
       "#sk-container-id-1 div.sk-toggleable__content.fitted pre {\n",
       "  /* unfitted */\n",
       "  background-color: var(--sklearn-color-fitted-level-0);\n",
       "}\n",
       "\n",
       "#sk-container-id-1 input.sk-toggleable__control:checked~div.sk-toggleable__content {\n",
       "  /* Expand drop-down */\n",
       "  max-height: 200px;\n",
       "  max-width: 100%;\n",
       "  overflow: auto;\n",
       "}\n",
       "\n",
       "#sk-container-id-1 input.sk-toggleable__control:checked~label.sk-toggleable__label-arrow:before {\n",
       "  content: \"▾\";\n",
       "}\n",
       "\n",
       "/* Pipeline/ColumnTransformer-specific style */\n",
       "\n",
       "#sk-container-id-1 div.sk-label input.sk-toggleable__control:checked~label.sk-toggleable__label {\n",
       "  color: var(--sklearn-color-text);\n",
       "  background-color: var(--sklearn-color-unfitted-level-2);\n",
       "}\n",
       "\n",
       "#sk-container-id-1 div.sk-label.fitted input.sk-toggleable__control:checked~label.sk-toggleable__label {\n",
       "  background-color: var(--sklearn-color-fitted-level-2);\n",
       "}\n",
       "\n",
       "/* Estimator-specific style */\n",
       "\n",
       "/* Colorize estimator box */\n",
       "#sk-container-id-1 div.sk-estimator input.sk-toggleable__control:checked~label.sk-toggleable__label {\n",
       "  /* unfitted */\n",
       "  background-color: var(--sklearn-color-unfitted-level-2);\n",
       "}\n",
       "\n",
       "#sk-container-id-1 div.sk-estimator.fitted input.sk-toggleable__control:checked~label.sk-toggleable__label {\n",
       "  /* fitted */\n",
       "  background-color: var(--sklearn-color-fitted-level-2);\n",
       "}\n",
       "\n",
       "#sk-container-id-1 div.sk-label label.sk-toggleable__label,\n",
       "#sk-container-id-1 div.sk-label label {\n",
       "  /* The background is the default theme color */\n",
       "  color: var(--sklearn-color-text-on-default-background);\n",
       "}\n",
       "\n",
       "/* On hover, darken the color of the background */\n",
       "#sk-container-id-1 div.sk-label:hover label.sk-toggleable__label {\n",
       "  color: var(--sklearn-color-text);\n",
       "  background-color: var(--sklearn-color-unfitted-level-2);\n",
       "}\n",
       "\n",
       "/* Label box, darken color on hover, fitted */\n",
       "#sk-container-id-1 div.sk-label.fitted:hover label.sk-toggleable__label.fitted {\n",
       "  color: var(--sklearn-color-text);\n",
       "  background-color: var(--sklearn-color-fitted-level-2);\n",
       "}\n",
       "\n",
       "/* Estimator label */\n",
       "\n",
       "#sk-container-id-1 div.sk-label label {\n",
       "  font-family: monospace;\n",
       "  font-weight: bold;\n",
       "  display: inline-block;\n",
       "  line-height: 1.2em;\n",
       "}\n",
       "\n",
       "#sk-container-id-1 div.sk-label-container {\n",
       "  text-align: center;\n",
       "}\n",
       "\n",
       "/* Estimator-specific */\n",
       "#sk-container-id-1 div.sk-estimator {\n",
       "  font-family: monospace;\n",
       "  border: 1px dotted var(--sklearn-color-border-box);\n",
       "  border-radius: 0.25em;\n",
       "  box-sizing: border-box;\n",
       "  margin-bottom: 0.5em;\n",
       "  /* unfitted */\n",
       "  background-color: var(--sklearn-color-unfitted-level-0);\n",
       "}\n",
       "\n",
       "#sk-container-id-1 div.sk-estimator.fitted {\n",
       "  /* fitted */\n",
       "  background-color: var(--sklearn-color-fitted-level-0);\n",
       "}\n",
       "\n",
       "/* on hover */\n",
       "#sk-container-id-1 div.sk-estimator:hover {\n",
       "  /* unfitted */\n",
       "  background-color: var(--sklearn-color-unfitted-level-2);\n",
       "}\n",
       "\n",
       "#sk-container-id-1 div.sk-estimator.fitted:hover {\n",
       "  /* fitted */\n",
       "  background-color: var(--sklearn-color-fitted-level-2);\n",
       "}\n",
       "\n",
       "/* Specification for estimator info (e.g. \"i\" and \"?\") */\n",
       "\n",
       "/* Common style for \"i\" and \"?\" */\n",
       "\n",
       ".sk-estimator-doc-link,\n",
       "a:link.sk-estimator-doc-link,\n",
       "a:visited.sk-estimator-doc-link {\n",
       "  float: right;\n",
       "  font-size: smaller;\n",
       "  line-height: 1em;\n",
       "  font-family: monospace;\n",
       "  background-color: var(--sklearn-color-background);\n",
       "  border-radius: 1em;\n",
       "  height: 1em;\n",
       "  width: 1em;\n",
       "  text-decoration: none !important;\n",
       "  margin-left: 1ex;\n",
       "  /* unfitted */\n",
       "  border: var(--sklearn-color-unfitted-level-1) 1pt solid;\n",
       "  color: var(--sklearn-color-unfitted-level-1);\n",
       "}\n",
       "\n",
       ".sk-estimator-doc-link.fitted,\n",
       "a:link.sk-estimator-doc-link.fitted,\n",
       "a:visited.sk-estimator-doc-link.fitted {\n",
       "  /* fitted */\n",
       "  border: var(--sklearn-color-fitted-level-1) 1pt solid;\n",
       "  color: var(--sklearn-color-fitted-level-1);\n",
       "}\n",
       "\n",
       "/* On hover */\n",
       "div.sk-estimator:hover .sk-estimator-doc-link:hover,\n",
       ".sk-estimator-doc-link:hover,\n",
       "div.sk-label-container:hover .sk-estimator-doc-link:hover,\n",
       ".sk-estimator-doc-link:hover {\n",
       "  /* unfitted */\n",
       "  background-color: var(--sklearn-color-unfitted-level-3);\n",
       "  color: var(--sklearn-color-background);\n",
       "  text-decoration: none;\n",
       "}\n",
       "\n",
       "div.sk-estimator.fitted:hover .sk-estimator-doc-link.fitted:hover,\n",
       ".sk-estimator-doc-link.fitted:hover,\n",
       "div.sk-label-container:hover .sk-estimator-doc-link.fitted:hover,\n",
       ".sk-estimator-doc-link.fitted:hover {\n",
       "  /* fitted */\n",
       "  background-color: var(--sklearn-color-fitted-level-3);\n",
       "  color: var(--sklearn-color-background);\n",
       "  text-decoration: none;\n",
       "}\n",
       "\n",
       "/* Span, style for the box shown on hovering the info icon */\n",
       ".sk-estimator-doc-link span {\n",
       "  display: none;\n",
       "  z-index: 9999;\n",
       "  position: relative;\n",
       "  font-weight: normal;\n",
       "  right: .2ex;\n",
       "  padding: .5ex;\n",
       "  margin: .5ex;\n",
       "  width: min-content;\n",
       "  min-width: 20ex;\n",
       "  max-width: 50ex;\n",
       "  color: var(--sklearn-color-text);\n",
       "  box-shadow: 2pt 2pt 4pt #999;\n",
       "  /* unfitted */\n",
       "  background: var(--sklearn-color-unfitted-level-0);\n",
       "  border: .5pt solid var(--sklearn-color-unfitted-level-3);\n",
       "}\n",
       "\n",
       ".sk-estimator-doc-link.fitted span {\n",
       "  /* fitted */\n",
       "  background: var(--sklearn-color-fitted-level-0);\n",
       "  border: var(--sklearn-color-fitted-level-3);\n",
       "}\n",
       "\n",
       ".sk-estimator-doc-link:hover span {\n",
       "  display: block;\n",
       "}\n",
       "\n",
       "/* \"?\"-specific style due to the `<a>` HTML tag */\n",
       "\n",
       "#sk-container-id-1 a.estimator_doc_link {\n",
       "  float: right;\n",
       "  font-size: 1rem;\n",
       "  line-height: 1em;\n",
       "  font-family: monospace;\n",
       "  background-color: var(--sklearn-color-background);\n",
       "  border-radius: 1rem;\n",
       "  height: 1rem;\n",
       "  width: 1rem;\n",
       "  text-decoration: none;\n",
       "  /* unfitted */\n",
       "  color: var(--sklearn-color-unfitted-level-1);\n",
       "  border: var(--sklearn-color-unfitted-level-1) 1pt solid;\n",
       "}\n",
       "\n",
       "#sk-container-id-1 a.estimator_doc_link.fitted {\n",
       "  /* fitted */\n",
       "  border: var(--sklearn-color-fitted-level-1) 1pt solid;\n",
       "  color: var(--sklearn-color-fitted-level-1);\n",
       "}\n",
       "\n",
       "/* On hover */\n",
       "#sk-container-id-1 a.estimator_doc_link:hover {\n",
       "  /* unfitted */\n",
       "  background-color: var(--sklearn-color-unfitted-level-3);\n",
       "  color: var(--sklearn-color-background);\n",
       "  text-decoration: none;\n",
       "}\n",
       "\n",
       "#sk-container-id-1 a.estimator_doc_link.fitted:hover {\n",
       "  /* fitted */\n",
       "  background-color: var(--sklearn-color-fitted-level-3);\n",
       "}\n",
       "</style><div id=\"sk-container-id-1\" class=\"sk-top-container\"><div class=\"sk-text-repr-fallback\"><pre>LinearRegression()</pre><b>In a Jupyter environment, please rerun this cell to show the HTML representation or trust the notebook. <br />On GitHub, the HTML representation is unable to render, please try loading this page with nbviewer.org.</b></div><div class=\"sk-container\" hidden><div class=\"sk-item\"><div class=\"sk-estimator fitted sk-toggleable\"><input class=\"sk-toggleable__control sk-hidden--visually\" id=\"sk-estimator-id-1\" type=\"checkbox\" checked><label for=\"sk-estimator-id-1\" class=\"sk-toggleable__label fitted sk-toggleable__label-arrow fitted\">&nbsp;&nbsp;LinearRegression<a class=\"sk-estimator-doc-link fitted\" rel=\"noreferrer\" target=\"_blank\" href=\"https://scikit-learn.org/1.4/modules/generated/sklearn.linear_model.LinearRegression.html\">?<span>Documentation for LinearRegression</span></a><span class=\"sk-estimator-doc-link fitted\">i<span>Fitted</span></span></label><div class=\"sk-toggleable__content fitted\"><pre>LinearRegression()</pre></div> </div></div></div></div>"
      ],
      "text/plain": [
       "LinearRegression()"
      ]
     },
     "execution_count": 42,
     "metadata": {},
     "output_type": "execute_result"
    }
   ],
   "source": [
    "from sklearn.linear_model import LinearRegression\n",
    "\n",
    "model = LinearRegression()\n",
    "model.fit(hours.reshape((-1, 1)), marks)"
   ]
  },
  {
   "cell_type": "markdown",
   "metadata": {},
   "source": [
    "We can access the slope and intercept regression coefficients of the model through the attributes `coef_` and `intercept_` of the model."
   ]
  },
  {
   "cell_type": "code",
   "execution_count": 43,
   "metadata": {},
   "outputs": [
    {
     "name": "stdout",
     "output_type": "stream",
     "text": [
      "[5.4] 45.2\n"
     ]
    }
   ],
   "source": [
    "print(model.coef_, model.intercept_)"
   ]
  },
  {
   "cell_type": "markdown",
   "metadata": {},
   "source": [
    "Now we can use the linear regression model $\\hat{y_i} = b_0 + b_1x_i$ to make predictions for the `marks` based on given values `hours` in the dataset."
   ]
  },
  {
   "cell_type": "code",
   "execution_count": 44,
   "metadata": {},
   "outputs": [],
   "source": [
    "marks_pred = model.intercept_ + model.coef_ * hours"
   ]
  },
  {
   "cell_type": "markdown",
   "metadata": {},
   "source": [
    "In the following cell, we plotted the actual data with blue markers and the obtained regression line with red color. The intercept with the y-axis is not shown in the plot, but we can notice that for `marks=0` the intercept would be around 45 as obtained in the previous cell. I.e., if the student studies 0 hours, the expected score is 45 marks. The slope of the regrestion line is 5.4, meaning that for each additional hour of study, the exam score is expected to increase by about 5.4 marks."
   ]
  },
  {
   "cell_type": "code",
   "execution_count": 45,
   "metadata": {},
   "outputs": [
    {
     "data": {
      "image/png": "[encoded data removed]",
      "text/plain": [
       "<Figure size 640x480 with 1 Axes>"
      ]
     },
     "metadata": {},
     "output_type": "display_data"
    }
   ],
   "source": [
    "plt.scatter(hours, marks, color='blue', label='Actual data')\n",
    "plt.plot(hours, marks_pred, color='red', label='Regression line')\n",
    "plt.xlabel('hours')\n",
    "plt.ylabel('marks')\n",
    "plt.legend()\n",
    "plt.show()"
   ]
  },
  {
   "cell_type": "markdown",
   "metadata": {},
   "source": [
    "The linear regression model in `scikit-learn` can also be applied to `pandas` DataFrames, besides `NnmPy` arrays.\n",
    "\n",
    "We will learn more about regression models in the subsequent lectures in this course. Here we covered an example of linear regression with one dependent and one independent variable, which is also referred to as *simple linear regression*, and is an example of a **univariate regression**. It is possible to consider multiple independent variables (e.g., using multiple input features) to predict another variable, referred to as **multiple regression**. And the problem of predicting the value of multiple dependent variables is called **multivariate regression**.\n",
    "\n",
    "Besides linear regression models which fit a line to a dataset, there are numerous non-linear regression models that fit a non-linear model to a dataset. Later in the course we will study non-linear regression models, such as Random Forest regression model, Support Vector regression model, Neural Networks, and other models. "
   ]
  },
  {
   "cell_type": "markdown",
   "metadata": {},
   "source": [
    "#### 10.2.1.1 Evaluating the Fit of a Regression Model"
   ]
  },
  {
   "cell_type": "markdown",
   "metadata": {},
   "source": [
    "Commonly used metrics for evaluating if the regression model is a good fit to a dataset are:\n",
    "\n",
    "* $R$-Squared value (coefficient of determination)\n",
    "* Mean Squared Error (MSE)\n",
    "* Root Mean Squared Error (RMSE)\n",
    "* Mean Absolute Error (MAE)\n"
   ]
  },
  {
   "cell_type": "markdown",
   "metadata": {},
   "source": [
    "##### 10.2.1.2 $R$-Squared Value (Coefficient of Determination)\n",
    "\n",
    "**$R$-squared** value or **$R^2$** is also known as the **coefficient of determination**. R-Squared measures how well the independent variable (e.g., `hours`) explains the variability of the dependent (predicted) variable (`marks`, in this case). Its value ranges from 0 to 1, where 0 means that the variance in the predicted variable is not explained by the model, and indicates a poor regression fit. Conversely, 1 means that the variance in the predicted variable is well explained by the model, and indicates a good fit where the predicted exam marks are close to the actual values of the exam marks.\n",
    "\n",
    "The coefficient of determination is calculated as: \n",
    "\n",
    "$R^2 = 1 - \\frac{\\sum_{i=1}^{n} (y_i - \\hat{y}_i)^2}{\\sum_{i=1}^{n} (y_i - \\bar{y})^2}= 1 - \\frac{RSS}{TSS}$\n",
    "\n",
    "The term in the numerator is called Residual Sum of Squares (RSS), and it is the sum of the squared differences for the residuals, i.e., between each actual value and the corresponding predicted value. It measures the variance that is not explained by the model. The term in the denominator is called Total Sum of Squares (TSS), and it is the sum of the squared differences between each actual value and the mean of the actual values. It measures the total variance in the dependent variable (exam marks). Overall, the R-squared equation measures the proportion of variance in the dependent variable (exam marks) that is predictable from the independent variable (hours) in a regression model. "
   ]
  },
  {
   "cell_type": "markdown",
   "metadata": {},
   "source": [
    "To calculate $R$-Squared, we can import `r2_score` from `scikit-learn`, and apply it by using the actual and the predicted values by a model. In this case, the value is 0.97, which means that 97% of the variance in the variable `marks` is explained by the `hours` studied. This suggests that the regression model is quite effective in predicting the exam marks based on the hours studied."
   ]
  },
  {
   "cell_type": "code",
   "execution_count": 46,
   "metadata": {},
   "outputs": [
    {
     "name": "stdout",
     "output_type": "stream",
     "text": [
      "0.9745989304812834\n"
     ]
    }
   ],
   "source": [
    "from sklearn.metrics import r2_score\n",
    "\n",
    "r2 = r2_score(marks, marks_pred)\n",
    "print(r2)"
   ]
  },
  {
   "cell_type": "markdown",
   "metadata": {},
   "source": [
    "For a simple linear regression with one independent variable, $R$-Squared is equal to the squared value of the Pearson correlation coefficient, i.e., $R^2=r^2$. Recall again that the correlation coefficient measures the strength and direction of the linear relationship between two variables, and it ranges from -1 to 1. $R$-Squared measures how well a regression model explains the variability in the predicted variable, and it ranges from 0 to 1."
   ]
  },
  {
   "cell_type": "markdown",
   "metadata": {},
   "source": [
    "##### 10.2.1.3 Mean Squared Error (MSE) and Root Mean Squared Error (RMSE)\n",
    "\n",
    "**Mean Squared Error (MSE)** is calculated as the average of the squared differences between the actual and predicted values. \n",
    "\n",
    "$\\text{MSE} = \\frac{1}{n} \\sum_{i=1}^{n} (y_i - \\hat{y}_i)^2$\n",
    "\n",
    "**Root Mean Squared Error (MSE)** is the square root of MSE. An advantage of RMSE in comparison to MSE is that it represents the error in the same units as the target variable.\n",
    "\n",
    "$\\text{RMSE} = \\sqrt{\\frac{1}{n} \\sum_{i=1}^{n} (y_i - \\hat{y}_i)^2}$"
   ]
  },
  {
   "cell_type": "markdown",
   "metadata": {},
   "source": [
    "MSE can be calculated by importing `mean_squared_error` from `scikit-learn`, and RMSE then is calculated as the square root of MSE. "
   ]
  },
  {
   "cell_type": "code",
   "execution_count": 47,
   "metadata": {},
   "outputs": [
    {
     "name": "stdout",
     "output_type": "stream",
     "text": [
      "1.5200000000000016\n"
     ]
    }
   ],
   "source": [
    "from sklearn.metrics import mean_squared_error\n",
    "\n",
    "mse = mean_squared_error(marks, marks_pred)\n",
    "print(mse)"
   ]
  },
  {
   "cell_type": "code",
   "execution_count": 48,
   "metadata": {},
   "outputs": [
    {
     "name": "stdout",
     "output_type": "stream",
     "text": [
      "1.232882800593796\n"
     ]
    }
   ],
   "source": [
    "rmse = mse ** 0.5\n",
    "print(rmse)"
   ]
  },
  {
   "cell_type": "markdown",
   "metadata": {},
   "source": [
    "##### 10.2.1.4 Mean Absolute Error (MAE)\n",
    "\n",
    "**Mean Absolute Error (MAE)** is calculated as the average of the absolute differences between the actual and predicted values. It quantifies how far predictions are from the true values.\n",
    "\n",
    "$\\text{MAE} = \\frac{1}{n} \\sum_{i=1}^{n} |y_i - \\hat{y}_i|$\n",
    "\n",
    "MAE can also be imported from `scikit-learn`."
   ]
  },
  {
   "cell_type": "code",
   "execution_count": 49,
   "metadata": {},
   "outputs": [
    {
     "name": "stdout",
     "output_type": "stream",
     "text": [
      "1.040000000000002\n"
     ]
    }
   ],
   "source": [
    "from sklearn.metrics import mean_absolute_error\n",
    "\n",
    "mae = mean_absolute_error(marks, marks_pred)\n",
    "print(mae)"
   ]
  },
  {
   "cell_type": "markdown",
   "metadata": {},
   "source": [
    "Smaller values of MSE, RMSE, and MAE are indicators of a better regression fit, and greater values of $R$-squared represent a better regression fit."
   ]
  },
  {
   "cell_type": "markdown",
   "metadata": {},
   "source": [
    "### 10.2.2 Standard Error of the Mean <a id=\"10.2.2-standard-error-of-the-mean\"/>"
   ]
  },
  {
   "cell_type": "markdown",
   "metadata": {},
   "source": [
    "The **standard error** estimates the variability of a sample statistic from the true population parameter. A commonly used standard error measure is for the sample mean. \n",
    "\n",
    "The **standard error of the mean (SEM)** is an inferential statistic that measures the variability of the sample mean as an estimate of the true population mean. It is often used in estimation methods, confidence intervals, and hypothesis testing.\n",
    "\n",
    "The SEM is the standard deviation of the sampling distribution of the sample mean. It quantifies how much the sample mean is expected to fluctuate from the true population mean if we repeatedly draw new samples from the population. \n",
    "\n",
    "To calculate SEM, we use the following formula:\n",
    "\n",
    "$\\text{SEM} = \\frac{\\sigma}{\\sqrt{n}}$\n",
    "\n",
    "In the formula, $\\sigma$ is the population standard deviation and $𝑛$ is the sample size. If the population standard deviation is unknown, the sample standard deviation $s$ is used.\n",
    " \n",
    "The SEM provides insight into the reliability of the sample mean as an estimate of the population mean. A smaller SEM indicates a more precise estimate, which is valuable for making statistical inferences."
   ]
  },
  {
   "cell_type": "markdown",
   "metadata": {},
   "source": [
    "In Python, we can calculate the standard error of the mean via the `sem()` function in `scipy.stats`. Large value of the standard error of the mean indicates more spread out values around the mean of the data."
   ]
  },
  {
   "cell_type": "code",
   "execution_count": 50,
   "metadata": {},
   "outputs": [
    {
     "data": {
      "text/plain": [
       "2.0014468450808804"
      ]
     },
     "execution_count": 50,
     "metadata": {},
     "output_type": "execute_result"
    }
   ],
   "source": [
    "data = [3, 4, 4, 5, 7, 8, 12, 14, 14, 15, 17, 19, 22, 24, 24, 24, 25, 28, 28, 29]\n",
    "\n",
    "scipy.stats.sem(data)"
   ]
  },
  {
   "cell_type": "code",
   "execution_count": 51,
   "metadata": {},
   "outputs": [
    {
     "data": {
      "text/plain": [
       "16.3"
      ]
     },
     "execution_count": 51,
     "metadata": {},
     "output_type": "execute_result"
    }
   ],
   "source": [
    "np.mean(data)"
   ]
  },
  {
   "cell_type": "markdown",
   "metadata": {},
   "source": [
    "Since the standard error of the mean depends on the sample size $n$, as the sample size increases, the standard error of the mean tends to decrease."
   ]
  },
  {
   "cell_type": "markdown",
   "metadata": {},
   "source": [
    "### 10.2.3 Confidence Intervals <a id=\"10.2.3-confidence-intervals\"/>"
   ]
  },
  {
   "cell_type": "markdown",
   "metadata": {},
   "source": [
    "A **confidence interval** is a range of values derived from sample data and used to estimate the true population parameter. The **confidence level** represents the degree of uncertainty associated with the estimate. For example, a 90% confidence level means that if the same sampling process is repeated multiple times, the true population mean would fall within the upper and lower values of the confidence interval 90 out of 100 times.\n",
    "\n",
    "The confidence interval (CI) is calculated with the following formula.\n",
    "\n",
    "$\\text{CI} = \\bar{x} \\pm Z \\cdot \\frac{\\sigma}{\\sqrt{n}}$\n",
    "\n",
    "In the formula, $\\bar{x}$ is the sample mean, $\\sigma$ is the population standard deviation, $n$ is the sample size, and $Z$ is the Z-score corresponding to the desired confidence level. Notice that the CI depends on the standard error of the mean ($\\text{SEM} = {\\sigma}/{\\sqrt{n}}$), and it can be written as $\\text{CI} = \\bar{x} \\pm Z \\cdot \\text{SEM}$."
   ]
  },
  {
   "cell_type": "markdown",
   "metadata": {},
   "source": [
    "The **Z-score** is a statistical measure that quantifies how many standard deviations a data point is from the mean of a distribution. It is a method for standardizing scores on a normal distribution. For a given value $x$ in a dataset with mean $\\bar{x}$ and standard deviation $\\sigma$, the Z-score is calculated as:\n",
    "\n",
    "$Z = \\frac{x - \\bar{x}}{\\sigma}$\n",
    "\n",
    "Example of Z-scores for Confidence Intervals:\n",
    "\n",
    "* 95% Confidence Interval: the Z-score corresponds to the critical value that leaves 2.5% in each tail of the normal distribution. The Z-score for a 95% confidence interval is approximately ±1.96. The figure below depicts the 95% confidence interval for the sample mean. \n",
    "* 99% Confidence Interval: the Z-score corresponds to the critical value that leaves 0.5% in each tail of the normal distribution. The Z-score for a 99% confidence interval is approximately ±2.58.\n",
    "\n",
    "<img src=\"images/CIDiagram.png\" width=\"400\">\n",
    "<em>Figure: 95% confidence interval.</em>."
   ]
  },
  {
   "cell_type": "markdown",
   "metadata": {},
   "source": [
    "All statistical software packages provide Z-scores for a desired confidence level. Additionally, Z-scores can be read from normal distribution tables, also called Z-tables. For example, to find the Z-score for a 95% confidence level, we need to locate the value in the table that leaves 2.5% in each tail, which corresponds to ±1.96.\n",
    "\n",
    "In the next example, we first draw 100 samples from a random uniform distribution having integer values between 5 and 10. Next, we calculate the sample mean and the standard error of the mean. Afterward, we use the `norm.interval()` function from `scipy.stats` to calculate the confidence interval. Arguments in the function are the confidence interval (set to 90%), the sample mean, and the standard error of the mean."
   ]
  },
  {
   "cell_type": "code",
   "execution_count": 52,
   "metadata": {},
   "outputs": [],
   "source": [
    "sample_data = np.random.randint(5, 10, 100) \n",
    "\n",
    "# sample mean\n",
    "sample_mean = np.mean(sample_data)\n",
    "# standard error of the mean\n",
    "sample_sem = scipy.stats.sem(sample_data)\n",
    "\n",
    "# 90% confidence interval for population mean \n",
    "confidence_interval = scipy.stats.norm.interval(confidence=0.90, loc=sample_mean, scale=sample_sem)"
   ]
  },
  {
   "cell_type": "markdown",
   "metadata": {},
   "source": [
    "In the next cell, the sample mean is 6.77, and the 90% confidence interval is from 6.55 to 6.99."
   ]
  },
  {
   "cell_type": "code",
   "execution_count": 53,
   "metadata": {},
   "outputs": [
    {
     "name": "stdout",
     "output_type": "stream",
     "text": [
      "6.76\n",
      "(6.54178550737387, 6.97821449262613)\n"
     ]
    }
   ],
   "source": [
    "print(sample_mean)\n",
    "print(confidence_interval)"
   ]
  },
  {
   "cell_type": "markdown",
   "metadata": {},
   "source": [
    "In the next cell we set the confidence level to 99%, that is, we want to be 99% sure the interval contains the true population mean. The resulting CI is between 6.39 and 7.15, and it is a wider interval because we are trying to capture the true mean with greater certainty, accounting for more possible variation in the data."
   ]
  },
  {
   "cell_type": "code",
   "execution_count": 54,
   "metadata": {},
   "outputs": [
    {
     "name": "stdout",
     "output_type": "stream",
     "text": [
      "6.76\n",
      "(6.4182776270450335, 7.101722372954966)\n"
     ]
    }
   ],
   "source": [
    "# 99% confidence interval for population mean \n",
    "confidence_interval = scipy.stats.norm.interval(confidence=0.99, loc=sample_mean, scale=sample_sem)\n",
    "\n",
    "print(sample_mean)\n",
    "print(confidence_interval)"
   ]
  },
  {
   "cell_type": "markdown",
   "metadata": {},
   "source": [
    "If the population standard deviation $\\sigma\\$ is unknown, we can use the sample standard deviation to calculate the CI using the following formula:\n",
    "\n",
    "$\\text{CI} = \\bar{x} \\pm t \\cdot \\frac{s}{\\sqrt{n}}$\n",
    "\n",
    "In this case, a $t$-score from the $t$-distribution is used that corresponds to the desired confidence level.\n",
    "\n",
    "Additionally, if the sample size is small and it is below 30 data points, the above formula based on $t$-score is used for calculating the CI."
   ]
  },
  {
   "cell_type": "markdown",
   "metadata": {},
   "source": [
    "Let's create a smaller dataset containing 16 data points first. We can calculate the confidence interval by using the `t.interval()` function from `scipy.stats`. The rest of the code is similar to the above cell, with the only difference that there is one additional parameter corresponding to the degree of freedom of the data."
   ]
  },
  {
   "cell_type": "code",
   "execution_count": 55,
   "metadata": {},
   "outputs": [],
   "source": [
    "sample_data = [1, 1, 1, 2, 2, 3, 3, 3, 4, 4, 5, 5, 6, 7, 8, 10] \n",
    "\n",
    "# sample mean\n",
    "sample_mean = np.mean(sample_data)\n",
    "# standard error of the mean\n",
    "sample_sem = scipy.stats.sem(sample_data)\n",
    "# degrees of freedome\n",
    "sample_df = len(sample_data)-1\n",
    "  \n",
    "# create 90% confidence interval \n",
    "confidence_interval = scipy.stats.t.interval(confidence=0.90, loc=sample_mean, scale=sample_sem, df=sample_df) "
   ]
  },
  {
   "cell_type": "code",
   "execution_count": 56,
   "metadata": {},
   "outputs": [
    {
     "name": "stdout",
     "output_type": "stream",
     "text": [
      "4.0625\n",
      "(2.903311331486366, 5.221688668513634)\n"
     ]
    }
   ],
   "source": [
    "print(sample_mean)\n",
    "print(confidence_interval)"
   ]
  },
  {
   "cell_type": "markdown",
   "metadata": {},
   "source": [
    "### 10.2.4 Hypothesis Testing <a id=\"10.2.4-hypothesis-testing\"/>"
   ]
  },
  {
   "cell_type": "markdown",
   "metadata": {},
   "source": [
    "Hypothesis testing is a fundamental statistical technique for making inferences about populations based on sample data. \n",
    "\n",
    "Hypothesis testing involves two main hypotheses:\n",
    "\n",
    "* Null Hypothesis ($H_0$): it is the default hypothesis that any observed changes are due to random chance. It serves as the baseline against which the alternative hypothesis is tested. For example, in a drug efficacy test, the null hypothesis can be \"The drug has no effect on patients.\"\n",
    "* Alternative Hypothesis ($H_1$, or $H_a$): it is the opposite of the null hypothesis and suggests that there is an effect or a difference, and the observed changes are not due to random chance. For the example with the drug test, the alternative hypothesis can be \"The drug has a significant effect on patients.\"\n",
    "\n",
    "In hypothesis testing, a low $p$-value (typically less than a significance level $\\alpha$, such as 0.05) results in rejecting the null hypothesis, suggesting that the alternative hypothesis may be true. Conversely, a high $p$-value indicates that the observed data is consistent with the null hypothesis, and there is insufficient evidence to reject the null hypothesis. \n",
    "\n",
    "Several types of hypothesis tests are used depending on the given data and research question. Following are common hypothesis tests."
   ]
  },
  {
   "cell_type": "markdown",
   "metadata": {},
   "source": [
    "\n",
    "**One-Sample t-Test**\n",
    "\n",
    "One-sample $t$-test is used to determine whether the mean of a sample is significantly different from a known value.\n",
    "\n",
    "The $t$-statistic is calculated as:\n",
    "\n",
    "$t = \\frac{\\bar{x} - \\mu_0}{\\frac{s}{\\sqrt{n}}}$\n",
    "\n",
    "where $\\bar{x}$ is the sample mean, $\\mu_0$ is the population mean under the null hypothesis, $s$ is the sample standard deviation, and $n$ is the sample size."
   ]
  },
  {
   "cell_type": "code",
   "execution_count": 57,
   "metadata": {},
   "outputs": [
    {
     "name": "stdout",
     "output_type": "stream",
     "text": [
      "1.4940357616679902 0.19539449179127277\n",
      "Fail to reject the null hypothesis\n"
     ]
    }
   ],
   "source": [
    "# Sample data\n",
    "data = np.array([2.3, 2.8, 2.5, 2.7, 3.1, 2.6])\n",
    "\n",
    "# Null hypothesis: mean = 2.5\n",
    "t_statistic, p_value = scipy.stats.ttest_1samp(data, 2.5)\n",
    "\n",
    "print(t_statistic, p_value)\n",
    "\n",
    "if p_value < 0.05:\n",
    "    print(\"Reject the null hypothesis\")\n",
    "else:\n",
    "    print(\"Fail to reject the null hypothesis\")"
   ]
  },
  {
   "cell_type": "code",
   "execution_count": 58,
   "metadata": {},
   "outputs": [
    {
     "data": {
      "text/plain": [
       "2.6666666666666665"
      ]
     },
     "execution_count": 58,
     "metadata": {},
     "output_type": "execute_result"
    }
   ],
   "source": [
    "np.mean(data)"
   ]
  },
  {
   "cell_type": "markdown",
   "metadata": {},
   "source": [
    "Since the $p$-value is greater than 0.05, we fail to reject the null hypothesis that the mean of `data` is 2.5, meaning there is no significant difference from 2.5."
   ]
  },
  {
   "cell_type": "markdown",
   "metadata": {},
   "source": [
    "**Two-Sample t-Test**\n",
    "\n",
    "This test is used to compare the means of two independent samples.\n",
    "\n",
    "The $t$-statistic is calculated as:\n",
    "\n",
    "$t = \\frac{\\bar{x}_1 - \\bar{x}_2}{\\sqrt{\\frac{s_1^2}{n_1} + \\frac{s_2^2}{n_2}}}$\n",
    "\n",
    "where $\\bar{x}_1$ and $\\bar{x}_1$ are the sample means, $s_1$ and  $s_2$ are the standard deviations, and $n_1$ and $n_2$ are the sample sizes. "
   ]
  },
  {
   "cell_type": "code",
   "execution_count": 59,
   "metadata": {},
   "outputs": [
    {
     "name": "stdout",
     "output_type": "stream",
     "text": [
      "-6.302287394737564 8.882097195524333e-05\n",
      "Reject the null hypothesis\n"
     ]
    }
   ],
   "source": [
    "# Sample data\n",
    "data1 = np.array([2.3, 2.8, 2.5, 2.7, 3.1, 2.6])\n",
    "data2 = np.array([3.2, 3.5, 3.6, 3.7, 3.8, 3.9])\n",
    "\n",
    "# Null hypothesis: means of data1 and data2 are equal\n",
    "t_statistic, p_value = scipy.stats.ttest_ind(data1, data2)\n",
    "\n",
    "print(t_statistic, p_value)\n",
    "\n",
    "if p_value < 0.05:\n",
    "    print(\"Reject the null hypothesis\")\n",
    "else:\n",
    "    print(\"Fail to reject the null hypothesis\")"
   ]
  },
  {
   "cell_type": "markdown",
   "metadata": {},
   "source": [
    "Since the $p$-value is less than 0.05, we reject the null hypothesis that the means of `data1` and `data2` are equal, and we conclude that the two sample means are significantly different."
   ]
  },
  {
   "cell_type": "markdown",
   "metadata": {},
   "source": [
    "**Paired t-Test**\n",
    "\n",
    "Paired $t$-test is used to compare the means of two related groups. For instance, when we have two measurements taken on the same sample or matched pairs before and after an intervention or change.\n",
    "\n",
    "The $t$-statistic is calculated as:\n",
    "\n",
    "$t = \\frac{\\bar{d}}{\\frac{s_d}{\\sqrt{n}}}$\n",
    "\n",
    "where $\\bar{d}$ is the mean difference between paired observations, $s_d$ is the standard deviation of the differences, and $n$ is the number of pairs."
   ]
  },
  {
   "cell_type": "code",
   "execution_count": 60,
   "metadata": {},
   "outputs": [
    {
     "name": "stdout",
     "output_type": "stream",
     "text": [
      "-6.9999999999999885 0.0009167475143984109\n",
      "Reject the null hypothesis\n"
     ]
    }
   ],
   "source": [
    "# Sample data\n",
    "before = np.array([2.3, 2.8, 2.5, 2.7, 3.1, 2.6])\n",
    "after = np.array([2.4, 2.9, 2.7, 2.8, 3.2, 2.7])\n",
    "\n",
    "# Null hypothesis: means of before and after are equal\n",
    "t_statistic, p_value = scipy.stats.ttest_rel(before, after)\n",
    "\n",
    "print(t_statistic, p_value)\n",
    "\n",
    "if p_value < 0.05:\n",
    "    print(\"Reject the null hypothesis\")\n",
    "else:\n",
    "    print(\"Fail to reject the null hypothesis\")"
   ]
  },
  {
   "cell_type": "markdown",
   "metadata": {},
   "source": [
    "The p-value is less than 0.05, therefore we reject the null hypothesis that the means are equal, and we conclude that the difference between the means before and after the intervention is statistically significant."
   ]
  },
  {
   "cell_type": "markdown",
   "metadata": {},
   "source": [
    "**Chi-Square Test**\n",
    "\n",
    "Chi-square test is used for categorical data to assess how likely it is that an observed distribution is due to chance.\n",
    "\n",
    "The test statistic is calculated as:\n",
    "\n",
    "$\\chi^2 = \\sum \\frac{(O_i - E_i)^2}{E_i}$\n",
    "\n",
    "where $O_i$ are the observed frequencies, and $E_i$ are the expected frequencies."
   ]
  },
  {
   "cell_type": "code",
   "execution_count": 61,
   "metadata": {},
   "outputs": [
    {
     "name": "stdout",
     "output_type": "stream",
     "text": [
      "20.0 0.00016974243555282632\n",
      "Reject the null hypothesis\n"
     ]
    }
   ],
   "source": [
    "# Observed frequencies\n",
    "observed = np.array([30, 10, 20, 40])\n",
    "\n",
    "# Expected frequencies\n",
    "expected = np.array([25, 25, 25, 25])\n",
    "\n",
    "# Null hypothesis: observed and expected frequencies are equal\n",
    "chi2_statistic, p_value = scipy.stats.chisquare(observed, expected)\n",
    "\n",
    "print(chi2_statistic, p_value)\n",
    "\n",
    "if p_value < 0.05:\n",
    "    print(\"Reject the null hypothesis\")\n",
    "else:\n",
    "    print(\"Fail to reject the null hypothesis\")"
   ]
  },
  {
   "cell_type": "markdown",
   "metadata": {},
   "source": [
    "The $p$-value is less than 0.05, therefore we reject the null hypothesis, and conclude that the observed frequencies differ significantly from the expected ones."
   ]
  },
  {
   "cell_type": "markdown",
   "metadata": {},
   "source": [
    "## References <a id=\"references\"/>\n",
    "\n",
    "1. Python Statistics Fundamentals: How to Describe Your Data, by Mirko Stojiljković, available at: [https://realpython.com/python-statistics/](https://realpython.com/python-statistics/).\n",
    "2. Learning Statistics with Python, by Ethan Weed, available at: [https://ethanweed.github.io/pythonbook/landingpage.html#](https://ethanweed.github.io/pythonbook/landingpage.html#).\n",
    "3. Correlation Coefficients: Appropriate Use and Interpretation, by Patrick Schober, Christa Boer, and Lothar A Schwarte, available at: [https://pubmed.ncbi.nlm.nih.gov/29481436/](https://pubmed.ncbi.nlm.nih.gov/29481436/)\n",
    "4. Linear and Nonlinear Correlations, available at: [https://rovusa.com/quantitative-statistical-methods-and-data-science/linear-and-nonlinear-correlations/](https://rovusa.com/quantitative-statistical-methods-and-data-science/linear-and-nonlinear-correlations/).\n",
    "5. Mastering Statistical Analysis in Python with Real-World Datasets, by Ratan Kumar Sajja, available at: [https://python.plainenglish.io/mastering-statistical-analysis-in-python-with-real-world-datasets-d5b60e541189](https://python.plainenglish.io/mastering-statistical-analysis-in-python-with-real-world-datasets-d5b60e541189).\n",
    "6. Applying Descriptive and Inferential Statistics in Python, by Cornellius Yudha Wijaya, available at: [https://www.kdnuggets.com/applying-descriptive-and-inferential-statistics-in-python](https://www.kdnuggets.com/applying-descriptive-and-inferential-statistics-in-python). "
   ]
  },
  {
   "cell_type": "markdown",
   "metadata": {},
   "source": [
    "[BACK TO TOP](#top)"
   ]
  }
 ],
 "metadata": {
  "kernelspec": {
   "display_name": "Python 3 (ipykernel)",
   "language": "python",
   "name": "python3"
  },
  "language_info": {
   "codemirror_mode": {
    "name": "ipython",
    "version": 3
   },
   "file_extension": ".py",
   "mimetype": "text/x-python",
   "name": "python",
   "nbconvert_exporter": "python",
   "pygments_lexer": "ipython3",
   "version": "3.11.5"
  }
 },
 "nbformat": 4,
 "nbformat_minor": 4
}
